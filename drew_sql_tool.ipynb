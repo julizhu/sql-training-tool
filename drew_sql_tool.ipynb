{
 "cells": [
  {
   "cell_type": "code",
   "execution_count": 36,
   "metadata": {},
   "outputs": [],
   "source": [
    "import pandas as pd\n",
    "import sqlalchemy import create_engine\n",
    "import psycopg2"
   ]
  },
  {
   "cell_type": "code",
   "execution_count": 31,
   "metadata": {},
   "outputs": [],
   "source": [
    "%reload_ext sql\n",
    "%config SqlMagic.displaylimit = 10"
   ]
  },
  {
   "cell_type": "code",
   "execution_count": 39,
   "metadata": {},
   "outputs": [
    {
     "name": "stderr",
     "output_type": "stream",
     "text": [
      "UsageError: Line magic function `%sql` not found.\n"
     ]
    }
   ],
   "source": [
    "%sql sqlite://"
   ]
  },
  {
   "cell_type": "markdown",
   "metadata": {},
   "source": [
    "## Introduction\n",
    "\n",
    "### Outline\n",
    "1. Intro to Jupyter notebooks\n",
    "2. Into to SQL Magic\n",
    "3. Overview of the exercise\n",
    "\n",
    "LET'S LEARN SQL!"
   ]
  },
  {
   "cell_type": "markdown",
   "metadata": {},
   "source": [
    "### Table Schema\n",
    "The below tables form the basis of a DVD store's operation. Maybe we'll learn what happened to Blockbuster through this exercise? "
   ]
  },
  {
   "cell_type": "markdown",
   "metadata": {},
   "source": [
    "<img src=\"files/dvd-rental-sample-database-diagram.png\">"
   ]
  },
  {
   "cell_type": "markdown",
   "metadata": {},
   "source": [
    "### The above diagram illustrates the relationship between tables in the database. Listed below is information for each table:\n",
    "\n",
    "**actor** – actors data including first name and last name.  \n",
    "**film** – film data such as title, release year, length, rating  \n",
    "**film_actor** – the relationships between films and actors.  \n",
    "**category** – film’s categories data.  \n",
    "**film_category** - the relationships between films and categories.  \n",
    "**store** – contains the store data including manager staff and address.  \n",
    "**inventory** – inventory data.  \n",
    "**rental** – rental data.  \n",
    "**payment** – customer’s payments.  \n",
    "**staff** – staff data.  \n",
    "**customer** – customers data.  \n",
    "**address** – address data for staff and customers  \n",
    "**city** –  city names.  \n",
    "**country** –  country names.  \n",
    "\n",
    "### In this exercise, we will work with five tables:\n",
    "1. rental\n",
    "2. customer\n",
    "3. payment\n",
    "4. inventory\n",
    "5. film"
   ]
  },
  {
   "cell_type": "markdown",
   "metadata": {},
   "source": [
    "## Section 1: Data Validation  (High Level)\n",
    "\n",
    "### Outline\n",
    "**Technical**   \n",
    "- Primary Keys\n",
    "    - Duped Primary Keys\n",
    "\n",
    "**Story**   \n",
    "- Familiarize with customer, payments, rental + respective join keys\n",
    "\n",
    "**Content**  \n",
    "When working with a new data source, it is crucial to QA before integrating the source into your development or analysis. This section will provide a framework for performing high-level checks with common queries.\n",
    "\n",
    "### Identify Primary Keys\n",
    "In each table, there should be a field (or combination of fields) that uniquely identifies a row. These unique identifiers are referred to as the table's **primary key**. In the schema above, the primary key for each table is indicated by a * next to the field name (notice that film_category and film_actor each have a primary key with two fields). However, documentation can be incorrect, so it's necessary to verify before moving forward.    \n",
    "\n",
    "But how do we do this? We can compare a distinct value count for a given field (or combination of fields) to the total number of rows in the table. Let's do this with the rental table. \n",
    "\n",
    "### Example Query 1:"
   ]
  },
  {
   "cell_type": "code",
   "execution_count": 5,
   "metadata": {},
   "outputs": [
    {
     "name": "stdout",
     "output_type": "stream",
     "text": [
      " * postgresql+psycopg2://andrewmahler@localhost:5432/sqltool\n",
      "1 rows affected.\n"
     ]
    },
    {
     "data": {
      "text/html": [
       "<table>\n",
       "    <tr>\n",
       "        <th>number_of_rows</th>\n",
       "        <th>rental_id_count</th>\n",
       "        <th>rental_date_count</th>\n",
       "        <th>inventory_id_count</th>\n",
       "        <th>customer_id_count</th>\n",
       "        <th>staff_id_count</th>\n",
       "        <th>last_update_count</th>\n",
       "    </tr>\n",
       "    <tr>\n",
       "        <td>16044</td>\n",
       "        <td>16044</td>\n",
       "        <td>15815</td>\n",
       "        <td>4580</td>\n",
       "        <td>599</td>\n",
       "        <td>2</td>\n",
       "        <td>3</td>\n",
       "    </tr>\n",
       "</table>"
      ],
      "text/plain": [
       "[(16044, 16044, 15815, 4580, 599, 2, 3)]"
      ]
     },
     "execution_count": 5,
     "metadata": {},
     "output_type": "execute_result"
    }
   ],
   "source": [
    "%%sql\n",
    "-- Investigating distinct values for each field to determine what identifies a unique row \n",
    "SELECT\n",
    "    COUNT(*) as number_of_rows,\n",
    "    COUNT(DISTINCT rental_id) as rental_id_count,\n",
    "    COUNT(DISTINCT rental_date) as rental_date_count,\n",
    "    COUNT(DISTINCT inventory_id) as inventory_id_count, \n",
    "    COUNT(DISTINCT customer_id) as customer_id_count,\n",
    "    COUNT(DISTINCT staff_id) as staff_id_count, \n",
    "    COUNT(DISTINCT last_update) as last_update_count\n",
    "FROM rental"
   ]
  },
  {
   "cell_type": "markdown",
   "metadata": {},
   "source": [
    "After running the above query, we are able to confirm that **rental_id is the primary key for the rental table**, as the total number of rows matches the number of distinct rental_ids. However, this query also provides other interesting information:\n",
    "\n",
    "1. We have 599 customers, but 16,044 transactions! People sure liked DVD rentals in 2006. I wonder what sort of disruptive technologies appeared in the late 2000s to change this...\n",
    "\n",
    "2. There are only 2 staff members who have autorized rentals (work-life balance doesn't exist in this database).\n",
    "\n",
    "3. There are 3 different instances of last_update_count, indicating that rows in the table have been modified at different points.\n",
    "\n",
    "### Test Query 1.1: In the cell below, write a query to determine the primary key for the payment table. "
   ]
  },
  {
   "cell_type": "code",
   "execution_count": 6,
   "metadata": {},
   "outputs": [
    {
     "name": "stdout",
     "output_type": "stream",
     "text": [
      " * postgresql+psycopg2://andrewmahler@localhost:5432/sqltool\n",
      "1 rows affected.\n"
     ]
    },
    {
     "data": {
      "text/html": [
       "<table>\n",
       "    <tr>\n",
       "    </tr>\n",
       "    <tr>\n",
       "    </tr>\n",
       "</table>"
      ],
      "text/plain": [
       "[()]"
      ]
     },
     "execution_count": 6,
     "metadata": {},
     "output_type": "execute_result"
    }
   ],
   "source": [
    "%%sql\n",
    "select"
   ]
  },
  {
   "cell_type": "markdown",
   "metadata": {},
   "source": [
    "### Question 1.1: What is the primary key for the payment table? Assign a string to the answer variable and run the cell."
   ]
  },
  {
   "cell_type": "code",
   "execution_count": 7,
   "metadata": {},
   "outputs": [
    {
     "name": "stdout",
     "output_type": "stream",
     "text": [
      "Correct!\n"
     ]
    }
   ],
   "source": [
    "answer = \"payment_id\"\n",
    "PaymentPrimaryKeyQuestion(answer)"
   ]
  },
  {
   "cell_type": "markdown",
   "metadata": {},
   "source": [
    "### Test Query 1.2: In the cell below, write a query to determine the primary key for the customer table."
   ]
  },
  {
   "cell_type": "code",
   "execution_count": 8,
   "metadata": {},
   "outputs": [
    {
     "name": "stdout",
     "output_type": "stream",
     "text": [
      " * postgresql+psycopg2://andrewmahler@localhost:5432/sqltool\n",
      "1 rows affected.\n"
     ]
    },
    {
     "data": {
      "text/html": [
       "<table>\n",
       "    <tr>\n",
       "    </tr>\n",
       "    <tr>\n",
       "    </tr>\n",
       "</table>"
      ],
      "text/plain": [
       "[()]"
      ]
     },
     "execution_count": 8,
     "metadata": {},
     "output_type": "execute_result"
    }
   ],
   "source": [
    "%%sql\n",
    "select"
   ]
  },
  {
   "cell_type": "markdown",
   "metadata": {},
   "source": [
    "### Question 1.2: What is the primary key for the customer table? Assign a string to answer variable and run the cell."
   ]
  },
  {
   "cell_type": "code",
   "execution_count": 9,
   "metadata": {},
   "outputs": [
    {
     "name": "stdout",
     "output_type": "stream",
     "text": [
      "Correct!\n"
     ]
    }
   ],
   "source": [
    "answer = \"customer_id\"\n",
    "CustomerPrimaryKeyQuestion(answer)"
   ]
  },
  {
   "cell_type": "markdown",
   "metadata": {},
   "source": [
    "## Section 2: Data Validation (Data Types)\n",
    "\n",
    "### Outline\n",
    "**Technical**    \n",
    "- String Data Type\n",
    "- Date Data Type\n",
    "\n",
    "**Story**\n",
    "- Familiarize with film + inventory (from strings)\n",
    "- Highlight date considerations for customer, payments, and rental\n",
    "\n",
    "### Content  \n",
    "Now we know the primary keys for the rental, payment, and customer tables. But what are these fields? Let's investigate the rental table's data types. The syntax for describing data types is dependent on the type of SQL you are using. In this tutorial, we are using **PostgreSQL**.   \n",
    "\n",
    "**NOTE:** If you're working in Databricks, you can use the SQL command \"describe [table_name]\" to output the schema.\n",
    "\n",
    "#### TO ADD: List of SQL variations that use the query below\n",
    "\n",
    "### Example Query 2:"
   ]
  },
  {
   "cell_type": "code",
   "execution_count": 10,
   "metadata": {},
   "outputs": [
    {
     "name": "stdout",
     "output_type": "stream",
     "text": [
      " * postgresql+psycopg2://andrewmahler@localhost:5432/sqltool\n",
      "7 rows affected.\n"
     ]
    },
    {
     "data": {
      "text/html": [
       "<table>\n",
       "    <tr>\n",
       "        <th>column_name</th>\n",
       "        <th>data_type</th>\n",
       "    </tr>\n",
       "    <tr>\n",
       "        <td>rental_id</td>\n",
       "        <td>integer</td>\n",
       "    </tr>\n",
       "    <tr>\n",
       "        <td>rental_date</td>\n",
       "        <td>timestamp without time zone</td>\n",
       "    </tr>\n",
       "    <tr>\n",
       "        <td>inventory_id</td>\n",
       "        <td>integer</td>\n",
       "    </tr>\n",
       "    <tr>\n",
       "        <td>customer_id</td>\n",
       "        <td>smallint</td>\n",
       "    </tr>\n",
       "    <tr>\n",
       "        <td>return_date</td>\n",
       "        <td>timestamp without time zone</td>\n",
       "    </tr>\n",
       "    <tr>\n",
       "        <td>staff_id</td>\n",
       "        <td>smallint</td>\n",
       "    </tr>\n",
       "    <tr>\n",
       "        <td>last_update</td>\n",
       "        <td>timestamp without time zone</td>\n",
       "    </tr>\n",
       "</table>"
      ],
      "text/plain": [
       "[('rental_id', 'integer'),\n",
       " ('rental_date', 'timestamp without time zone'),\n",
       " ('inventory_id', 'integer'),\n",
       " ('customer_id', 'smallint'),\n",
       " ('return_date', 'timestamp without time zone'),\n",
       " ('staff_id', 'smallint'),\n",
       " ('last_update', 'timestamp without time zone')]"
      ]
     },
     "execution_count": 10,
     "metadata": {},
     "output_type": "execute_result"
    }
   ],
   "source": [
    "%%sql\n",
    "select column_name, data_type \n",
    "from information_schema.columns\n",
    "-- Change the table_name to the table you want to investigate\n",
    "where table_name = 'rental';"
   ]
  },
  {
   "cell_type": "code",
   "execution_count": 11,
   "metadata": {},
   "outputs": [],
   "source": [
    "# TO DO: Modify the the payment table/customer table so the join keys are different across different tables.\n",
    "# i.e. rental_table is an integer in one table and a string in another table\n",
    "# other note: could also add leading 0s to some of the join keys"
   ]
  },
  {
   "cell_type": "markdown",
   "metadata": {},
   "source": [
    "### Test Query 2: In the cell below, write a query to determine the data types for the payment table."
   ]
  },
  {
   "cell_type": "code",
   "execution_count": 23,
   "metadata": {},
   "outputs": [
    {
     "name": "stdout",
     "output_type": "stream",
     "text": [
      " * postgresql+psycopg2://andrewmahler@localhost:5432/sqltool\n",
      "1 rows affected.\n"
     ]
    },
    {
     "data": {
      "text/html": [
       "<table>\n",
       "    <tr>\n",
       "    </tr>\n",
       "    <tr>\n",
       "    </tr>\n",
       "</table>"
      ],
      "text/plain": [
       "[()]"
      ]
     },
     "execution_count": 23,
     "metadata": {},
     "output_type": "execute_result"
    }
   ],
   "source": [
    "%%sql\n",
    "select"
   ]
  },
  {
   "cell_type": "markdown",
   "metadata": {},
   "source": [
    "### Question 2: What is the data type for the amount field in the payment table? Assign a string to the answer variable and run the cell."
   ]
  },
  {
   "cell_type": "code",
   "execution_count": 24,
   "metadata": {},
   "outputs": [
    {
     "name": "stdout",
     "output_type": "stream",
     "text": [
      "Correct!\n"
     ]
    }
   ],
   "source": [
    "answer = \"numeric\"\n",
    "PaymentDataTypeQuestion(answer)"
   ]
  },
  {
   "cell_type": "markdown",
   "metadata": {},
   "source": [
    "### Strings\n",
    "A string is a sequence of characters, either as a  constant or as a variable. Strings are used to represent text, but numbers and dates may still be string types.    \n",
    "     \n",
    "#### Example Strings: \n",
    "“String”, “Str!nG2!”, “34578”, “U84-32-12-44”, “2018-12-10”  \n",
    "  \n",
    "### Substrings\n",
    "When working with strings, you may want to investigate certain portions of strings in your table (AKA substrings). For example, **“Cascade”** is a substring of **“Cascade Data Labs”**.  \n",
    "  \n",
    "**NOTE:**  \n",
    "There are many functions in SQL used to pull substrings. The most common are **LEFT(string, length)** (pulls from the string’s left side) , **RIGHT(string, length)** (pulls from the string’s right side), and **SUBSTRING**(**expression** (string to match for), **start** (first character is 1), **length** (inclusive of start)).    "
   ]
  },
  {
   "cell_type": "markdown",
   "metadata": {},
   "source": [
    "### String Matching\n",
    "When working with data, you often want to filter your output to certain instances of strings. For example, you may want to filter out specific products or filter for a certain customer. We will investigate the different methods in string matching through the films and inventory tables.\n",
    "\n",
    "**WHERE-RELATIONAL OPERATOR Clause**  \n",
    "The WHERE-RELATIONAL OPERATOR Clause is the simplest string matching method (and is not limited to the string data type), but also the least robust. \n",
    "\n",
    "**TIP:** For exact string matching of alphabetical strings, it is often easiest to user **UPPER(** string **)** (function to make entire string uppercase) on the word you are searching for, as string data can be inconsistent.\n",
    "\n",
    "**Film Table**\n",
    "To get a sense for the information in the film table, let's pull all the fields for the film \"Airport Pollock\". \n",
    "\n",
    "### TO DO: Figure out a way to articulate why single cases are useful in QA, specifically in tracking issues\n",
    "\n",
    "### Example Query 3:"
   ]
  },
  {
   "cell_type": "code",
   "execution_count": 25,
   "metadata": {},
   "outputs": [
    {
     "name": "stdout",
     "output_type": "stream",
     "text": [
      " * postgresql+psycopg2://andrewmahler@localhost:5432/sqltool\n",
      "1 rows affected.\n"
     ]
    },
    {
     "data": {
      "text/html": [
       "<table>\n",
       "    <tr>\n",
       "        <th>film_id</th>\n",
       "        <th>title</th>\n",
       "        <th>description</th>\n",
       "        <th>release_year</th>\n",
       "        <th>language_id</th>\n",
       "        <th>rental_duration</th>\n",
       "        <th>rental_rate</th>\n",
       "        <th>length</th>\n",
       "        <th>replacement_cost</th>\n",
       "        <th>rating</th>\n",
       "        <th>last_update</th>\n",
       "        <th>special_features</th>\n",
       "    </tr>\n",
       "    <tr>\n",
       "        <td>8</td>\n",
       "        <td>Airport Pollock</td>\n",
       "        <td>A Epic Tale of a Moose And a Girl who must Confront a Monkey in Ancient India</td>\n",
       "        <td>2006</td>\n",
       "        <td>1</td>\n",
       "        <td>6</td>\n",
       "        <td>4.99</td>\n",
       "        <td>54</td>\n",
       "        <td>15.99</td>\n",
       "        <td>R</td>\n",
       "        <td>2013-05-26 14:50:58.951000</td>\n",
       "        <td>[&#x27;Trailers&#x27;]</td>\n",
       "    </tr>\n",
       "</table>"
      ],
      "text/plain": [
       "[(8, 'Airport Pollock', 'A Epic Tale of a Moose And a Girl who must Confront a Monkey in Ancient India', 2006, 1, 6, Decimal('4.99'), 54, Decimal('15.99'), 'R', datetime.datetime(2013, 5, 26, 14, 50, 58, 951000), ['Trailers'])]"
      ]
     },
     "execution_count": 25,
     "metadata": {},
     "output_type": "execute_result"
    }
   ],
   "source": [
    "%%sql\n",
    "SELECT * \n",
    "FROM film \n",
    "-- WHERE-RELATIONAL OPERATOR CLAUSE\n",
    "WHERE UPPER(title) = 'AIRPORT POLLOCK'"
   ]
  },
  {
   "cell_type": "markdown",
   "metadata": {},
   "source": [
    "The above output reveals some interesting things about this film table:\n",
    "\n",
    "    1. This DVD store contains films where moose are protagonists and monkeys are anti-heroes.\n",
    "    2. Values for the special features field are arrays."
   ]
  },
  {
   "cell_type": "markdown",
   "metadata": {},
   "source": [
    "### Test Query 3:  In the cell below, write a query to pull the description, release_year, and rental_rate for the film \"african egg\". Begin the query below \"answer <<\" "
   ]
  },
  {
   "cell_type": "code",
   "execution_count": 26,
   "metadata": {},
   "outputs": [
    {
     "name": "stdout",
     "output_type": "stream",
     "text": [
      " * postgresql+psycopg2://andrewmahler@localhost:5432/sqltool\n",
      "1 rows affected.\n",
      "Returning data to local variable answer\n"
     ]
    }
   ],
   "source": [
    "%%sql \n",
    "answer << \n",
    "select description, release_year, rental_rate from film where UPPER(title) = 'AFRICAN EGG'"
   ]
  },
  {
   "cell_type": "markdown",
   "metadata": {},
   "source": [
    "### Question 3: Run the below cell after you've run Test Query 3"
   ]
  },
  {
   "cell_type": "code",
   "execution_count": 20,
   "metadata": {
    "scrolled": true
   },
   "outputs": [
    {
     "name": "stdout",
     "output_type": "stream",
     "text": [
      "Correct!\n"
     ]
    }
   ],
   "source": [
    "# Check your query by running this cell\n",
    "''' \n",
    "NOTE: The output of a dataframe contains an index that uniquely identifies rows,\n",
    "which is different than the output of a SQL query. \n",
    "\n",
    "This does not mean that it serves as the table's primary key.\n",
    "'''\n",
    "AfricanEggQuestion(answer)"
   ]
  },
  {
   "cell_type": "markdown",
   "metadata": {},
   "source": [
    "**WHERE-LIKE Clause**  \n",
    "In that last query, we pulled rows with the title \"african egg\". But what if we we wanted to pull rows where the title contains the word \"africa\" (or an extension of the word like african). In order to accomplish this, you need the LIKE clause, which allows for pattern matching. The LIKE clause uses wildcards to identify patterns. There are two wildcards used in conjunction with the LIKE operator:   \n",
    "    1. % The percent sign represents zero, one, or multiple characters       \n",
    "    2. _ The underscore represents a single character\n",
    "  \n",
    "**TIP**: When pattern matching, make your search pattern as specific as possible. The more general your pattern is, the more likely it will return unexpected outputs.\n",
    "\n",
    "### Example Query 4:"
   ]
  },
  {
   "cell_type": "code",
   "execution_count": 22,
   "metadata": {},
   "outputs": [
    {
     "name": "stdout",
     "output_type": "stream",
     "text": [
      " * postgresql+psycopg2://andrewmahler@localhost:5432/sqltool\n",
      "3 rows affected.\n"
     ]
    },
    {
     "data": {
      "text/html": [
       "<table>\n",
       "    <tr>\n",
       "        <th>film_id</th>\n",
       "        <th>title</th>\n",
       "    </tr>\n",
       "    <tr>\n",
       "        <td>5</td>\n",
       "        <td>African Egg</td>\n",
       "    </tr>\n",
       "    <tr>\n",
       "        <td>472</td>\n",
       "        <td>Italian African</td>\n",
       "    </tr>\n",
       "    <tr>\n",
       "        <td>637</td>\n",
       "        <td>Open African</td>\n",
       "    </tr>\n",
       "</table>"
      ],
      "text/plain": [
       "[(5, 'African Egg'), (472, 'Italian African'), (637, 'Open African')]"
      ]
     },
     "execution_count": 22,
     "metadata": {},
     "output_type": "execute_result"
    }
   ],
   "source": [
    "%%sql\n",
    "SELECT film_id, title FROM film WHERE UPPER(title) LIKE '%AFRICA%'"
   ]
  },
  {
   "cell_type": "markdown",
   "metadata": {},
   "source": [
    "## Section 3: Joins + Subqueries\n",
    "Technical Points:\n",
    "- Basic Joins\n",
    "- Dupes that result from joins\n",
    "- Left Join vs Inner Join vs Anti Join\n",
    "- Subqueries\n",
    "    - Optimizing joins/only join what's needed via subqueries\n",
    "    \n",
    "Story Points:\n",
    "- Connect film + inventory\n",
    "- Connect rental, payment, + customer\n",
    "- General outline for our analysis"
   ]
  },
  {
   "cell_type": "markdown",
   "metadata": {},
   "source": [
    "## Section 4: Conditional Logic\n",
    "Technical Points:\n",
    "- Complicated Logic\n",
    "- Case Statements\n",
    "    - Flags\n",
    "- DISTINCT Case\n",
    "\n",
    "Story Points:\n",
    "- Outline conditions that will feed into final analysis framework"
   ]
  },
  {
   "cell_type": "code",
   "execution_count": null,
   "metadata": {},
   "outputs": [],
   "source": [
    "# Does the above section include case statements?"
   ]
  },
  {
   "cell_type": "markdown",
   "metadata": {},
   "source": [
    "## Section 5: Aggregation, Grouping, and Windowing Functions\n",
    "\n",
    "Technical Points:\n",
    "- Limitations of granularity: rolling up is NOT reversible\n",
    "- Aggregate functions\n",
    "- Aggregate functions with case statements\n",
    "- Partition functions\n",
    "\n",
    "Story Points:\n",
    "- Final aggregation of analysis tables\n",
    "- Add visuals afterwards\n",
    "- Ends \"Stage 1\" of the SQL Tool"
   ]
  },
  {
   "cell_type": "markdown",
   "metadata": {},
   "source": [
    "## Section 6: Advanced Concepts"
   ]
  },
  {
   "cell_type": "markdown",
   "metadata": {},
   "source": [
    "## APPENDIX:\n",
    "\n",
    "### Julie Join Notes: \n",
    "\n",
    "#### Joins \n",
    "So far, we have explored how to query information from a single table and transform the values within that table. However, in the situation where the information we need does not exist in our current table, a join is needed to append the appropriate data onto the data set. \n",
    "\n",
    "#### Joins for Data Creation \n",
    "Types of Joins\n",
    "Different types of joins will yield different result tables. It is recommended that the final result table is planned out and thought through before performing the join. Let us use the tables mentioned above as examples (pos_line_item and cust_attributes). \n",
    "\n",
    "Note that to join any two tables together, a join key should be used so that the table knows which rows to append together. The join key is typically a field in one table that is supposed to match to a field in the second table. Let’s assume we have two tables, one on the left and one on the right. \n",
    "\n",
    "#### Examples once data is added \n",
    "An **inner** join returns records that have matching values in both tables\n",
    "\n",
    "A **left** join returns all records from the left table and corresponding matched values from the right table \n",
    "\n",
    "A **right** join returns all records from the right table and corresponding matched values from the left table\n",
    "Note that this is essentially the same as a left join but with the right table\n",
    "\n",
    "An **outer** join returns all records from both tables, but will match the values if the join key is validated\n",
    "\n",
    "An **anti** join returns the records if there is no match in either table   \n",
    "\n",
    "#### Join Keys\n",
    "##### Equality vs. inequality  \n",
    "Join keys are the most essential part of a join. A typical join key, as noted in the previous section, consists of a statement that connects one field in the left table to one field in the right table. Typical join statements use equality, but using inequality in join statements is possible. \n",
    "\n",
    "**Joins for Data Filtering**   \n",
    "Joins are more useful than just appending on new data from different sources. They are also effective in optimizing a slow query when rows need to be filtered out (as opposed to using a where clause in conjunction with the “in” function). There are two joins that can help you accomplish this: (1) inner joins and (2) anti joins. \n",
    "\n",
    "Examples once data is added\n",
    "\n",
    "**Inner Join**\n",
    "\n",
    "**Anti Join**   \n",
    "Tips for Joins   \n",
    "Extra caution is needed when joining on a string join key. It is possible that these strings are capitalized differently and encoded differently. It is best practice to check the join key in both tables before performing the join and if needed, mutate the join key so that they match.\n",
    "\n",
    "Examples once data is added\n",
    "For example, for trim(upper(name)) = trim(upper(campaign))\n",
    "\n",
    "Before performing a join, think about what you want the final data set to look like. Write out all the features and which tables you need to retrieve those fields from before you join tables together. This will help you be organized and write cleaner code. \n",
    "\n",
    "Try to alias tables with a small identifier that is descriptive of the table you are querying from. Tag each field you select with the table identifier so that each field is pulled exactly from the table you want.\n",
    "\n"
   ]
  },
  {
   "cell_type": "code",
   "execution_count": null,
   "metadata": {},
   "outputs": [],
   "source": []
  }
 ],
 "metadata": {
  "kernelspec": {
   "display_name": "Python 3",
   "language": "python",
   "name": "python3"
  },
  "language_info": {
   "codemirror_mode": {
    "name": "ipython",
    "version": 3
   },
   "file_extension": ".py",
   "mimetype": "text/x-python",
   "name": "python",
   "nbconvert_exporter": "python",
   "pygments_lexer": "ipython3",
   "version": "3.6.5"
  }
 },
 "nbformat": 4,
 "nbformat_minor": 2
}

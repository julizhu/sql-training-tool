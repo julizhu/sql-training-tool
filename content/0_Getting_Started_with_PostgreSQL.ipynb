{
 "cells": [
  {
   "cell_type": "markdown",
   "metadata": {},
   "source": [
    "## Getting Started with PostgreSQL\n",
    "\n",
    "SQL stands for Structured Querying Language. It is a simple yet powerful language that can retrieve relevant data to any kind of project. There are several flavors of SQL (i.e. SQLlite, MySQL, Oracle SQL...). In this particular training, we will be using PostgreSQL to learn some basics as well as walkthrough common pitfalls and SQL tricks. \n",
    "\n",
    "The set-up of this Github repository has a Postgres server running in the background in a remote environment (only the repo is local). \n",
    "\n",
    "This notebook will go over how to interact with the server and some commands to help you out if you get stuck. The rest of the exercises will assume that you have a basic understanding of SQL (SELECT, FROM, WHERE etc.)"
   ]
  },
  {
   "cell_type": "markdown",
   "metadata": {},
   "source": [
    "### Command Line\n",
    "\n",
    "We can connect to the database using `psql`:"
   ]
  },
  {
   "cell_type": "code",
   "execution_count": 8,
   "metadata": {},
   "outputs": [
    {
     "name": "stdout",
     "output_type": "stream",
     "text": [
      "psql is the PostgreSQL interactive terminal.\r\n",
      "\r\n",
      "Usage:\r\n",
      "  psql [OPTION]... [DBNAME [USERNAME]]\r\n",
      "\r\n",
      "General options:\r\n",
      "  -c, --command=COMMAND    run only single command (SQL or internal) and exit\r\n",
      "  -d, --dbname=DBNAME      database name to connect to (default: \"juliezhu\")\r\n",
      "  -f, --file=FILENAME      execute commands from file, then exit\r\n",
      "  -l, --list               list available databases, then exit\r\n",
      "  -v, --set=, --variable=NAME=VALUE\r\n",
      "                           set psql variable NAME to VALUE\r\n",
      "                           (e.g., -v ON_ERROR_STOP=1)\r\n",
      "  -V, --version            output version information, then exit\r\n",
      "  -X, --no-psqlrc          do not read startup file (~/.psqlrc)\r\n",
      "  -1 (\"one\"), --single-transaction\r\n",
      "                           execute as a single transaction (if non-interactive)\r\n",
      "  -?, --help[=options]     show this help, then exit\r\n",
      "      --help=commands      list backslash commands, then exit\r\n",
      "      --help=variables     list special variables, then exit\r\n",
      "\r\n",
      "Input and output options:\r\n",
      "  -a, --echo-all           echo all input from script\r\n",
      "  -b, --echo-errors        echo failed commands\r\n",
      "  -e, --echo-queries       echo commands sent to server\r\n",
      "  -E, --echo-hidden        display queries that internal commands generate\r\n",
      "  -L, --log-file=FILENAME  send session log to file\r\n",
      "  -n, --no-readline        disable enhanced command line editing (readline)\r\n",
      "  -o, --output=FILENAME    send query results to file (or |pipe)\r\n",
      "  -q, --quiet              run quietly (no messages, only query output)\r\n",
      "  -s, --single-step        single-step mode (confirm each query)\r\n",
      "  -S, --single-line        single-line mode (end of line terminates SQL command)\r\n",
      "\r\n",
      "Output format options:\r\n",
      "  -A, --no-align           unaligned table output mode\r\n",
      "  -F, --field-separator=STRING\r\n",
      "                           field separator for unaligned output (default: \"|\")\r\n",
      "  -H, --html               HTML table output mode\r\n",
      "  -P, --pset=VAR[=ARG]     set printing option VAR to ARG (see \\pset command)\r\n",
      "  -R, --record-separator=STRING\r\n",
      "                           record separator for unaligned output (default: newline)\r\n",
      "  -t, --tuples-only        print rows only\r\n",
      "  -T, --table-attr=TEXT    set HTML table tag attributes (e.g., width, border)\r\n",
      "  -x, --expanded           turn on expanded table output\r\n",
      "  -z, --field-separator-zero\r\n",
      "                           set field separator for unaligned output to zero byte\r\n",
      "  -0, --record-separator-zero\r\n",
      "                           set record separator for unaligned output to zero byte\r\n",
      "\r\n",
      "Connection options:\r\n",
      "  -h, --host=HOSTNAME      database server host or socket directory (default: \"local socket\")\r\n",
      "  -p, --port=PORT          database server port (default: \"5432\")\r\n",
      "  -U, --username=USERNAME  database user name (default: \"juliezhu\")\r\n",
      "  -w, --no-password        never prompt for password\r\n",
      "  -W, --password           force password prompt (should happen automatically)\r\n",
      "\r\n",
      "For more information, type \"\\?\" (for internal commands) or \"\\help\" (for SQL\r\n",
      "commands) from within psql, or consult the psql section in the PostgreSQL\r\n",
      "documentation.\r",
      "\r\n",
      "\r\n",
      "Report bugs to <pgsql-bugs@postgresql.org>.\r\n"
     ]
    }
   ],
   "source": [
    "!psql --help"
   ]
  },
  {
   "cell_type": "code",
   "execution_count": 9,
   "metadata": {},
   "outputs": [
    {
     "name": "stdout",
     "output_type": "stream",
     "text": [
      "                                  List of databases\r\n",
      "   Name    |  Owner   | Encoding |   Collate   |    Ctype    |   Access privileges   \r\n",
      "-----------+----------+----------+-------------+-------------+-----------------------\r\n",
      " juliezhu  | juliezhu | UTF8     | en_US.UTF-8 | en_US.UTF-8 | \r\n",
      " postgres  | postgres | UTF8     | en_US.UTF-8 | en_US.UTF-8 | \r\n",
      " template0 | postgres | UTF8     | en_US.UTF-8 | en_US.UTF-8 | =c/postgres          +\r\n",
      "           |          |          |             |             | postgres=CTc/postgres\r\n",
      " template1 | postgres | UTF8     | en_US.UTF-8 | en_US.UTF-8 | =c/postgres          +\r\n",
      "           |          |          |             |             | postgres=CTc/postgres\r\n",
      "(4 rows)\r\n",
      "\r\n"
     ]
    }
   ],
   "source": [
    "# Running a SQL command using the command-line\n",
    "# This command lists all the databases we have\n",
    "!psql -d postgres -c '\\l'"
   ]
  },
  {
   "cell_type": "markdown",
   "metadata": {},
   "source": [
    "### SQL Magic Commands\n",
    "\n",
    "While setting up this environment, we have installed SQL magic. This allows for direct execution of SQL statements without any python wrappers. "
   ]
  },
  {
   "cell_type": "code",
   "execution_count": 10,
   "metadata": {},
   "outputs": [
    {
     "name": "stdout",
     "output_type": "stream",
     "text": [
      "The sql extension is already loaded. To reload it, use:\n",
      "  %reload_ext sql\n"
     ]
    },
    {
     "data": {
      "text/plain": [
       "'Connected: @postgres'"
      ]
     },
     "execution_count": 10,
     "metadata": {},
     "output_type": "execute_result"
    }
   ],
   "source": [
    "# Load the SQL magic extension\n",
    "%load_ext sql\n",
    "# Connect to the default database (using SQLAlchemy)\n",
    "%sql postgresql://localhost/postgres"
   ]
  },
  {
   "cell_type": "code",
   "execution_count": 11,
   "metadata": {},
   "outputs": [],
   "source": [
    "# Introduction to SQL magic (run this command)\n",
    "# Note that to run querying commands you need two percent signs '%%sql'\n",
    "%sql?"
   ]
  },
  {
   "cell_type": "code",
   "execution_count": 12,
   "metadata": {},
   "outputs": [
    {
     "name": "stdout",
     "output_type": "stream",
     "text": [
      " * postgresql://localhost/postgres\n",
      "5 rows affected.\n"
     ]
    },
    {
     "data": {
      "text/html": [
       "<table>\n",
       "    <tr>\n",
       "        <th>schemaname</th>\n",
       "        <th>tablename</th>\n",
       "        <th>tableowner</th>\n",
       "        <th>tablespace</th>\n",
       "        <th>hasindexes</th>\n",
       "        <th>hasrules</th>\n",
       "        <th>hastriggers</th>\n",
       "        <th>rowsecurity</th>\n",
       "    </tr>\n",
       "    <tr>\n",
       "        <td>pg_catalog</td>\n",
       "        <td>pg_statistic</td>\n",
       "        <td>postgres</td>\n",
       "        <td>None</td>\n",
       "        <td>True</td>\n",
       "        <td>False</td>\n",
       "        <td>False</td>\n",
       "        <td>False</td>\n",
       "    </tr>\n",
       "    <tr>\n",
       "        <td>pg_catalog</td>\n",
       "        <td>pg_type</td>\n",
       "        <td>postgres</td>\n",
       "        <td>None</td>\n",
       "        <td>True</td>\n",
       "        <td>False</td>\n",
       "        <td>False</td>\n",
       "        <td>False</td>\n",
       "    </tr>\n",
       "    <tr>\n",
       "        <td>pg_catalog</td>\n",
       "        <td>pg_policy</td>\n",
       "        <td>postgres</td>\n",
       "        <td>None</td>\n",
       "        <td>True</td>\n",
       "        <td>False</td>\n",
       "        <td>False</td>\n",
       "        <td>False</td>\n",
       "    </tr>\n",
       "    <tr>\n",
       "        <td>pg_catalog</td>\n",
       "        <td>pg_authid</td>\n",
       "        <td>postgres</td>\n",
       "        <td>pg_global</td>\n",
       "        <td>True</td>\n",
       "        <td>False</td>\n",
       "        <td>False</td>\n",
       "        <td>False</td>\n",
       "    </tr>\n",
       "    <tr>\n",
       "        <td>public</td>\n",
       "        <td>actor</td>\n",
       "        <td>juliezhu</td>\n",
       "        <td>None</td>\n",
       "        <td>True</td>\n",
       "        <td>False</td>\n",
       "        <td>False</td>\n",
       "        <td>False</td>\n",
       "    </tr>\n",
       "</table>"
      ],
      "text/plain": [
       "[('pg_catalog', 'pg_statistic', 'postgres', None, True, False, False, False),\n",
       " ('pg_catalog', 'pg_type', 'postgres', None, True, False, False, False),\n",
       " ('pg_catalog', 'pg_policy', 'postgres', None, True, False, False, False),\n",
       " ('pg_catalog', 'pg_authid', 'postgres', 'pg_global', True, False, False, False),\n",
       " ('public', 'actor', 'juliezhu', None, True, False, False, False)]"
      ]
     },
     "execution_count": 12,
     "metadata": {},
     "output_type": "execute_result"
    }
   ],
   "source": [
    "%%sql\n",
    "-- Show all tables in the default database\n",
    "-- Use a \"--\" to enter one-line comments\n",
    "select * from pg_catalog.pg_tables limit 5;"
   ]
  }
 ],
 "metadata": {
  "kernelspec": {
   "display_name": "Python 3",
   "language": "python",
   "name": "python3"
  },
  "language_info": {
   "codemirror_mode": {
    "name": "ipython",
    "version": 3
   },
   "file_extension": ".py",
   "mimetype": "text/x-python",
   "name": "python",
   "nbconvert_exporter": "python",
   "pygments_lexer": "ipython3",
   "version": "3.6.5"
  }
 },
 "nbformat": 4,
 "nbformat_minor": 2
}

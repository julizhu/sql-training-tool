{
 "cells": [
  {
   "cell_type": "markdown",
   "metadata": {},
   "source": [
    "## Aggregation and Grouping"
   ]
  },
  {
   "cell_type": "code",
   "execution_count": 1,
   "metadata": {},
   "outputs": [],
   "source": [
    "# Load the SQL magic extension\n",
    "%load_ext sql\n",
    "# Connect to the default database (using SQLAlchemy)\n",
    "%sql postgresql://localhost/postgres\n",
    "# Truncate output of your queries so that it's not blowing up the notebook\n",
    "%config SqlMagic.displaylimit = 10"
   ]
  },
  {
   "cell_type": "markdown",
   "metadata": {},
   "source": [
    "## Section 5: Aggregation, Grouping, and Windowing Functions\n",
    "\n",
    "Technical Points:\n",
    "- Limitations of granularity: rolling up is NOT reversible\n",
    "- Aggregate functions\n",
    "- Aggregate functions with case statements\n",
    "- Partition functions\n",
    "\n",
    "Story Points:\n",
    "- Final aggregation of analysis tables\n",
    "- Add visuals afterwards\n",
    "- Ends \"Stage 1\" of the SQL Tool"
   ]
  }
 ],
 "metadata": {
  "kernelspec": {
   "display_name": "Python 3",
   "language": "python",
   "name": "python3"
  },
  "language_info": {
   "codemirror_mode": {
    "name": "ipython",
    "version": 3
   },
   "file_extension": ".py",
   "mimetype": "text/x-python",
   "name": "python",
   "nbconvert_exporter": "python",
   "pygments_lexer": "ipython3",
   "version": "3.6.5"
  }
 },
 "nbformat": 4,
 "nbformat_minor": 2
}

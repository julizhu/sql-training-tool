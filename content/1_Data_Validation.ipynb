{
 "cells": [
  {
   "cell_type": "markdown",
   "metadata": {},
   "source": [
    "## Introduction to Data Validation\n",
    "\n",
    "One of the most important parts of starting a data science project is data. This exercise will go through some approaches/techniques to understand the data, check assumptions, and validate it appropriately. "
   ]
  },
  {
   "cell_type": "code",
   "execution_count": 2,
   "metadata": {},
   "outputs": [],
   "source": [
    "# Load the SQL magic extension\n",
    "%load_ext sql\n",
    "# Connect to the default database (using SQLAlchemy)\n",
    "%sql postgresql://localhost/postgres\n",
    "# Truncate output of your queries so that it's not blowing up the notebook\n",
    "%config SqlMagic.displaylimit = 10"
   ]
  },
  {
   "cell_type": "markdown",
   "metadata": {},
   "source": [
    "### Data and Table Schemas\n",
    "\n",
    "The set of tables we will be using for all the exercises is the default Postgres rental DVD data. The schema of the tables and how they link together can be found below. Each field listed underneath the table names and marked with an asterisk denotes the [primary key](#Primary-Key) of the table. \n",
    "\n",
    "Maybe we'll learn what happened to Blockbuster through this exercise?\n",
    "You can find more documentation on the data set [here](http://www.postgresqltutorial.com/postgresql-sample-database/)."
   ]
  },
  {
   "cell_type": "markdown",
   "metadata": {},
   "source": [
    "<img src=\"http://www.postgresqltutorial.com/wp-content/uploads/2018/03/dvd-rental-sample-database-diagram.png\">"
   ]
  },
  {
   "cell_type": "markdown",
   "metadata": {},
   "source": [
    "### Primary Key\n",
    "\n",
    "More often than not, a data table should have a primary key or keys. These are typically one attribute or a combination of attributes that unique identifies a row. The primary key ultimately determines the granularity of the table. \n",
    "\n",
    "In the schema above, notice that all tables have a primary key or keys(note that the tables film_category and film_actor each have a primary key with two fields).\n",
    "\n",
    "However, how do you know that the documentation is accurate? For situations like these, it is best to verify for yourself before moving forward. To start validating, understand the dimensions of the table and what fields exist. Let's start by examining the rental table. "
   ]
  },
  {
   "cell_type": "code",
   "execution_count": null,
   "metadata": {},
   "outputs": [],
   "source": [
    "%%sql\n",
    "-- Select all fields from the table to look at each field\n",
    "-- Is there anything in particular that you feel weird about?\n",
    "select * from rental limit 5;"
   ]
  },
  {
   "cell_type": "markdown",
   "metadata": {},
   "source": [
    "How many rows does the rental data have? You can use two functions here:\n",
    "\n",
    "[`sum(1)`](https://www.techonthenet.com/sql/sum.php) adds up the value 1 for each row in the data set <br>\n",
    "[`count(*)`](https://www.techonthenet.com/sql/count.php) counts all of the rows"
   ]
  },
  {
   "cell_type": "code",
   "execution_count": null,
   "metadata": {},
   "outputs": [],
   "source": [
    "%%sql\n",
    "-- How many rows does the rental data set have?\n",
    "-- Enter your query here!"
   ]
  },
  {
   "cell_type": "markdown",
   "metadata": {},
   "source": [
    "How do you count distinct values? Sometimes rows will have duplicate values and in that case we don't want to double count. We can use the clause [`distinct`](https://www.techonthenet.com/sql/distinct.php) here. Note that `distinct` is not a function but a keyword, like `select`, `where`, and `from`."
   ]
  },
  {
   "cell_type": "code",
   "execution_count": null,
   "metadata": {},
   "outputs": [],
   "source": [
    "%%sql\n",
    "-- Investigating distinct values for rental_id to confirm primary key\n",
    "select\n",
    "  sum(1) as number_of_rows,\n",
    "  count(distinct rental_id) as rental_id_count\n",
    "from\n",
    "  rental"
   ]
  },
  {
   "cell_type": "markdown",
   "metadata": {},
   "source": [
    "Awesome! So we checked whether rental_id is the correct granularity for the `rental` table. Now that we know the granularity of the rental table, the other types of data validation will depend on the exact fields in the table. Let's look at the table one more time."
   ]
  },
  {
   "cell_type": "code",
   "execution_count": null,
   "metadata": {},
   "outputs": [],
   "source": [
    "%%sql\n",
    "select * from rental limit 5;"
   ]
  },
  {
   "cell_type": "markdown",
   "metadata": {},
   "source": [
    "Note that for the first few rows, rental_date is way later than return date for these rentals. What does this mean? Check if this is happening for other rows. Should the manager be concerned that our data is wrong?\n",
    "\n",
    "One of the keys to data validation and performing data cleaning is understanding the impact of bugs we find. Since there are a total of 16K rows, how many rows have a super early return_date? What percent of the total rows have this bug?"
   ]
  },
  {
   "cell_type": "code",
   "execution_count": null,
   "metadata": {},
   "outputs": [],
   "source": [
    "%%sql\n",
    "-- How many rows contain the bug?\n",
    "-- Enter your query here!"
   ]
  },
  {
   "cell_type": "markdown",
   "metadata": {},
   "source": [
    "SQL also can perform mathematical operations as well. See an example below and try your hand at sizing the impact of the bug we found."
   ]
  },
  {
   "cell_type": "code",
   "execution_count": 6,
   "metadata": {},
   "outputs": [
    {
     "name": "stdout",
     "output_type": "stream",
     "text": [
      " * postgresql://localhost/postgres\n",
      "5 rows affected.\n"
     ]
    },
    {
     "data": {
      "text/html": [
       "<table>\n",
       "    <tr>\n",
       "        <th>thirty_five</th>\n",
       "        <th>one_half</th>\n",
       "    </tr>\n",
       "    <tr>\n",
       "        <td>35</td>\n",
       "        <td>0</td>\n",
       "    </tr>\n",
       "    <tr>\n",
       "        <td>35</td>\n",
       "        <td>0</td>\n",
       "    </tr>\n",
       "    <tr>\n",
       "        <td>35</td>\n",
       "        <td>0</td>\n",
       "    </tr>\n",
       "    <tr>\n",
       "        <td>35</td>\n",
       "        <td>0</td>\n",
       "    </tr>\n",
       "    <tr>\n",
       "        <td>35</td>\n",
       "        <td>0</td>\n",
       "    </tr>\n",
       "</table>"
      ],
      "text/plain": [
       "[(35, 0), (35, 0), (35, 0), (35, 0), (35, 0)]"
      ]
     },
     "execution_count": 6,
     "metadata": {},
     "output_type": "execute_result"
    }
   ],
   "source": [
    "%%sql\n",
    "select\n",
    "  5 * 7 as thirty_five,\n",
    "  1 / 2 as one_half\n",
    "from\n",
    "  rental\n",
    "limit 5"
   ]
  },
  {
   "cell_type": "code",
   "execution_count": null,
   "metadata": {},
   "outputs": [],
   "source": [
    "%%sql\n",
    "-- What percent of total rows have this bug?\n",
    "-- Enter your query here!"
   ]
  },
  {
   "cell_type": "markdown",
   "metadata": {},
   "source": [
    "Do you think this bug will effect top-level metrics? In general, ~10% and above for bugs are pretty impactful. If the impact is <1%, don't worry about it unless you are filtering to a tiny portion of the dataset where that proportion blows up even more. <br>\n",
    "\n",
    "\n",
    "Fortunately and unfortunately, this issue we found here is not a real bug. In this particular data table, `return_date` has a default date (in this case, in the 1900s) for rentals that have not been returned yet. Sometimes you find information about tables that you don't find anywhere else. Many of our clients have an internal wiki page that will detail these pitfalls and traps. Always ask for context!"
   ]
  },
  {
   "cell_type": "markdown",
   "metadata": {},
   "source": [
    "### Distributions\n",
    "\n",
    "In addition to understanding the granularity of the table, data validation is a combination of spot checking single rows through manual examination, but also sanity checks at a higher granularity. This typically involves understanding the distribution of a certain variable across the entire data set. We will go over distributions when we get to the grouping chapter later on."
   ]
  }
 ],
 "metadata": {
  "kernelspec": {
   "display_name": "Python 3",
   "language": "python",
   "name": "python3"
  },
  "language_info": {
   "codemirror_mode": {
    "name": "ipython",
    "version": 3
   },
   "file_extension": ".py",
   "mimetype": "text/x-python",
   "name": "python",
   "nbconvert_exporter": "python",
   "pygments_lexer": "ipython3",
   "version": "3.6.5"
  }
 },
 "nbformat": 4,
 "nbformat_minor": 2
}

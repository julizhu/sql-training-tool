{
 "cells": [
  {
   "cell_type": "markdown",
   "metadata": {},
   "source": [
    "## Joins and Subqueries\n",
    "\n",
    "Joins make data interesting. You can get a broader and wider range of data if you join muliple tables together. However, joins are also one of the most complicated and expensive operations in SQL. Be sure your SQL coding style is clean and readable!\n",
    "\n",
    "This section we'll be exploring:\n",
    "\n",
    "* Join Syntax\n",
    "* Duplication from Joins\n",
    "* Types of Joins\n",
    "* Subqueries and Join Optimization"
   ]
  },
  {
   "cell_type": "code",
   "execution_count": 1,
   "metadata": {},
   "outputs": [],
   "source": [
    "# Load the SQL magic extension\n",
    "%load_ext sql\n",
    "# Connect to the default database (using SQLAlchemy)\n",
    "%sql postgresql://localhost/postgres\n",
    "# Truncate output of your queries so that it's not blowing up the notebook\n",
    "%config SqlMagic.displaylimit = 10"
   ]
  },
  {
   "cell_type": "markdown",
   "metadata": {},
   "source": [
    "### Join Syntax\n",
    "\n",
    "So far, we have explored how to query information from a single table and transform the values within that table. However, in the situation where the information we need does not exist in our current table, a join is needed to append the appropriate data onto the data set. \n",
    "\n",
    "Let's look at the syntax of a basic join. Note that we have to specify the tables we are joining together, and the type of join, and then the join key to determine how we're joining the two tables together."
   ]
  },
  {
   "cell_type": "code",
   "execution_count": 23,
   "metadata": {},
   "outputs": [
    {
     "name": "stdout",
     "output_type": "stream",
     "text": [
      " * postgresql://localhost/postgres\n",
      "1 rows affected.\n"
     ]
    },
    {
     "data": {
      "text/html": [
       "<table>\n",
       "    <tr>\n",
       "        <th>film_id</th>\n",
       "        <th>title</th>\n",
       "        <th>description</th>\n",
       "        <th>release_year</th>\n",
       "        <th>language_id</th>\n",
       "        <th>rental_duration</th>\n",
       "        <th>rental_rate</th>\n",
       "        <th>length</th>\n",
       "        <th>replacement_cost</th>\n",
       "        <th>rating</th>\n",
       "        <th>last_update</th>\n",
       "        <th>special_features</th>\n",
       "        <th>full_text</th>\n",
       "        <th>language_id_1</th>\n",
       "        <th>name</th>\n",
       "        <th>last_update_1</th>\n",
       "    </tr>\n",
       "    <tr>\n",
       "        <td>133</td>\n",
       "        <td>Chamber Italian</td>\n",
       "        <td>A Fateful Reflection of a Moose And a Husband who must Overcome a Monkey in Nigeria</td>\n",
       "        <td>1975</td>\n",
       "        <td>1</td>\n",
       "        <td>7</td>\n",
       "        <td>4.99</td>\n",
       "        <td>117</td>\n",
       "        <td>14.99</td>\n",
       "        <td>NC-17</td>\n",
       "        <td>2006-02-15 09:46:00</td>\n",
       "        <td>[&#x27;Trailers&#x27;]</td>\n",
       "        <td>&#x27;chamber&#x27;:1 &#x27;fate&#x27;:4 &#x27;husband&#x27;:11 &#x27;italian&#x27;:2 &#x27;monkey&#x27;:16 &#x27;moos&#x27;:8 &#x27;must&#x27;:13 &#x27;nigeria&#x27;:18 &#x27;overcom&#x27;:14 &#x27;reflect&#x27;:5</td>\n",
       "        <td>1</td>\n",
       "        <td>English             </td>\n",
       "        <td>2006-02-15 10:02:00</td>\n",
       "    </tr>\n",
       "</table>"
      ],
      "text/plain": [
       "[(133, 'Chamber Italian', 'A Fateful Reflection of a Moose And a Husband who must Overcome a Monkey in Nigeria', 1975, 1, 7, 4.99, 117, 14.99, 'NC-17', datetime.datetime(2006, 2, 15, 9, 46), ['Trailers'], \"'chamber':1 'fate':4 'husband':11 'italian':2 'monkey':16 'moos':8 'must':13 'nigeria':18 'overcom':14 'reflect':5\", 1, 'English             ', datetime.datetime(2006, 2, 15, 10, 2))]"
      ]
     },
     "execution_count": 23,
     "metadata": {},
     "output_type": "execute_result"
    }
   ],
   "source": [
    "%%sql\n",
    "-- Join query for film on to language\n",
    "select \n",
    "  * \n",
    "from \n",
    "  film -- Left Table\n",
    "join -- Type of Join\n",
    "  language -- Right Table\n",
    "on film.language_id = language.language_id -- Join Key\n",
    "limit 1"
   ]
  },
  {
   "cell_type": "markdown",
   "metadata": {},
   "source": [
    "#### Joins for Data Creation \n",
    "\n",
    "Different types of joins will yield different result tables. It is recommended that the final result table is planned out and thought through before performing the join. Let's consider the case above where we want to know what language each film is to better give a description to the customer.\n",
    "\n",
    "Note that to join any two tables together, a join key should be used so that the table knows which rows to append together. The join key is typically a field in one table that is supposed to match to a field in the second table. \n",
    "\n",
    "**Join Types**\n",
    "Let’s assume we have two tables, one on the left and one on the right. \n",
    "\n",
    "* An **inner** join returns records that have matching values in both tables. The most basic type of join.\n",
    "* A **left** join returns all records from the left table and corresponding matched values from the right table \n",
    "* A **right** join returns all records from the right table and corresponding matched values from the left table (Note that this is essentially the same as a left join but with the right table)\n",
    "* An **full** or **outer** join returns all records from both tables, but will match the values if the join key is validated\n",
    "* An **anti** join returns the records if there is no match in either table  \n",
    "\n",
    "Before performing a join, think about what you want the final data set to look like. Write out all the features and which tables you need to retrieve those fields from before you join tables together. This will help you be organized and write cleaner code. "
   ]
  },
  {
   "cell_type": "code",
   "execution_count": 21,
   "metadata": {},
   "outputs": [
    {
     "name": "stdout",
     "output_type": "stream",
     "text": [
      " * postgresql://localhost/postgres\n",
      "1 rows affected.\n"
     ]
    },
    {
     "data": {
      "text/html": [
       "<table>\n",
       "    <tr>\n",
       "        <th>film_id</th>\n",
       "        <th>title</th>\n",
       "        <th>description</th>\n",
       "        <th>release_year</th>\n",
       "        <th>language_id</th>\n",
       "        <th>rental_duration</th>\n",
       "        <th>rental_rate</th>\n",
       "        <th>length</th>\n",
       "        <th>replacement_cost</th>\n",
       "        <th>rating</th>\n",
       "        <th>last_update</th>\n",
       "        <th>special_features</th>\n",
       "        <th>full_text</th>\n",
       "        <th>language_id_1</th>\n",
       "        <th>name</th>\n",
       "        <th>last_update_1</th>\n",
       "    </tr>\n",
       "    <tr>\n",
       "        <td>133</td>\n",
       "        <td>Chamber Italian</td>\n",
       "        <td>A Fateful Reflection of a Moose And a Husband who must Overcome a Monkey in Nigeria</td>\n",
       "        <td>1975</td>\n",
       "        <td>1</td>\n",
       "        <td>7</td>\n",
       "        <td>4.99</td>\n",
       "        <td>117</td>\n",
       "        <td>14.99</td>\n",
       "        <td>NC-17</td>\n",
       "        <td>2006-02-15 09:46:00</td>\n",
       "        <td>[&#x27;Trailers&#x27;]</td>\n",
       "        <td>&#x27;chamber&#x27;:1 &#x27;fate&#x27;:4 &#x27;husband&#x27;:11 &#x27;italian&#x27;:2 &#x27;monkey&#x27;:16 &#x27;moos&#x27;:8 &#x27;must&#x27;:13 &#x27;nigeria&#x27;:18 &#x27;overcom&#x27;:14 &#x27;reflect&#x27;:5</td>\n",
       "        <td>1</td>\n",
       "        <td>English             </td>\n",
       "        <td>2006-02-15 10:02:00</td>\n",
       "    </tr>\n",
       "</table>"
      ],
      "text/plain": [
       "[(133, 'Chamber Italian', 'A Fateful Reflection of a Moose And a Husband who must Overcome a Monkey in Nigeria', 1975, 1, 7, 4.99, 117, 14.99, 'NC-17', datetime.datetime(2006, 2, 15, 9, 46), ['Trailers'], \"'chamber':1 'fate':4 'husband':11 'italian':2 'monkey':16 'moos':8 'must':13 'nigeria':18 'overcom':14 'reflect':5\", 1, 'English             ', datetime.datetime(2006, 2, 15, 10, 2))]"
      ]
     },
     "execution_count": 21,
     "metadata": {},
     "output_type": "execute_result"
    }
   ],
   "source": [
    "%%sql\n",
    "-- Join the table film onto language\n",
    "-- What type of join do you use and why? Think about what the granularity of the final table will be.\n",
    "select \n",
    "  * \n",
    "from \n",
    "  film\n",
    "left join\n",
    "  language \n",
    "on film.language_id = language.language_id\n",
    "limit 1"
   ]
  },
  {
   "cell_type": "code",
   "execution_count": 24,
   "metadata": {},
   "outputs": [
    {
     "name": "stdout",
     "output_type": "stream",
     "text": [
      " * postgresql://localhost/postgres\n",
      "1 rows affected.\n"
     ]
    },
    {
     "data": {
      "text/html": [
       "<table>\n",
       "    <tr>\n",
       "        <th>num_rows</th>\n",
       "    </tr>\n",
       "    <tr>\n",
       "        <td>1000</td>\n",
       "    </tr>\n",
       "</table>"
      ],
      "text/plain": [
       "[(1000,)]"
      ]
     },
     "execution_count": 24,
     "metadata": {},
     "output_type": "execute_result"
    }
   ],
   "source": [
    "%%sql\n",
    "-- How many rows is the output of the above query?\n",
    "select \n",
    "  sum(1) as num_rows\n",
    "from \n",
    "  film\n",
    "left join\n",
    "  language \n",
    "on film.language_id = language.language_id"
   ]
  },
  {
   "cell_type": "code",
   "execution_count": 25,
   "metadata": {},
   "outputs": [
    {
     "name": "stdout",
     "output_type": "stream",
     "text": [
      " * postgresql://localhost/postgres\n",
      "1 rows affected.\n"
     ]
    },
    {
     "data": {
      "text/html": [
       "<table>\n",
       "    <tr>\n",
       "        <th>sum</th>\n",
       "    </tr>\n",
       "    <tr>\n",
       "        <td>1005</td>\n",
       "    </tr>\n",
       "</table>"
      ],
      "text/plain": [
       "[(1005,)]"
      ]
     },
     "execution_count": 25,
     "metadata": {},
     "output_type": "execute_result"
    }
   ],
   "source": [
    "%%sql\n",
    "-- Try using a different join than the one you used above for the same query\n",
    "-- Do you get the same number of rows? If not, why?\n",
    "select \n",
    "  sum(1)\n",
    "from \n",
    "  film\n",
    "right join\n",
    "  language \n",
    "on film.language_id = language.language_id"
   ]
  },
  {
   "cell_type": "markdown",
   "metadata": {},
   "source": [
    "Lastly, check how many films listed are foreign language films."
   ]
  },
  {
   "cell_type": "code",
   "execution_count": 17,
   "metadata": {},
   "outputs": [
    {
     "name": "stdout",
     "output_type": "stream",
     "text": [
      " * postgresql://localhost/postgres\n",
      "0 rows affected.\n"
     ]
    },
    {
     "data": {
      "text/html": [
       "<table>\n",
       "    <tr>\n",
       "        <th>film_id</th>\n",
       "        <th>title</th>\n",
       "        <th>description</th>\n",
       "        <th>release_year</th>\n",
       "        <th>language_id</th>\n",
       "        <th>rental_duration</th>\n",
       "        <th>rental_rate</th>\n",
       "        <th>length</th>\n",
       "        <th>replacement_cost</th>\n",
       "        <th>rating</th>\n",
       "        <th>last_update</th>\n",
       "        <th>special_features</th>\n",
       "        <th>full_text</th>\n",
       "        <th>language_id_1</th>\n",
       "        <th>name</th>\n",
       "        <th>last_update_1</th>\n",
       "    </tr>\n",
       "</table>"
      ],
      "text/plain": [
       "[]"
      ]
     },
     "execution_count": 17,
     "metadata": {},
     "output_type": "execute_result"
    }
   ],
   "source": [
    "%%sql\n",
    "-- How many films aren't in the English language?\n",
    "select \n",
    "  * \n",
    "from \n",
    "  film\n",
    "left join\n",
    "  language \n",
    "on film.language_id = language.language_id\n",
    "where\n",
    "  trim(upper(language.name)) <> 'ENGLISH'"
   ]
  },
  {
   "cell_type": "markdown",
   "metadata": {},
   "source": [
    "### Join Keys\n",
    "\n",
    "Join keys are the most essential part of a join. A typical join key, as noted in the previous section, consists of a statement that connects one field in the left table to one field in the right table. Typical join statements use equality, but using inequality in join statements is possible. \n",
    "\n",
    "Extra caution is needed when joining on a string join key. It is possible that these strings are capitalized differently and encoded differently. It is best practice to check the join key in both tables before performing the join and if needed, mutate the join key so that they match."
   ]
  },
  {
   "cell_type": "markdown",
   "metadata": {},
   "source": [
    "**Joins for Data Filtering**   \n",
    "Joins are more useful than just appending on new data from different sources. They are also effective in optimizing a slow query when rows need to be filtered out (as opposed to using a where clause in conjunction with the “in” function). There are two joins that can help you accomplish this: (1) inner joins and (2) anti joins. \n",
    "\n",
    "* **Inner joins** are a filtering join because it discards the rows that don't have a match in both the left and right tables.\n",
    "* **Anti joins** are a filtering join because it discards rows that do have a match in both the left and right tables. Exact opposite of an inner join! Note that anti joins aren't supported in Postgres"
   ]
  },
  {
   "cell_type": "code",
   "execution_count": 42,
   "metadata": {},
   "outputs": [
    {
     "name": "stdout",
     "output_type": "stream",
     "text": [
      " * postgresql://localhost/postgres\n",
      "57 rows affected.\n"
     ]
    },
    {
     "data": {
      "text/html": [
       "<table>\n",
       "    <tr>\n",
       "        <th>film_id</th>\n",
       "        <th>category_id</th>\n",
       "        <th>last_update</th>\n",
       "        <th>category_id_1</th>\n",
       "        <th>name</th>\n",
       "        <th>last_update_1</th>\n",
       "    </tr>\n",
       "    <tr>\n",
       "        <td>41.0</td>\n",
       "        <td>16.0</td>\n",
       "        <td>2006-02-15 10:07:09</td>\n",
       "        <td>None</td>\n",
       "        <td>None</td>\n",
       "        <td>None</td>\n",
       "    </tr>\n",
       "    <tr>\n",
       "        <td>57.0</td>\n",
       "        <td>16.0</td>\n",
       "        <td>2006-02-15 10:07:09</td>\n",
       "        <td>None</td>\n",
       "        <td>None</td>\n",
       "        <td>None</td>\n",
       "    </tr>\n",
       "    <tr>\n",
       "        <td>75.0</td>\n",
       "        <td>16.0</td>\n",
       "        <td>2006-02-15 10:07:09</td>\n",
       "        <td>None</td>\n",
       "        <td>None</td>\n",
       "        <td>None</td>\n",
       "    </tr>\n",
       "    <tr>\n",
       "        <td>84.0</td>\n",
       "        <td>16.0</td>\n",
       "        <td>2006-02-15 10:07:09</td>\n",
       "        <td>None</td>\n",
       "        <td>None</td>\n",
       "        <td>None</td>\n",
       "    </tr>\n",
       "    <tr>\n",
       "        <td>87.0</td>\n",
       "        <td>16.0</td>\n",
       "        <td>2006-02-15 10:07:09</td>\n",
       "        <td>None</td>\n",
       "        <td>None</td>\n",
       "        <td>None</td>\n",
       "    </tr>\n",
       "    <tr>\n",
       "        <td>88.0</td>\n",
       "        <td>16.0</td>\n",
       "        <td>2006-02-15 10:07:09</td>\n",
       "        <td>None</td>\n",
       "        <td>None</td>\n",
       "        <td>None</td>\n",
       "    </tr>\n",
       "    <tr>\n",
       "        <td>103.0</td>\n",
       "        <td>16.0</td>\n",
       "        <td>2006-02-15 10:07:09</td>\n",
       "        <td>None</td>\n",
       "        <td>None</td>\n",
       "        <td>None</td>\n",
       "    </tr>\n",
       "    <tr>\n",
       "        <td>123.0</td>\n",
       "        <td>16.0</td>\n",
       "        <td>2006-02-15 10:07:09</td>\n",
       "        <td>None</td>\n",
       "        <td>None</td>\n",
       "        <td>None</td>\n",
       "    </tr>\n",
       "    <tr>\n",
       "        <td>125.0</td>\n",
       "        <td>16.0</td>\n",
       "        <td>2006-02-15 10:07:09</td>\n",
       "        <td>None</td>\n",
       "        <td>None</td>\n",
       "        <td>None</td>\n",
       "    </tr>\n",
       "    <tr>\n",
       "        <td>167.0</td>\n",
       "        <td>16.0</td>\n",
       "        <td>2006-02-15 10:07:09</td>\n",
       "        <td>None</td>\n",
       "        <td>None</td>\n",
       "        <td>None</td>\n",
       "    </tr>\n",
       "</table>\n",
       "<span style=\"font-style:italic;text-align:center;\">57 rows, truncated to displaylimit of 10</span>"
      ],
      "text/plain": [
       "[(41.0, 16.0, datetime.datetime(2006, 2, 15, 10, 7, 9), None, None, None),\n",
       " (57.0, 16.0, datetime.datetime(2006, 2, 15, 10, 7, 9), None, None, None),\n",
       " (75.0, 16.0, datetime.datetime(2006, 2, 15, 10, 7, 9), None, None, None),\n",
       " (84.0, 16.0, datetime.datetime(2006, 2, 15, 10, 7, 9), None, None, None),\n",
       " (87.0, 16.0, datetime.datetime(2006, 2, 15, 10, 7, 9), None, None, None),\n",
       " (88.0, 16.0, datetime.datetime(2006, 2, 15, 10, 7, 9), None, None, None),\n",
       " (103.0, 16.0, datetime.datetime(2006, 2, 15, 10, 7, 9), None, None, None),\n",
       " (123.0, 16.0, datetime.datetime(2006, 2, 15, 10, 7, 9), None, None, None),\n",
       " (125.0, 16.0, datetime.datetime(2006, 2, 15, 10, 7, 9), None, None, None),\n",
       " (167.0, 16.0, datetime.datetime(2006, 2, 15, 10, 7, 9), None, None, None),\n",
       " (169.0, 16.0, datetime.datetime(2006, 2, 15, 10, 7, 9), None, None, None),\n",
       " (181.0, 16.0, datetime.datetime(2006, 2, 15, 10, 7, 9), None, None, None),\n",
       " (224.0, 16.0, datetime.datetime(2006, 2, 15, 10, 7, 9), None, None, None),\n",
       " (233.0, 16.0, datetime.datetime(2006, 2, 15, 10, 7, 9), None, None, None),\n",
       " (257.0, 16.0, datetime.datetime(2006, 2, 15, 10, 7, 9), None, None, None),\n",
       " (286.0, 16.0, datetime.datetime(2006, 2, 15, 10, 7, 9), None, None, None),\n",
       " (288.0, 16.0, datetime.datetime(2006, 2, 15, 10, 7, 9), None, None, None),\n",
       " (294.0, 16.0, datetime.datetime(2006, 2, 15, 10, 7, 9), None, None, None),\n",
       " (299.0, 16.0, datetime.datetime(2006, 2, 15, 10, 7, 9), None, None, None),\n",
       " (307.0, 16.0, datetime.datetime(2006, 2, 15, 10, 7, 9), None, None, None),\n",
       " (339.0, 16.0, datetime.datetime(2006, 2, 15, 10, 7, 9), None, None, None),\n",
       " (342.0, 16.0, datetime.datetime(2006, 2, 15, 10, 7, 9), None, None, None),\n",
       " (347.0, 16.0, datetime.datetime(2006, 2, 15, 10, 7, 9), None, None, None),\n",
       " (386.0, 16.0, datetime.datetime(2006, 2, 15, 10, 7, 9), None, None, None),\n",
       " (405.0, 16.0, datetime.datetime(2006, 2, 15, 10, 7, 9), None, None, None),\n",
       " (434.0, 16.0, datetime.datetime(2006, 2, 15, 10, 7, 9), None, None, None),\n",
       " (451.0, 16.0, datetime.datetime(2006, 2, 15, 10, 7, 9), None, None, None),\n",
       " (472.0, 16.0, datetime.datetime(2006, 2, 15, 10, 7, 9), None, None, None),\n",
       " (496.0, 16.0, datetime.datetime(2006, 2, 15, 10, 7, 9), None, None, None),\n",
       " (513.0, 16.0, datetime.datetime(2006, 2, 15, 10, 7, 9), None, None, None),\n",
       " (518.0, 16.0, datetime.datetime(2006, 2, 15, 10, 7, 9), None, None, None),\n",
       " (526.0, 16.0, datetime.datetime(2006, 2, 15, 10, 7, 9), None, None, None),\n",
       " (543.0, 16.0, datetime.datetime(2006, 2, 15, 10, 7, 9), None, None, None),\n",
       " (601.0, 16.0, datetime.datetime(2006, 2, 15, 10, 7, 9), None, None, None),\n",
       " (609.0, 16.0, datetime.datetime(2006, 2, 15, 10, 7, 9), None, None, None),\n",
       " (642.0, 16.0, datetime.datetime(2006, 2, 15, 10, 7, 9), None, None, None),\n",
       " (645.0, 16.0, datetime.datetime(2006, 2, 15, 10, 7, 9), None, None, None),\n",
       " (648.0, 16.0, datetime.datetime(2006, 2, 15, 10, 7, 9), None, None, None),\n",
       " (656.0, 16.0, datetime.datetime(2006, 2, 15, 10, 7, 9), None, None, None),\n",
       " (783.0, 16.0, datetime.datetime(2006, 2, 15, 10, 7, 9), None, None, None),\n",
       " (784.0, 16.0, datetime.datetime(2006, 2, 15, 10, 7, 9), None, None, None),\n",
       " (785.0, 16.0, datetime.datetime(2006, 2, 15, 10, 7, 9), None, None, None),\n",
       " (787.0, 16.0, datetime.datetime(2006, 2, 15, 10, 7, 9), None, None, None),\n",
       " (811.0, 16.0, datetime.datetime(2006, 2, 15, 10, 7, 9), None, None, None),\n",
       " (826.0, 16.0, datetime.datetime(2006, 2, 15, 10, 7, 9), None, None, None),\n",
       " (848.0, 16.0, datetime.datetime(2006, 2, 15, 10, 7, 9), None, None, None),\n",
       " (868.0, 16.0, datetime.datetime(2006, 2, 15, 10, 7, 9), None, None, None),\n",
       " (872.0, 16.0, datetime.datetime(2006, 2, 15, 10, 7, 9), None, None, None),\n",
       " (878.0, 16.0, datetime.datetime(2006, 2, 15, 10, 7, 9), None, None, None),\n",
       " (894.0, 16.0, datetime.datetime(2006, 2, 15, 10, 7, 9), None, None, None),\n",
       " (903.0, 16.0, datetime.datetime(2006, 2, 15, 10, 7, 9), None, None, None),\n",
       " (914.0, 16.0, datetime.datetime(2006, 2, 15, 10, 7, 9), None, None, None),\n",
       " (931.0, 16.0, datetime.datetime(2006, 2, 15, 10, 7, 9), None, None, None),\n",
       " (977.0, 16.0, datetime.datetime(2006, 2, 15, 10, 7, 9), None, None, None),\n",
       " (981.0, 16.0, datetime.datetime(2006, 2, 15, 10, 7, 9), None, None, None),\n",
       " (988.0, 16.0, datetime.datetime(2006, 2, 15, 10, 7, 9), None, None, None),\n",
       " (989.0, 16.0, datetime.datetime(2006, 2, 15, 10, 7, 9), None, None, None)]"
      ]
     },
     "execution_count": 42,
     "metadata": {},
     "output_type": "execute_result"
    }
   ],
   "source": [
    "%%sql\n",
    "-- Count the number of rows in the tables `film_category` and `film` respectively\n",
    "-- Enter your query here!"
   ]
  },
  {
   "cell_type": "code",
   "execution_count": null,
   "metadata": {},
   "outputs": [],
   "source": [
    "%%sql\n",
    "-- Count the number of rows in the inner join between `film_category` and `film`. How many rows were lost?\n",
    "-- Enter your query here!"
   ]
  },
  {
   "cell_type": "code",
   "execution_count": null,
   "metadata": {},
   "outputs": [],
   "source": [
    "%%sql\n",
    "-- Replicate an anti join in Postgres\n",
    "select * from film_category fc full join (select * from category limit 15) c on fc.category_id = c.category_id where fc.category_id is null or c.category_id is null                                                                                            "
   ]
  },
  {
   "cell_type": "markdown",
   "metadata": {},
   "source": [
    "### Subqueries\n",
    "Sometimes when we try to join two tables, one table is at a different granularity than the other. Joining these two tables together will create a lot of duplicates. This is one of the many use cases of using a subquery before joining. Subqueries can refine different granularites but also just filter down the tables before joining. This will help optimize the final query and minimize the runtime (lower resource costs too). \n",
    "\n",
    "The strength of subqueries (over just putting filtering statements at the end of all the joins) lie in that you can select the number of columns you want to transfer to the next level of nesting. This allows for the most efficient calls to the database.\n",
    "\n",
    "**Julie Tip**\n",
    "\n",
    "Try to alias tables with a small identifier that is descriptive of the table you are querying from. Tag each field you select with the table identifier so that each field is pulled exactly from the table you want."
   ]
  },
  {
   "cell_type": "code",
   "execution_count": 50,
   "metadata": {},
   "outputs": [
    {
     "name": "stdout",
     "output_type": "stream",
     "text": [
      " * postgresql://localhost/postgres\n",
      "80 rows affected.\n"
     ]
    },
    {
     "data": {
      "text/html": [
       "<table>\n",
       "    <tr>\n",
       "        <th>film_id</th>\n",
       "        <th>title</th>\n",
       "        <th>description</th>\n",
       "        <th>release_year</th>\n",
       "        <th>length</th>\n",
       "        <th>special_features</th>\n",
       "        <th>category_name</th>\n",
       "    </tr>\n",
       "    <tr>\n",
       "        <td>915</td>\n",
       "        <td>Truman Crazy</td>\n",
       "        <td>A Thrilling Epistle of a Moose And a Boy who must Meet a Database Administrator in A Monastery</td>\n",
       "        <td>1943</td>\n",
       "        <td>92</td>\n",
       "        <td>[&#x27;Trailers&#x27;, &#x27;Commentaries&#x27;]</td>\n",
       "        <td>Action</td>\n",
       "    </tr>\n",
       "    <tr>\n",
       "        <td>105</td>\n",
       "        <td>Bull Shawshank</td>\n",
       "        <td>A Fanciful Drama of a Moose And a Squirrel who must Conquer a Pioneer in The Canadian Rockies</td>\n",
       "        <td>1920</td>\n",
       "        <td>125</td>\n",
       "        <td>[&#x27;Deleted Scenes&#x27;]</td>\n",
       "        <td>Action</td>\n",
       "    </tr>\n",
       "    <tr>\n",
       "        <td>986</td>\n",
       "        <td>Wonka Sea</td>\n",
       "        <td>A Brilliant Saga of a Boat And a Mad Scientist who must Meet a Moose in Ancient India</td>\n",
       "        <td>1984</td>\n",
       "        <td>85</td>\n",
       "        <td>[&#x27;Trailers&#x27;, &#x27;Commentaries&#x27;]</td>\n",
       "        <td>Animation</td>\n",
       "    </tr>\n",
       "    <tr>\n",
       "        <td>805</td>\n",
       "        <td>Sleepless Monsoon</td>\n",
       "        <td>A Amazing Saga of a Moose And a Pastry Chef who must Escape a Butler in Australia</td>\n",
       "        <td>2003</td>\n",
       "        <td>64</td>\n",
       "        <td>[&#x27;Trailers&#x27;, &#x27;Deleted Scenes&#x27;, &#x27;Behind the Scenes&#x27;]</td>\n",
       "        <td>Animation</td>\n",
       "    </tr>\n",
       "    <tr>\n",
       "        <td>761</td>\n",
       "        <td>Santa Paris</td>\n",
       "        <td>A Emotional Documentary of a Moose And a Car who must Redeem a Mad Cow in A Baloon Factory</td>\n",
       "        <td>1931</td>\n",
       "        <td>154</td>\n",
       "        <td>[&#x27;Commentaries&#x27;, &#x27;Behind the Scenes&#x27;]</td>\n",
       "        <td>Children</td>\n",
       "    </tr>\n",
       "    <tr>\n",
       "        <td>553</td>\n",
       "        <td>Maker Gables</td>\n",
       "        <td>A Stunning Display of a Moose And a Database Administrator who must Pursue a Composer in A Jet Boat</td>\n",
       "        <td>1985</td>\n",
       "        <td>136</td>\n",
       "        <td>[&#x27;Deleted Scenes&#x27;, &#x27;Behind the Scenes&#x27;]</td>\n",
       "        <td>Children</td>\n",
       "    </tr>\n",
       "    <tr>\n",
       "        <td>515</td>\n",
       "        <td>Legally Secretary</td>\n",
       "        <td>A Astounding Tale of a A Shark And a Moose who must Meet a Womanizer in The Sahara Desert</td>\n",
       "        <td>1920</td>\n",
       "        <td>113</td>\n",
       "        <td>[&#x27;Trailers&#x27;, &#x27;Commentaries&#x27;, &#x27;Behind the Scenes&#x27;]</td>\n",
       "        <td>Children</td>\n",
       "    </tr>\n",
       "    <tr>\n",
       "        <td>343</td>\n",
       "        <td>Full Flatliners</td>\n",
       "        <td>A Beautiful Documentary of a Astronaut And a Moose who must Pursue a Monkey in A Shark Tank</td>\n",
       "        <td>1972</td>\n",
       "        <td>94</td>\n",
       "        <td>[&#x27;Trailers&#x27;, &#x27;Deleted Scenes&#x27;]</td>\n",
       "        <td>Children</td>\n",
       "    </tr>\n",
       "    <tr>\n",
       "        <td>895</td>\n",
       "        <td>Tomorrow Hustler</td>\n",
       "        <td>A Thoughtful Story of a Moose And a Husband who must Face a Secret Agent in The Sahara Desert</td>\n",
       "        <td>1945</td>\n",
       "        <td>142</td>\n",
       "        <td>[&#x27;Commentaries&#x27;]</td>\n",
       "        <td>Classics</td>\n",
       "    </tr>\n",
       "    <tr>\n",
       "        <td>874</td>\n",
       "        <td>Tadpole Park</td>\n",
       "        <td>A Beautiful Tale of a Frisbee And a Moose who must Vanquish a Dog in An Abandoned Amusement Park</td>\n",
       "        <td>2001</td>\n",
       "        <td>155</td>\n",
       "        <td>[&#x27;Trailers&#x27;, &#x27;Commentaries&#x27;]</td>\n",
       "        <td>Classics</td>\n",
       "    </tr>\n",
       "</table>\n",
       "<span style=\"font-style:italic;text-align:center;\">80 rows, truncated to displaylimit of 10</span>"
      ],
      "text/plain": [
       "[(915, 'Truman Crazy', 'A Thrilling Epistle of a Moose And a Boy who must Meet a Database Administrator in A Monastery', 1943, 92, ['Trailers', 'Commentaries'], 'Action'),\n",
       " (105, 'Bull Shawshank', 'A Fanciful Drama of a Moose And a Squirrel who must Conquer a Pioneer in The Canadian Rockies', 1920, 125, ['Deleted Scenes'], 'Action'),\n",
       " (986, 'Wonka Sea', 'A Brilliant Saga of a Boat And a Mad Scientist who must Meet a Moose in Ancient India', 1984, 85, ['Trailers', 'Commentaries'], 'Animation'),\n",
       " (805, 'Sleepless Monsoon', 'A Amazing Saga of a Moose And a Pastry Chef who must Escape a Butler in Australia', 2003, 64, ['Trailers', 'Deleted Scenes', 'Behind the Scenes'], 'Animation'),\n",
       " (761, 'Santa Paris', 'A Emotional Documentary of a Moose And a Car who must Redeem a Mad Cow in A Baloon Factory', 1931, 154, ['Commentaries', 'Behind the Scenes'], 'Children'),\n",
       " (553, 'Maker Gables', 'A Stunning Display of a Moose And a Database Administrator who must Pursue a Composer in A Jet Boat', 1985, 136, ['Deleted Scenes', 'Behind the Scenes'], 'Children'),\n",
       " (515, 'Legally Secretary', 'A Astounding Tale of a A Shark And a Moose who must Meet a Womanizer in The Sahara Desert', 1920, 113, ['Trailers', 'Commentaries', 'Behind the Scenes'], 'Children'),\n",
       " (343, 'Full Flatliners', 'A Beautiful Documentary of a Astronaut And a Moose who must Pursue a Monkey in A Shark Tank', 1972, 94, ['Trailers', 'Deleted Scenes'], 'Children'),\n",
       " (895, 'Tomorrow Hustler', 'A Thoughtful Story of a Moose And a Husband who must Face a Secret Agent in The Sahara Desert', 1945, 142, ['Commentaries'], 'Classics'),\n",
       " (874, 'Tadpole Park', 'A Beautiful Tale of a Frisbee And a Moose who must Vanquish a Dog in An Abandoned Amusement Park', 2001, 155, ['Trailers', 'Commentaries'], 'Classics'),\n",
       " (843, 'Steel Santa', 'A Fast-Paced Yarn of a Composer And a Frisbee who must Face a Moose in Nigeria', 1980, 143, ['Commentaries', 'Deleted Scenes'], 'Classics'),\n",
       " (611, 'Musketeers Wait', 'A Touching Yarn of a Student And a Moose who must Fight a Mad Cow in Australia', 1938, 73, ['Deleted Scenes', 'Behind the Scenes'], 'Classics'),\n",
       " (523, 'Lights Deer', 'A Unbelieveable Epistle of a Dog And a Woman who must Confront a Moose in The Gulf of Mexico', 1922, 174, ['Commentaries'], 'Classics'),\n",
       " (196, 'Cruelty Unforgiven', 'A Brilliant Tale of a Car And a Moose who must Battle a Dentist in Nigeria', 1985, 69, ['Deleted Scenes', 'Behind the Scenes'], 'Classics'),\n",
       " (754, 'Rushmore Mermaid', 'A Boring Story of a Woman And a Moose who must Reach a Husband in A Shark Tank', 1995, 150, ['Trailers', 'Commentaries', 'Deleted Scenes'], 'Comedy'),\n",
       " (657, 'Paradise Sabrina', 'A Intrepid Yarn of a Car And a Moose who must Outrace a Crocodile in A Manhattan Penthouse', 1924, 48, ['Commentaries', 'Deleted Scenes', 'Behind the Scenes'], 'Comedy'),\n",
       " (502, 'Knock Warlock', 'A Unbelieveable Story of a Teacher And a Boat who must Confront a Moose in A Baloon', 1999, 71, ['Trailers'], 'Comedy'),\n",
       " (324, 'Flintstones Happiness', 'A Fateful Story of a Husband And a Moose who must Vanquish a Boy in California', 1976, 148, ['Trailers', 'Commentaries', 'Deleted Scenes', 'Behind the Scenes'], 'Comedy'),\n",
       " (119, 'Caper Motions', 'A Fateful Saga of a Moose And a Car who must Pursue a Woman in A MySQL Convention', 1941, 176, ['Trailers', 'Commentaries', 'Deleted Scenes'], 'Comedy'),\n",
       " (952, 'Wagon Jaws', 'A Intrepid Drama of a Moose And a Boat who must Kill a Explorer in A Manhattan Penthouse', 1965, 152, ['Deleted Scenes', 'Behind the Scenes'], 'Documentary'),\n",
       " (708, 'Quills Bull', 'A Thoughtful Story of a Pioneer And a Woman who must Reach a Moose in Australia', 1982, 112, ['Trailers', 'Behind the Scenes'], 'Documentary'),\n",
       " (650, 'Pacific Amistad', 'A Thrilling Yarn of a Dog And a Moose who must Kill a Pastry Chef in A Manhattan Penthouse', 1955, 144, ['Trailers', 'Commentaries', 'Deleted Scenes', 'Behind the Scenes'], 'Documentary'),\n",
       " (622, 'Newsies Story', 'A Action-Packed Character Study of a Dog And a Lumberjack who must Outrace a Moose in The Gulf of Mexico', 1980, 159, ['Trailers', 'Deleted Scenes'], 'Documentary'),\n",
       " (575, 'Midsummer Groundhog', 'A Fateful Panorama of a Moose And a Dog who must Chase a Crocodile in Ancient Japan', 1933, 48, ['Trailers', 'Deleted Scenes'], 'Documentary'),\n",
       " (552, 'Majestic Floats', 'A Thrilling Character Study of a Moose And a Student who must Escape a Butler in The First Manned Space Station', 1960, 130, ['Trailers'], 'Documentary'),\n",
       " (221, 'Deliverance Mulholland', 'A Astounding Saga of a Monkey And a Moose who must Conquer a Butler in A Shark Tank', 1975, 100, ['Deleted Scenes'], 'Documentary'),\n",
       " (85, 'Bonnie Holocaust', 'A Fast-Paced Story of a Crocodile And a Robot who must Find a Moose in Ancient Japan', 1986, 63, ['Deleted Scenes'], 'Documentary'),\n",
       " (979, 'Witches Panic', 'A Awe-Inspiring Drama of a Secret Agent And a Hunter who must Fight a Moose in Nigeria', 1957, 100, ['Commentaries', 'Behind the Scenes'], 'Drama'),\n",
       " (772, 'Sea Virgin', 'A Fast-Paced Documentary of a Technical Writer And a Pastry Chef who must Escape a Moose in A U-Boat', 1958, 80, ['Deleted Scenes'], 'Drama'),\n",
       " (683, 'Pity Bound', 'A Boring Panorama of a Feminist And a Moose who must Defeat a Database Administrator in Nigeria', 1985, 60, ['Commentaries'], 'Drama'),\n",
       " (666, 'Paycheck Wait', 'A Awe-Inspiring Reflection of a Boy And a Man who must Discover a Moose in The Sahara Desert', 1982, 145, ['Commentaries', 'Deleted Scenes'], 'Drama'),\n",
       " (539, 'Luck Opus', 'A Boring Display of a Moose And a Squirrel who must Outrace a Teacher in A Shark Tank', 1986, 152, ['Trailers', 'Commentaries', 'Behind the Scenes'], 'Drama'),\n",
       " (521, 'Lies Treatment', 'A Fast-Paced Character Study of a Dentist And a Moose who must Defeat a Composer in The First Manned Space Station', 1995, 147, ['Commentaries', 'Deleted Scenes', 'Behind the Scenes'], 'Drama'),\n",
       " (401, 'Harold French', 'A Stunning Saga of a Sumo Wrestler And a Student who must Outrace a Moose in The Sahara Desert', 1985, 168, ['Commentaries', 'Deleted Scenes', 'Behind the Scenes'], 'Drama'),\n",
       " (218, 'Deceiver Betrayed', 'A Taut Story of a Moose And a Squirrel who must Build a Husband in Ancient India', 1936, 122, ['Trailers', 'Commentaries', 'Deleted Scenes', 'Behind the Scenes'], 'Drama'),\n",
       " (204, 'Dalmations Sweden', 'A Emotional Epistle of a Moose And a Hunter who must Overcome a Robot in A Manhattan Penthouse', 1934, 106, ['Trailers', 'Commentaries', 'Deleted Scenes'], 'Drama'),\n",
       " (61, 'Beauty Grease', 'A Fast-Paced Display of a Composer And a Moose who must Sink a Robot in An Abandoned Mine Shaft', 1974, 175, ['Trailers', 'Commentaries'], 'Drama'),\n",
       " (795, 'Siege Madre', 'A Boring Tale of a Frisbee And a Crocodile who must Vanquish a Moose in An Abandoned Mine Shaft', 1922, 111, ['Trailers', 'Deleted Scenes'], 'Family'),\n",
       " (695, 'President Bang', 'A Fateful Panorama of a Technical Writer And a Moose who must Battle a Robot in Soviet Georgia', 1955, 144, ['Behind the Scenes'], 'Family'),\n",
       " (639, 'Opposite Necklace', 'A Fateful Epistle of a Crocodile And a Moose who must Kill a Explorer in Nigeria', 1992, 92, ['Deleted Scenes'], 'Family'),\n",
       " (213, 'Date Speed', 'A Touching Saga of a Composer And a Moose who must Discover a Dentist in A MySQL Convention', 1960, 104, ['Commentaries'], 'Family'),\n",
       " (147, 'Chocolat Harry', 'A Action-Packed Epistle of a Dentist And a Moose who must Meet a Mad Cow in Ancient Japan', 1971, 101, ['Commentaries', 'Behind the Scenes'], 'Family'),\n",
       " (900, 'Town Ark', 'A Awe-Inspiring Documentary of a Moose And a Madman who must Meet a Dog in An Abandoned Mine Shaft', 1947, 136, ['Behind the Scenes'], 'Foreign'),\n",
       " (726, 'Reservoir Adaptation', 'A Intrepid Drama of a Teacher And a Moose who must Kill a Car in California', 1952, 61, ['Commentaries'], 'Foreign'),\n",
       " (623, 'Newton Labyrinth', 'A Intrepid Character Study of a Moose And a Waitress who must Find a A Shark in Ancient India', 1968, 75, ['Trailers', 'Commentaries', 'Deleted Scenes', 'Behind the Scenes'], 'Foreign'),\n",
       " (762, 'Sassy Packer', 'A Fast-Paced Documentary of a Dog And a Teacher who must Find a Moose in A Manhattan Penthouse', 1953, 154, ['Deleted Scenes', 'Behind the Scenes'], 'Games'),\n",
       " (546, 'Madre Gables', 'A Intrepid Panorama of a Sumo Wrestler And a Forensic Psychologist who must Discover a Moose in The First Manned Space Station', 1972, 98, ['Trailers', 'Commentaries', 'Deleted Scenes'], 'Games'),\n",
       " (447, 'Ice Crossing', 'A Fast-Paced Tale of a Butler And a Moose who must Overcome a Pioneer in A Manhattan Penthouse', 1953, 131, ['Deleted Scenes'], 'Games'),\n",
       " (352, 'Gathering Calendar', 'A Intrepid Tale of a Pioneer And a Moose who must Conquer a Frisbee in A MySQL Convention', 1988, 176, ['Commentaries', 'Behind the Scenes'], 'Games'),\n",
       " (46, 'Autumn Crow', 'A Beautiful Tale of a Dentist And a Mad Cow who must Battle a Moose in The Sahara Desert', 2002, 108, ['Trailers', 'Commentaries', 'Deleted Scenes', 'Behind the Scenes'], 'Games'),\n",
       " (965, 'Watership Frontier', 'A Emotional Yarn of a Boat And a Crocodile who must Meet a Moose in Soviet Georgia', 1950, 112, ['Commentaries'], 'Horror'),\n",
       " (922, 'Undefeated Dalmations', 'A Unbelieveable Display of a Crocodile And a Feminist who must Overcome a Moose in An Abandoned Amusement Park', 1954, 107, ['Commentaries'], 'Horror'),\n",
       " (737, 'Rock Instinct', 'A Astounding Character Study of a Robot And a Moose who must Overcome a Astronaut in Ancient India', 1953, 102, ['Trailers', 'Commentaries', 'Deleted Scenes', 'Behind the Scenes'], 'Horror'),\n",
       " (8, 'Airport Pollock', 'A Epic Tale of a Moose And a Girl who must Confront a Monkey in Ancient India', 1953, 54, ['Trailers'], 'Horror'),\n",
       " (454, 'Impact Aladdin', 'A Epic Character Study of a Frisbee And a Moose who must Outgun a Technical Writer in A Shark Tank', 1988, 180, ['Trailers', 'Deleted Scenes'], 'Music'),\n",
       " (411, 'Heavenly Gun', 'A Beautiful Yarn of a Forensic Psychologist And a Frisbee who must Battle a Moose in A Jet Boat', 1961, 49, ['Behind the Scenes'], 'Music'),\n",
       " (384, 'Grosse Wonderful', 'A Epic Drama of a Cat And a Explorer who must Redeem a Moose in Australia', 1927, 49, ['Behind the Scenes'], 'Music'),\n",
       " (133, 'Chamber Italian', 'A Fateful Reflection of a Moose And a Husband who must Overcome a Monkey in Nigeria', 1975, 117, ['Trailers'], 'Music'),\n",
       " (954, 'Wake Jaws', 'A Beautiful Saga of a Feminist And a Composer who must Challenge a Moose in Berlin', 1940, 73, ['Trailers', 'Commentaries', 'Deleted Scenes', 'Behind the Scenes'], 'New'),\n",
       " (847, 'Stock Glass', 'A Boring Epistle of a Crocodile And a Lumberjack who must Outgun a Moose in Ancient China', 1979, 160, ['Commentaries'], 'New'),\n",
       " (806, 'Sleepy Japanese', 'A Emotional Epistle of a Moose And a Composer who must Fight a Technical Writer in The Outback', 1934, 137, ['Trailers', 'Commentaries', 'Deleted Scenes'], 'New'),\n",
       " (686, 'Pluto Oleander', 'A Action-Packed Reflection of a Car And a Moose who must Outgun a Car in A Shark Tank', 2005, 84, ['Behind the Scenes'], 'New'),\n",
       " (551, 'Maiden Home', 'A Lacklusture Saga of a Moose And a Teacher who must Kill a Forensic Psychologist in A MySQL Convention', 1942, 138, ['Behind the Scenes'], 'New'),\n",
       " (321, 'Flash Wars', 'A Astounding Saga of a Moose And a Pastry Chef who must Chase a Student in The Gulf of Mexico', 1928, 123, ['Trailers', 'Commentaries', 'Behind the Scenes'], 'New'),\n",
       " (95, 'Breakfast Goldfinger', 'A Beautiful Reflection of a Student And a Student who must Fight a Moose in Berlin', 1924, 123, ['Trailers', 'Commentaries', 'Deleted Scenes'], 'New'),\n",
       " (93, 'Brannigan Sunrise', 'A Amazing Epistle of a Moose And a Crocodile who must Outrace a Dog in Berlin', 1980, 121, ['Trailers'], 'New'),\n",
       " (90, 'Boulevard Mob', 'A Fateful Epistle of a Moose And a Monkey who must Confront a Lumberjack in Ancient China', 1971, 63, ['Trailers'], 'New'),\n",
       " (764, 'Saturday Lambs', 'A Thoughtful Reflection of a Mad Scientist And a Moose who must Kill a Husband in A Baloon', 1988, 150, ['Commentaries', 'Deleted Scenes'], None),\n",
       " (729, 'Rider Caddyshack', 'A Taut Reflection of a Monkey And a Womanizer who must Chase a Moose in Nigeria', 1967, 177, ['Commentaries', 'Behind the Scenes'], None),\n",
       " (383, 'Groove Fiction', 'A Unbelieveable Reflection of a Moose And a A Shark who must Defeat a Lumberjack in An Abandoned Mine Shaft', 1936, 111, ['Behind the Scenes'], None),\n",
       " (135, 'Chance Resurrection', 'A Astounding Story of a Forensic Psychologist And a Forensic Psychologist who must Overcome a Moose in Ancient China', 1952, 70, ['Commentaries', 'Deleted Scenes', 'Behind the Scenes'], None),\n",
       " (102, 'Bubble Grosse', 'A Awe-Inspiring Panorama of a Crocodile And a Moose who must Confront a Girl in A Baloon', 1952, 60, ['Trailers', 'Commentaries', 'Deleted Scenes', 'Behind the Scenes'], None),\n",
       " (42, 'Artist Coldblooded', 'A Stunning Reflection of a Robot And a Moose who must Challenge a Woman in California', 1978, 170, ['Trailers', 'Behind the Scenes'], None),\n",
       " (785, 'Shawshank Bubble', 'A Lacklusture Story of a Moose And a Monkey who must Confront a Butler in An Abandoned Amusement Park', 1942, 80, ['Commentaries', 'Deleted Scenes'], None),\n",
       " (783, 'Shane Darkness', 'A Action-Packed Saga of a Moose And a Lumberjack who must Find a Woman in Berlin', 1947, 93, ['Commentaries', 'Deleted Scenes'], None),\n",
       " (645, 'Others Soup', 'A Lacklusture Documentary of a Mad Cow And a Madman who must Sink a Moose in The Gulf of Mexico', 1927, 118, ['Deleted Scenes'], None),\n",
       " (472, 'Italian African', 'A Astounding Character Study of a Monkey And a Moose who must Outgun a Cat in A U-Boat', 1927, 174, ['Trailers', 'Commentaries', 'Deleted Scenes'], None),\n",
       " (233, 'Disciple Mother', 'A Touching Reflection of a Mad Scientist And a Boat who must Face a Moose in A Shark Tank', 1986, 141, ['Trailers', 'Deleted Scenes', 'Behind the Scenes'], None),\n",
       " (655, 'Panther Reds', 'A Brilliant Panorama of a Moose And a Man who must Reach a Teacher in The Gulf of Mexico', 2000, 109, ['Deleted Scenes', 'Behind the Scenes'], None),\n",
       " (165, 'Coldblooded Darling', 'A Brilliant Panorama of a Dentist And a Moose who must Find a Student in The Gulf of Mexico', 1989, 70, ['Trailers', 'Deleted Scenes'], None)]"
      ]
     },
     "execution_count": 50,
     "metadata": {},
     "output_type": "execute_result"
    }
   ],
   "source": [
    "%%sql\n",
    "-- Find the film categories of movies that include \"moose\" in the film description\n",
    "select \n",
    "  f.*,\n",
    "  c.name as category_name\n",
    "from \n",
    "  (select\n",
    "     film_id,\n",
    "     title,\n",
    "     description,\n",
    "     release_year,\n",
    "     length,\n",
    "     special_features\n",
    "   from\n",
    "     film\n",
    "   where \n",
    "     lower(description) like '%moose%') f\n",
    "left join\n",
    "  film_category fc\n",
    "on cast(f.film_id as int) = cast(fc.film_id as int)\n",
    "left join\n",
    "  category c\n",
    "on fc.category_id = c.category_id"
   ]
  }
 ],
 "metadata": {
  "kernelspec": {
   "display_name": "Python 3",
   "language": "python",
   "name": "python3"
  },
  "language_info": {
   "codemirror_mode": {
    "name": "ipython",
    "version": 3
   },
   "file_extension": ".py",
   "mimetype": "text/x-python",
   "name": "python",
   "nbconvert_exporter": "python",
   "pygments_lexer": "ipython3",
   "version": "3.6.5"
  }
 },
 "nbformat": 4,
 "nbformat_minor": 2
}

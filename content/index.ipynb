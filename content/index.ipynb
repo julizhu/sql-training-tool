{
 "cells": [
  {
   "cell_type": "markdown",
   "metadata": {},
   "source": [
    "# Binder with Postgres server\n",
    "\n",
    "This binder is running a postgres server in the background. Currently, it has only the database that is there by default."
   ]
  },
  {
   "cell_type": "markdown",
   "metadata": {},
   "source": [
    "## psql\n",
    "\n",
    "We can connect to the db using psql:"
   ]
  },
  {
   "cell_type": "code",
   "execution_count": 1,
   "metadata": {},
   "outputs": [
    {
     "name": "stdout",
     "output_type": "stream",
     "text": [
      "psql is the PostgreSQL interactive terminal.\r\n",
      "\r\n",
      "Usage:\r\n",
      "  psql [OPTION]... [DBNAME [USERNAME]]\r\n",
      "\r\n",
      "General options:\r\n",
      "  -c, --command=COMMAND    run only single command (SQL or internal) and exit\r\n",
      "  -d, --dbname=DBNAME      database name to connect to (default: \"tombaldwin\")\r\n",
      "  -f, --file=FILENAME      execute commands from file, then exit\r\n",
      "  -l, --list               list available databases, then exit\r\n",
      "  -v, --set=, --variable=NAME=VALUE\r\n",
      "                           set psql variable NAME to VALUE\r\n",
      "                           (e.g., -v ON_ERROR_STOP=1)\r\n",
      "  -V, --version            output version information, then exit\r\n",
      "  -X, --no-psqlrc          do not read startup file (~/.psqlrc)\r\n",
      "  -1 (\"one\"), --single-transaction\r\n",
      "                           execute as a single transaction (if non-interactive)\r\n",
      "  -?, --help[=options]     show this help, then exit\r\n",
      "      --help=commands      list backslash commands, then exit\r\n",
      "      --help=variables     list special variables, then exit\r\n",
      "\r\n",
      "Input and output options:\r\n",
      "  -a, --echo-all           echo all input from script\r\n",
      "  -b, --echo-errors        echo failed commands\r\n",
      "  -e, --echo-queries       echo commands sent to server\r\n",
      "  -E, --echo-hidden        display queries that internal commands generate\r\n",
      "  -L, --log-file=FILENAME  send session log to file\r\n",
      "  -n, --no-readline        disable enhanced command line editing (readline)\r\n",
      "  -o, --output=FILENAME    send query results to file (or |pipe)\r\n",
      "  -q, --quiet              run quietly (no messages, only query output)\r\n",
      "  -s, --single-step        single-step mode (confirm each query)\r\n",
      "  -S, --single-line        single-line mode (end of line terminates SQL command)\r\n",
      "\r\n",
      "Output format options:\r\n",
      "  -A, --no-align           unaligned table output mode\r\n",
      "  -F, --field-separator=STRING\r\n",
      "                           field separator for unaligned output (default: \"|\")\r\n",
      "  -H, --html               HTML table output mode\r\n",
      "  -P, --pset=VAR[=ARG]     set printing option VAR to ARG (see \\pset command)\r\n",
      "  -R, --record-separator=STRING\r\n",
      "                           record separator for unaligned output (default: newline)\r\n",
      "  -t, --tuples-only        print rows only\r\n",
      "  -T, --table-attr=TEXT    set HTML table tag attributes (e.g., width, border)\r\n",
      "  -x, --expanded           turn on expanded table output\r\n",
      "  -z, --field-separator-zero\r\n",
      "                           set field separator for unaligned output to zero byte\r\n",
      "  -0, --record-separator-zero\r\n",
      "                           set record separator for unaligned output to zero byte\r\n",
      "\r\n",
      "Connection options:\r\n",
      "  -h, --host=HOSTNAME      database server host or socket directory (default: \"local socket\")\r\n",
      "  -p, --port=PORT          database server port (default: \"5432\")\r\n",
      "  -U, --username=USERNAME  database user name (default: \"tombaldwin\")\r\n",
      "  -w, --no-password        never prompt for password\r\n",
      "  -W, --password           force password prompt (should happen automatically)\r\n",
      "\r\n",
      "For more information, type \"\\?\" (for internal commands) or \"\\help\" (for SQL\r\n",
      "commands) from within psql, or consult the psql section in the PostgreSQL\r\n",
      "documentation.\r\n",
      "\r\n",
      "Report bugs to <pgsql-bugs@postgresql.org>.\r\n"
     ]
    }
   ],
   "source": [
    "!psql --help"
   ]
  },
  {
   "cell_type": "code",
   "execution_count": 1,
   "metadata": {},
   "outputs": [
    {
     "name": "stdout",
     "output_type": "stream",
     "text": [
      "                                  List of databases\r\n",
      "   Name    |  Owner   | Encoding |   Collate   |    Ctype    |   Access privileges   \r\n",
      "-----------+----------+----------+-------------+-------------+-----------------------\r\n",
      " juliezhu  | juliezhu | UTF8     | en_US.UTF-8 | en_US.UTF-8 | \r\n",
      " postgres  | postgres | UTF8     | en_US.UTF-8 | en_US.UTF-8 | \r\n",
      " template0 | postgres | UTF8     | en_US.UTF-8 | en_US.UTF-8 | =c/postgres          +\r\n",
      "           |          |          |             |             | postgres=CTc/postgres\r\n",
      " template1 | postgres | UTF8     | en_US.UTF-8 | en_US.UTF-8 | =c/postgres          +\r\n",
      "           |          |          |             |             | postgres=CTc/postgres\r\n",
      "(4 rows)\r\n",
      "\r\n"
     ]
    }
   ],
   "source": [
    "!psql -d postgres -c '\\l'"
   ]
  },
  {
   "cell_type": "markdown",
   "metadata": {},
   "source": [
    "## sql magic command\n",
    "\n",
    "It is somewhat nicer to use the sql magic commands:"
   ]
  },
  {
   "cell_type": "code",
   "execution_count": 2,
   "metadata": {},
   "outputs": [],
   "source": [
    "%load_ext sql"
   ]
  },
  {
   "cell_type": "code",
   "execution_count": 3,
   "metadata": {},
   "outputs": [],
   "source": [
    "%sql?"
   ]
  },
  {
   "cell_type": "code",
   "execution_count": 8,
   "metadata": {},
   "outputs": [
    {
     "data": {
      "text/plain": [
       "'Connected: @postgres'"
      ]
     },
     "execution_count": 8,
     "metadata": {},
     "output_type": "execute_result"
    }
   ],
   "source": [
    "%sql postgresql://localhost/postgres"
   ]
  },
  {
   "cell_type": "code",
   "execution_count": 7,
   "metadata": {},
   "outputs": [
    {
     "name": "stdout",
     "output_type": "stream",
     "text": [
      " * postgresql://localhost/juliezhu\n",
      "   postgresql://localhost/postgres\n"
     ]
    },
    {
     "ename": "ImportError",
     "evalue": "pgspecial not installed",
     "output_type": "error",
     "traceback": [
      "\u001b[0;31m---------------------------------------------------------------------------\u001b[0m",
      "\u001b[0;31mImportError\u001b[0m                               Traceback (most recent call last)",
      "\u001b[0;32m<ipython-input-7-7bda50a0679f>\u001b[0m in \u001b[0;36m<module>\u001b[0;34m()\u001b[0m\n\u001b[0;32m----> 1\u001b[0;31m \u001b[0mget_ipython\u001b[0m\u001b[0;34m(\u001b[0m\u001b[0;34m)\u001b[0m\u001b[0;34m.\u001b[0m\u001b[0mrun_cell_magic\u001b[0m\u001b[0;34m(\u001b[0m\u001b[0;34m'sql'\u001b[0m\u001b[0;34m,\u001b[0m \u001b[0;34m''\u001b[0m\u001b[0;34m,\u001b[0m \u001b[0;34m'\\\\l'\u001b[0m\u001b[0;34m)\u001b[0m\u001b[0;34m\u001b[0m\u001b[0m\n\u001b[0m",
      "\u001b[0;32m/Library/Frameworks/Python.framework/Versions/3.6/lib/python3.6/site-packages/IPython/core/interactiveshell.py\u001b[0m in \u001b[0;36mrun_cell_magic\u001b[0;34m(self, magic_name, line, cell)\u001b[0m\n\u001b[1;32m   2165\u001b[0m             \u001b[0mmagic_arg_s\u001b[0m \u001b[0;34m=\u001b[0m \u001b[0mself\u001b[0m\u001b[0;34m.\u001b[0m\u001b[0mvar_expand\u001b[0m\u001b[0;34m(\u001b[0m\u001b[0mline\u001b[0m\u001b[0;34m,\u001b[0m \u001b[0mstack_depth\u001b[0m\u001b[0;34m)\u001b[0m\u001b[0;34m\u001b[0m\u001b[0m\n\u001b[1;32m   2166\u001b[0m             \u001b[0;32mwith\u001b[0m \u001b[0mself\u001b[0m\u001b[0;34m.\u001b[0m\u001b[0mbuiltin_trap\u001b[0m\u001b[0;34m:\u001b[0m\u001b[0;34m\u001b[0m\u001b[0m\n\u001b[0;32m-> 2167\u001b[0;31m                 \u001b[0mresult\u001b[0m \u001b[0;34m=\u001b[0m \u001b[0mfn\u001b[0m\u001b[0;34m(\u001b[0m\u001b[0mmagic_arg_s\u001b[0m\u001b[0;34m,\u001b[0m \u001b[0mcell\u001b[0m\u001b[0;34m)\u001b[0m\u001b[0;34m\u001b[0m\u001b[0m\n\u001b[0m\u001b[1;32m   2168\u001b[0m             \u001b[0;32mreturn\u001b[0m \u001b[0mresult\u001b[0m\u001b[0;34m\u001b[0m\u001b[0m\n\u001b[1;32m   2169\u001b[0m \u001b[0;34m\u001b[0m\u001b[0m\n",
      "\u001b[0;32m<decorator-gen-126>\u001b[0m in \u001b[0;36mexecute\u001b[0;34m(self, line, cell, local_ns)\u001b[0m\n",
      "\u001b[0;32m/Library/Frameworks/Python.framework/Versions/3.6/lib/python3.6/site-packages/IPython/core/magic.py\u001b[0m in \u001b[0;36m<lambda>\u001b[0;34m(f, *a, **k)\u001b[0m\n\u001b[1;32m    185\u001b[0m     \u001b[0;31m# but it's overkill for just that one bit of state.\u001b[0m\u001b[0;34m\u001b[0m\u001b[0;34m\u001b[0m\u001b[0m\n\u001b[1;32m    186\u001b[0m     \u001b[0;32mdef\u001b[0m \u001b[0mmagic_deco\u001b[0m\u001b[0;34m(\u001b[0m\u001b[0marg\u001b[0m\u001b[0;34m)\u001b[0m\u001b[0;34m:\u001b[0m\u001b[0;34m\u001b[0m\u001b[0m\n\u001b[0;32m--> 187\u001b[0;31m         \u001b[0mcall\u001b[0m \u001b[0;34m=\u001b[0m \u001b[0;32mlambda\u001b[0m \u001b[0mf\u001b[0m\u001b[0;34m,\u001b[0m \u001b[0;34m*\u001b[0m\u001b[0ma\u001b[0m\u001b[0;34m,\u001b[0m \u001b[0;34m**\u001b[0m\u001b[0mk\u001b[0m\u001b[0;34m:\u001b[0m \u001b[0mf\u001b[0m\u001b[0;34m(\u001b[0m\u001b[0;34m*\u001b[0m\u001b[0ma\u001b[0m\u001b[0;34m,\u001b[0m \u001b[0;34m**\u001b[0m\u001b[0mk\u001b[0m\u001b[0;34m)\u001b[0m\u001b[0;34m\u001b[0m\u001b[0m\n\u001b[0m\u001b[1;32m    188\u001b[0m \u001b[0;34m\u001b[0m\u001b[0m\n\u001b[1;32m    189\u001b[0m         \u001b[0;32mif\u001b[0m \u001b[0mcallable\u001b[0m\u001b[0;34m(\u001b[0m\u001b[0marg\u001b[0m\u001b[0;34m)\u001b[0m\u001b[0;34m:\u001b[0m\u001b[0;34m\u001b[0m\u001b[0m\n",
      "\u001b[0;32m<decorator-gen-125>\u001b[0m in \u001b[0;36mexecute\u001b[0;34m(self, line, cell, local_ns)\u001b[0m\n",
      "\u001b[0;32m/Library/Frameworks/Python.framework/Versions/3.6/lib/python3.6/site-packages/IPython/core/magic.py\u001b[0m in \u001b[0;36m<lambda>\u001b[0;34m(f, *a, **k)\u001b[0m\n\u001b[1;32m    185\u001b[0m     \u001b[0;31m# but it's overkill for just that one bit of state.\u001b[0m\u001b[0;34m\u001b[0m\u001b[0;34m\u001b[0m\u001b[0m\n\u001b[1;32m    186\u001b[0m     \u001b[0;32mdef\u001b[0m \u001b[0mmagic_deco\u001b[0m\u001b[0;34m(\u001b[0m\u001b[0marg\u001b[0m\u001b[0;34m)\u001b[0m\u001b[0;34m:\u001b[0m\u001b[0;34m\u001b[0m\u001b[0m\n\u001b[0;32m--> 187\u001b[0;31m         \u001b[0mcall\u001b[0m \u001b[0;34m=\u001b[0m \u001b[0;32mlambda\u001b[0m \u001b[0mf\u001b[0m\u001b[0;34m,\u001b[0m \u001b[0;34m*\u001b[0m\u001b[0ma\u001b[0m\u001b[0;34m,\u001b[0m \u001b[0;34m**\u001b[0m\u001b[0mk\u001b[0m\u001b[0;34m:\u001b[0m \u001b[0mf\u001b[0m\u001b[0;34m(\u001b[0m\u001b[0;34m*\u001b[0m\u001b[0ma\u001b[0m\u001b[0;34m,\u001b[0m \u001b[0;34m**\u001b[0m\u001b[0mk\u001b[0m\u001b[0;34m)\u001b[0m\u001b[0;34m\u001b[0m\u001b[0m\n\u001b[0m\u001b[1;32m    188\u001b[0m \u001b[0;34m\u001b[0m\u001b[0m\n\u001b[1;32m    189\u001b[0m         \u001b[0;32mif\u001b[0m \u001b[0mcallable\u001b[0m\u001b[0;34m(\u001b[0m\u001b[0marg\u001b[0m\u001b[0;34m)\u001b[0m\u001b[0;34m:\u001b[0m\u001b[0;34m\u001b[0m\u001b[0m\n",
      "\u001b[0;32m/Library/Frameworks/Python.framework/Versions/3.6/lib/python3.6/site-packages/sql/magic.py\u001b[0m in \u001b[0;36mexecute\u001b[0;34m(self, line, cell, local_ns)\u001b[0m\n\u001b[1;32m     93\u001b[0m \u001b[0;34m\u001b[0m\u001b[0m\n\u001b[1;32m     94\u001b[0m         \u001b[0;32mtry\u001b[0m\u001b[0;34m:\u001b[0m\u001b[0;34m\u001b[0m\u001b[0m\n\u001b[0;32m---> 95\u001b[0;31m             \u001b[0mresult\u001b[0m \u001b[0;34m=\u001b[0m \u001b[0msql\u001b[0m\u001b[0;34m.\u001b[0m\u001b[0mrun\u001b[0m\u001b[0;34m.\u001b[0m\u001b[0mrun\u001b[0m\u001b[0;34m(\u001b[0m\u001b[0mconn\u001b[0m\u001b[0;34m,\u001b[0m \u001b[0mparsed\u001b[0m\u001b[0;34m[\u001b[0m\u001b[0;34m'sql'\u001b[0m\u001b[0;34m]\u001b[0m\u001b[0;34m,\u001b[0m \u001b[0mself\u001b[0m\u001b[0;34m,\u001b[0m \u001b[0muser_ns\u001b[0m\u001b[0;34m)\u001b[0m\u001b[0;34m\u001b[0m\u001b[0m\n\u001b[0m\u001b[1;32m     96\u001b[0m \u001b[0;34m\u001b[0m\u001b[0m\n\u001b[1;32m     97\u001b[0m             \u001b[0;32mif\u001b[0m \u001b[0mresult\u001b[0m \u001b[0;32mis\u001b[0m \u001b[0;32mnot\u001b[0m \u001b[0;32mNone\u001b[0m \u001b[0;32mand\u001b[0m \u001b[0;32mnot\u001b[0m \u001b[0misinstance\u001b[0m\u001b[0;34m(\u001b[0m\u001b[0mresult\u001b[0m\u001b[0;34m,\u001b[0m \u001b[0mstr\u001b[0m\u001b[0;34m)\u001b[0m \u001b[0;32mand\u001b[0m \u001b[0mself\u001b[0m\u001b[0;34m.\u001b[0m\u001b[0mcolumn_local_vars\u001b[0m\u001b[0;34m:\u001b[0m\u001b[0;34m\u001b[0m\u001b[0m\n",
      "\u001b[0;32m/Library/Frameworks/Python.framework/Versions/3.6/lib/python3.6/site-packages/sql/run.py\u001b[0m in \u001b[0;36mrun\u001b[0;34m(conn, sql, config, user_namespace)\u001b[0m\n\u001b[1;32m    331\u001b[0m             \u001b[0;32mif\u001b[0m \u001b[0mfirst_word\u001b[0m\u001b[0;34m.\u001b[0m\u001b[0mstartswith\u001b[0m\u001b[0;34m(\u001b[0m\u001b[0;34m'\\\\'\u001b[0m\u001b[0;34m)\u001b[0m \u001b[0;32mand\u001b[0m \u001b[0;34m'postgres'\u001b[0m \u001b[0;32min\u001b[0m \u001b[0mstr\u001b[0m\u001b[0;34m(\u001b[0m\u001b[0mconn\u001b[0m\u001b[0;34m.\u001b[0m\u001b[0mdialect\u001b[0m\u001b[0;34m)\u001b[0m\u001b[0;34m:\u001b[0m\u001b[0;34m\u001b[0m\u001b[0m\n\u001b[1;32m    332\u001b[0m                 \u001b[0;32mif\u001b[0m \u001b[0;32mnot\u001b[0m \u001b[0mPGSpecial\u001b[0m\u001b[0;34m:\u001b[0m\u001b[0;34m\u001b[0m\u001b[0m\n\u001b[0;32m--> 333\u001b[0;31m                     \u001b[0;32mraise\u001b[0m \u001b[0mImportError\u001b[0m\u001b[0;34m(\u001b[0m\u001b[0;34m'pgspecial not installed'\u001b[0m\u001b[0;34m)\u001b[0m\u001b[0;34m\u001b[0m\u001b[0m\n\u001b[0m\u001b[1;32m    334\u001b[0m                 \u001b[0mpgspecial\u001b[0m \u001b[0;34m=\u001b[0m \u001b[0mPGSpecial\u001b[0m\u001b[0;34m(\u001b[0m\u001b[0;34m)\u001b[0m\u001b[0;34m\u001b[0m\u001b[0m\n\u001b[1;32m    335\u001b[0m                 _, cur, headers, _ = pgspecial.execute(\n",
      "\u001b[0;31mImportError\u001b[0m: pgspecial not installed"
     ]
    }
   ],
   "source": [
    "%%sql\n",
    "\\l"
   ]
  },
  {
   "cell_type": "code",
   "execution_count": 42,
   "metadata": {},
   "outputs": [
    {
     "name": "stdout",
     "output_type": "stream",
     "text": [
      "   postgresql://localhost/juliezhu\n",
      " * postgresql://localhost/postgres\n",
      "Done.\n",
      "Done.\n"
     ]
    },
    {
     "data": {
      "text/plain": [
       "[]"
      ]
     },
     "execution_count": 42,
     "metadata": {},
     "output_type": "execute_result"
    }
   ],
   "source": [
    "%%sql\n",
    "drop table actor;\n",
    "create table actor(\n",
    " actor_id int primary key,\n",
    " first_name varchar(50),\n",
    " last_name varchar(50),\n",
    " last_update timestamp\n",
    ") "
   ]
  },
  {
   "cell_type": "code",
   "execution_count": 43,
   "metadata": {},
   "outputs": [
    {
     "name": "stdout",
     "output_type": "stream",
     "text": [
      "   postgresql://localhost/juliezhu\n",
      " * postgresql://localhost/postgres\n",
      "Done.\n",
      "Done.\n"
     ]
    },
    {
     "data": {
      "text/plain": [
       "[]"
      ]
     },
     "execution_count": 43,
     "metadata": {},
     "output_type": "execute_result"
    }
   ],
   "source": [
    "%%sql\n",
    "drop table rental;\n",
    "create table rental(\n",
    " rental_id int primary key,\n",
    " rental_date timestamp,\n",
    " inventory_id int,\n",
    " customer_id int,\n",
    " return_date timestamp,\n",
    " staff_id int,\n",
    " last_update timestamp\n",
    ") "
   ]
  },
  {
   "cell_type": "code",
   "execution_count": 44,
   "metadata": {},
   "outputs": [
    {
     "name": "stdout",
     "output_type": "stream",
     "text": [
      "   postgresql://localhost/juliezhu\n",
      " * postgresql://localhost/postgres\n",
      "Done.\n",
      "Done.\n"
     ]
    },
    {
     "data": {
      "text/plain": [
       "[]"
      ]
     },
     "execution_count": 44,
     "metadata": {},
     "output_type": "execute_result"
    }
   ],
   "source": [
    "%%sql\n",
    "drop table film_actor;\n",
    "create table film_actor(\n",
    " actor_id int,\n",
    " film_id int,\n",
    " last_update timestamp\n",
    ") "
   ]
  },
  {
   "cell_type": "code",
   "execution_count": 45,
   "metadata": {},
   "outputs": [
    {
     "name": "stdout",
     "output_type": "stream",
     "text": [
      "   postgresql://localhost/juliezhu\n",
      " * postgresql://localhost/postgres\n",
      "Done.\n",
      "Done.\n"
     ]
    },
    {
     "data": {
      "text/plain": [
       "[]"
      ]
     },
     "execution_count": 45,
     "metadata": {},
     "output_type": "execute_result"
    }
   ],
   "source": [
    "%%sql\n",
    "drop table language;\n",
    "create table language(\n",
    " language_id int,\n",
    " name varchar(50),\n",
    " last_update timestamp\n",
    ") "
   ]
  },
  {
   "cell_type": "code",
   "execution_count": 46,
   "metadata": {},
   "outputs": [
    {
     "name": "stdout",
     "output_type": "stream",
     "text": [
      "   postgresql://localhost/juliezhu\n",
      " * postgresql://localhost/postgres\n",
      "Done.\n",
      "Done.\n"
     ]
    },
    {
     "data": {
      "text/plain": [
       "[]"
      ]
     },
     "execution_count": 46,
     "metadata": {},
     "output_type": "execute_result"
    }
   ],
   "source": [
    "%%sql\n",
    "drop table films;\n",
    "create table films(\n",
    " film_id int primary key,\n",
    " title varchar(150),\n",
    " description varchar(300),\n",
    " release_year int,\n",
    " language_id int,\n",
    " rental_duration int,\n",
    " rental_rate double precision,\n",
    " length int,\n",
    " replacement_cost double precision,\n",
    " rating varchar(50),\n",
    " last_update timestamp,\n",
    " special_features varchar[],\n",
    " full_text varchar(300)\n",
    ") "
   ]
  },
  {
   "cell_type": "code",
   "execution_count": 62,
   "metadata": {},
   "outputs": [
    {
     "name": "stdout",
     "output_type": "stream",
     "text": [
      "   postgresql://localhost/juliezhu\n",
      " * postgresql://localhost/postgres\n",
      "Done.\n",
      "Done.\n"
     ]
    },
    {
     "data": {
      "text/plain": [
       "[]"
      ]
     },
     "execution_count": 62,
     "metadata": {},
     "output_type": "execute_result"
    }
   ],
   "source": [
    "%%sql\n",
    "drop table film_category;\n",
    "create table film_category(\n",
    " film_id float,\n",
    " category_id float,\n",
    " last_update timestamp\n",
    ") "
   ]
  },
  {
   "cell_type": "code",
   "execution_count": 18,
   "metadata": {},
   "outputs": [
    {
     "name": "stdout",
     "output_type": "stream",
     "text": [
      "CREATE TABLE\r\n"
     ]
    }
   ],
   "source": [
    "!psql -d postgres -c 'create table film_category(film_id int, category_id int, last_update timestamp)' "
   ]
  },
  {
   "cell_type": "code",
   "execution_count": 17,
   "metadata": {},
   "outputs": [
    {
     "name": "stdout",
     "output_type": "stream",
     "text": [
      "CREATE TABLE\r\n"
     ]
    }
   ],
   "source": [
    "!psql -d postgres -c 'create table category(category_id int, name varchar(50), last_update timestamp)'"
   ]
  },
  {
   "cell_type": "code",
   "execution_count": 63,
   "metadata": {},
   "outputs": [
    {
     "name": "stdout",
     "output_type": "stream",
     "text": [
      "   postgresql://localhost/juliezhu\n",
      " * postgresql://localhost/postgres\n",
      "1000 rows affected.\n"
     ]
    },
    {
     "data": {
      "text/plain": [
       "[]"
      ]
     },
     "execution_count": 63,
     "metadata": {},
     "output_type": "execute_result"
    }
   ],
   "source": [
    "%%sql\n",
    "--copy actor from '/Users/juliezhu/Github/sql-training-tool/content/data/actor.csv' delimiter ',' csv header;\n",
    "--copy films from '/Users/juliezhu/Github/sql-training-tool/content/data/films.csv' delimiter ',' csv header;\n",
    "--copy film_actor from '/Users/juliezhu/Github/sql-training-tool/content/data/film_actor.csv' delimiter ',' csv header;\n",
    "--copy rental from '/Users/juliezhu/Github/sql-training-tool/content/data/rental.csv' delimiter ',' csv header;\n",
    "--copy language from '/Users/juliezhu/Github/sql-training-tool/content/data/language.csv' delimiter ',' csv header;\n",
    "--copy category from '/Users/juliezhu/Github/sql-training-tool/content/data/category.csv' delimiter ',' csv header;\n",
    "copy film_category from '/Users/juliezhu/Github/sql-training-tool/content/data/film_category.csv' delimiter ',' csv header;"
   ]
  },
  {
   "cell_type": "code",
   "execution_count": 23,
   "metadata": {},
   "outputs": [
    {
     "data": {
      "text/plain": [
       "'/Users/juliezhu/Github/sql-training-tool/content'"
      ]
     },
     "execution_count": 23,
     "metadata": {},
     "output_type": "execute_result"
    }
   ],
   "source": [
    "%%sql\n",
    "copy actor from '/Users/juliezhu/Github/sql-training-tool/content/data/actor.csv' delimiter ',' csv header"
   ]
  },
  {
   "cell_type": "markdown",
   "metadata": {},
   "source": [
    "## TODO: example code"
   ]
  },
  {
   "cell_type": "code",
   "execution_count": null,
   "metadata": {},
   "outputs": [],
   "source": [
    "%matplotlib inline"
   ]
  },
  {
   "cell_type": "code",
   "execution_count": 30,
   "metadata": {},
   "outputs": [
    {
     "name": "stdout",
     "output_type": "stream",
     "text": [
      "actor.csv          film_actor.csv     films.csv          rental.csv\r\n",
      "customer.csv       film_category.csv  language.csv\r\n"
     ]
    }
   ],
   "source": [
    "ls /Users/juliezhu/Github/sql-training-tool/content/data"
   ]
  },
  {
   "cell_type": "code",
   "execution_count": null,
   "metadata": {},
   "outputs": [],
   "source": []
  }
 ],
 "metadata": {
  "kernelspec": {
   "display_name": "Python 3",
   "language": "python",
   "name": "python3"
  },
  "language_info": {
   "codemirror_mode": {
    "name": "ipython",
    "version": 3
   },
   "file_extension": ".py",
   "mimetype": "text/x-python",
   "name": "python",
   "nbconvert_exporter": "python",
   "pygments_lexer": "ipython3",
   "version": "3.6.5"
  }
 },
 "nbformat": 4,
 "nbformat_minor": 2
}

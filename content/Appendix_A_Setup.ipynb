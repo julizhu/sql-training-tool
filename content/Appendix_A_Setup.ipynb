{
 "cells": [
  {
   "cell_type": "markdown",
   "metadata": {},
   "source": [
    "## TRAINING TOOL DATA SETUP"
   ]
  },
  {
   "cell_type": "markdown",
   "metadata": {},
   "source": [
    "### LOAD MAGIC EXTENSIONS\n",
    "* This will allow for easy creation and loading of training data set\n",
    "* Connect to default postgres database"
   ]
  },
  {
   "cell_type": "code",
   "execution_count": 2,
   "metadata": {},
   "outputs": [
    {
     "data": {
      "text/plain": [
       "'Connected: @postgres'"
      ]
     },
     "execution_count": 2,
     "metadata": {},
     "output_type": "execute_result"
    }
   ],
   "source": [
    "%load_ext sql\n",
    "%sql postgresql://localhost/postgres"
   ]
  },
  {
   "cell_type": "markdown",
   "metadata": {},
   "source": [
    "### CREATE TABLE SCHEMAS FOR DATA\n",
    "* 7 tables total\n",
    "* Some tables have integers typecasted as float to introduce \"messy\" data within the base schema"
   ]
  },
  {
   "cell_type": "code",
   "execution_count": 5,
   "metadata": {},
   "outputs": [
    {
     "name": "stdout",
     "output_type": "stream",
     "text": [
      " * postgresql://localhost/postgres\n",
      "Done.\n",
      "Done.\n",
      "Done.\n",
      "Done.\n",
      "Done.\n",
      "Done.\n",
      "Done.\n"
     ]
    },
    {
     "data": {
      "text/plain": [
       "[]"
      ]
     },
     "execution_count": 5,
     "metadata": {},
     "output_type": "execute_result"
    }
   ],
   "source": [
    "%%sql\n",
    "create table actor(\n",
    " actor_id int primary key,\n",
    " first_name varchar(50),\n",
    " last_name varchar(50),\n",
    " last_update timestamp\n",
    ");\n",
    "\n",
    "create table rental(\n",
    " rental_id int primary key,\n",
    " rental_date timestamp,\n",
    " inventory_id int,\n",
    " customer_id int,\n",
    " return_date timestamp,\n",
    " staff_id int,\n",
    " last_update timestamp\n",
    ");\n",
    "\n",
    "create table film_actor(\n",
    " actor_id int,\n",
    " film_id int,\n",
    " last_update timestamp\n",
    ");\n",
    "\n",
    "create table language(\n",
    " language_id int,\n",
    " name varchar(50),\n",
    " last_update timestamp\n",
    ");\n",
    "\n",
    "create table film(\n",
    " film_id int primary key,\n",
    " title varchar(150),\n",
    " description varchar(300),\n",
    " release_year int,\n",
    " language_id int,\n",
    " rental_duration int,\n",
    " rental_rate double precision,\n",
    " length int,\n",
    " replacement_cost double precision,\n",
    " rating varchar(50),\n",
    " last_update timestamp,\n",
    " special_features varchar[],\n",
    " full_text varchar(300)\n",
    ");\n",
    "\n",
    "create table film_category(\n",
    " film_id float,\n",
    " category_id float,\n",
    " last_update timestamp\n",
    ");\n",
    "\n",
    "create table category(\n",
    " category_id int primary key,\n",
    " name varchar(50),\n",
    " last_update timestamp\n",
    ");"
   ]
  },
  {
   "cell_type": "markdown",
   "metadata": {},
   "source": [
    "### COPY CSV DATA INTO DATABASE\n",
    "* How do you refer to the files without hardcoding? <br>\n",
    "* Make sure that the data cleaning is also reproducible"
   ]
  },
  {
   "cell_type": "code",
   "execution_count": 6,
   "metadata": {},
   "outputs": [
    {
     "name": "stdout",
     "output_type": "stream",
     "text": [
      " * postgresql://localhost/postgres\n",
      "200 rows affected.\n",
      "1000 rows affected.\n",
      "5462 rows affected.\n",
      "16044 rows affected.\n",
      "6 rows affected.\n",
      "16 rows affected.\n",
      "1000 rows affected.\n"
     ]
    },
    {
     "data": {
      "text/plain": [
       "[]"
      ]
     },
     "execution_count": 6,
     "metadata": {},
     "output_type": "execute_result"
    }
   ],
   "source": [
    "%%sql \n",
    "copy actor from '/Users/juliezhu/Github/sql-training-tool/content/data/actor.csv' delimiter ',' csv header;\n",
    "copy film from '/Users/juliezhu/Github/sql-training-tool/content/data/film.csv' delimiter ',' csv header;\n",
    "copy film_actor from '/Users/juliezhu/Github/sql-training-tool/content/data/film_actor.csv' delimiter ',' csv header;\n",
    "copy rental from '/Users/juliezhu/Github/sql-training-tool/content/data/rental.csv' delimiter ',' csv header;\n",
    "copy language from '/Users/juliezhu/Github/sql-training-tool/content/data/language.csv' delimiter ',' csv header;\n",
    "copy category from '/Users/juliezhu/Github/sql-training-tool/content/data/category.csv' delimiter ',' csv header;\n",
    "copy film_category from '/Users/juliezhu/Github/sql-training-tool/content/data/film_category.csv' delimiter ',' csv header;"
   ]
  },
  {
   "cell_type": "code",
   "execution_count": 3,
   "metadata": {},
   "outputs": [
    {
     "name": "stdout",
     "output_type": "stream",
     "text": [
      " * postgresql://localhost/postgres\n",
      "Done.\n",
      "Done.\n",
      "16044 rows affected.\n"
     ]
    },
    {
     "data": {
      "text/plain": [
       "[]"
      ]
     },
     "execution_count": 3,
     "metadata": {},
     "output_type": "execute_result"
    }
   ],
   "source": [
    "%%sql\n",
    "-- For specific table tweaks\n",
    "drop table rental;\n",
    "create table rental(\n",
    " rental_id int primary key,\n",
    " rental_date timestamp,\n",
    " inventory_id int,\n",
    " customer_id int,\n",
    " return_date timestamp,\n",
    " staff_id int,\n",
    " last_update timestamp\n",
    ");\n",
    "copy rental from '/Users/juliezhu/Github/sql-training-tool/content/data/rental.csv' delimiter ',' csv header;"
   ]
  },
  {
   "cell_type": "code",
   "execution_count": 4,
   "metadata": {},
   "outputs": [
    {
     "name": "stdout",
     "output_type": "stream",
     "text": [
      " * postgresql://localhost/postgres\n",
      "Done.\n",
      "Done.\n",
      "Done.\n",
      "Done.\n",
      "Done.\n",
      "Done.\n",
      "Done.\n"
     ]
    },
    {
     "data": {
      "text/plain": [
       "[]"
      ]
     },
     "execution_count": 4,
     "metadata": {},
     "output_type": "execute_result"
    }
   ],
   "source": [
    "%%sql\n",
    "-- Quick delete nuclear option\n",
    "drop table rental;\n",
    "drop table actor;\n",
    "drop table film;\n",
    "drop table film_actor;\n",
    "drop table category;\n",
    "drop table film_category;\n",
    "drop table language;"
   ]
  },
  {
   "cell_type": "code",
   "execution_count": null,
   "metadata": {},
   "outputs": [],
   "source": [
    "# Back-up code for scripting\n",
    "# !psql -d postgres -c 'create table category(category_id int, name varchar(50), last_update timestamp)'"
   ]
  }
 ],
 "metadata": {
  "kernelspec": {
   "display_name": "Python 3",
   "language": "python",
   "name": "python3"
  },
  "language_info": {
   "codemirror_mode": {
    "name": "ipython",
    "version": 3
   },
   "file_extension": ".py",
   "mimetype": "text/x-python",
   "name": "python",
   "nbconvert_exporter": "python",
   "pygments_lexer": "ipython3",
   "version": "3.6.5"
  }
 },
 "nbformat": 4,
 "nbformat_minor": 2
}

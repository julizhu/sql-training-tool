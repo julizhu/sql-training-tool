{
 "cells": [
  {
   "cell_type": "markdown",
   "metadata": {},
   "source": [
    "## Data Types and Casting\n",
    "\n",
    "Let's talk about data types. Some databases support only certain data types (for example, SQLite doesn't support datetime or timestamps). The database we are currently using, Postgres, supports many types from timestamps to varchar arrays. \n",
    "\n",
    "This exercise will get you up to speed on understanding data types and learning how to cast from one type to another."
   ]
  },
  {
   "cell_type": "code",
   "execution_count": null,
   "metadata": {},
   "outputs": [],
   "source": [
    "# Load the SQL magic extension\n",
    "%load_ext sql\n",
    "# Connect to the default database (using SQLAlchemy)\n",
    "%sql postgresql://localhost/postgres\n",
    "# Truncate output of your queries so that it's not blowing up the notebook\n",
    "%config SqlMagic.displaylimit = 10"
   ]
  },
  {
   "cell_type": "markdown",
   "metadata": {},
   "source": [
    "### Overview of Data Types\n",
    "\n",
    "There are several different types of data. Just a few important data types to name: numbers, text, and collections. In database terms, these are referred to integers / doubles for numbers, strings for text, and arrays for collections. Most of the time, when you look at a data set, you can probably guess what data type it is.\n",
    "\n",
    "We'll go over a quick example of how to cast data types to different data types before going into a few specific data types (strings and dates in particular). \n",
    "\n",
    "Take a quick look at the `actor` table."
   ]
  },
  {
   "cell_type": "code",
   "execution_count": null,
   "metadata": {},
   "outputs": [],
   "source": [
    "%%sql\n",
    "-- What are the data types for actor_id and first_name?\n",
    "select * from actor limit 5;"
   ]
  },
  {
   "cell_type": "markdown",
   "metadata": {},
   "source": [
    "To double check, we can use the following query to confirm our suspicions. For some systems, there is a user interface layered on top of the data bricks (i.e. Toad and Oracle) that will allow for easier navigation to this information. "
   ]
  },
  {
   "cell_type": "code",
   "execution_count": null,
   "metadata": {},
   "outputs": [],
   "source": [
    "%%sql\n",
    "select \n",
    "  column_name, \n",
    "  data_type \n",
    "from \n",
    "  information_schema.columns\n",
    "where \n",
    "  table_name = 'actor';"
   ]
  },
  {
   "cell_type": "markdown",
   "metadata": {},
   "source": [
    "### Casting\n",
    "\n",
    "Data types are important for when we have to compare between two different variables (i.e. checking equality or something else). In some systems, you can compare integers to strings because the backend will automatically convert the numbers to a string. \n",
    "\n",
    "However, in other systems, we have to cast them to the appropriate data type before we can perform conditional logic on them. <br>\n",
    "\n",
    "See the example below: "
   ]
  },
  {
   "cell_type": "code",
   "execution_count": null,
   "metadata": {},
   "outputs": [],
   "source": [
    "%%sql\n",
    "-- Try checking if last_update is greater than last_name \n",
    "-- (weird comparison, but for the sake of this example let's do it)\n",
    "-- Enter the query here! What kind of error do you get?"
   ]
  },
  {
   "cell_type": "markdown",
   "metadata": {},
   "source": [
    "In order to make the above query work, we need to use the function [`cast()`](https://docs.microsoft.com/en-us/sql/t-sql/functions/cast-and-convert-transact-sql?view=sql-server-2017) and also the data type we want the variable to be:"
   ]
  },
  {
   "cell_type": "code",
   "execution_count": null,
   "metadata": {},
   "outputs": [],
   "source": [
    "%%sql\n",
    "-- To cast a variable to another type, you need to use the cast() function\n",
    "-- But note that comparing last_update to first_name might not make sense! \n",
    "select * from actor where cast(last_update as varchar) < last_name limit 5;"
   ]
  },
  {
   "cell_type": "markdown",
   "metadata": {},
   "source": [
    "### Strings\n",
    "Strings are pretty much similar to strings in other programming languages. A string is a sequence of characters, either as a  constant or as a variable. Strings are used to represent text, but numbers and dates may still be string types.    \n",
    "     \n",
    "**Example Strings:** “String”, “Str!nG2!”, “34578”, “U84-32-12-44”, “2018-12-10”, \"Employees of CDL have the best socks.\"\n",
    "\n",
    "You can hardcode any string as a field"
   ]
  },
  {
   "cell_type": "code",
   "execution_count": null,
   "metadata": {},
   "outputs": [],
   "source": [
    "%%sql\n",
    "-- How do you manually code a string as a field?\n",
    "-- Note that for Postgres, strings are in single quotes (edit accordingly)\n",
    "select\n",
    "  \"banana\" as banana_column\n",
    "from\n",
    "  actor\n",
    "limit 5"
   ]
  },
  {
   "cell_type": "markdown",
   "metadata": {},
   "source": [
    "### Substrings\n",
    "When working with strings, you may want to investigate certain portions of strings in your table (AKA substrings). For example, **“Cascade”** is a substring of **“Cascade Data Labs”**.  \n",
    "  \n",
    "There are many functions in SQL used to pull substrings. The most common are:\n",
    "\n",
    "[`left()`](https://www.techonthenet.com/sql_server/functions/right.php) pulls a substring starting from the left side <br>\n",
    "[`right()`](https://www.techonthenet.com/sql_server/functions/left.php) pulls a substring starting from the right side <br>\n",
    "[`substring()`](https://www.techonthenet.com/sql_server/functions/substring.php) pulls a substring starting from anywhere (as long as you specify the start and end) <br>\n",
    "[`concat()`](https://www.techonthenet.com/sql_server/functions/concat.php) combines any number of strings in the order that they are passed into the function"
   ]
  },
  {
   "cell_type": "code",
   "execution_count": null,
   "metadata": {},
   "outputs": [],
   "source": [
    "%%sql\n",
    "-- Transform the actor's names into billing and hipster names\n",
    "-- 1. First initial and last name ex. J. Zhu\n",
    "-- 2. First name and last name initial ex. Julie Z.\n",
    "select \n",
    "  concat(left(first_name, 1), '. ', last_name) as billing_name, \n",
    "  concat(first_name, ' ', left(last_name, 1), '.') as hipster_Name, \n",
    "  first_name, \n",
    "  last_name \n",
    "from \n",
    "  actor limit 5"
   ]
  },
  {
   "cell_type": "code",
   "execution_count": null,
   "metadata": {},
   "outputs": [],
   "source": [
    "%%sql\n",
    "-- Try using `substring()` to take only the 3rd and 4th characters of first_name\n",
    "-- Note what it does to shorter strings like 'Ed'\n",
    "select\n",
    "  substring(first_name, 3, 1) as third_and_fourth,\n",
    "  first_name\n",
    "from\n",
    "  actor\n",
    "limit 5"
   ]
  },
  {
   "cell_type": "markdown",
   "metadata": {},
   "source": [
    "Substring magic will be very useful when you have coded campaign IDs running through a system with mutiple pieces of information encoded in it.\n",
    "\n",
    "### String Comparisons\n",
    "\n",
    "If you want to compare two strings, how do you know which string is greater? Run the following query and make a guess as to how strings are compared. Is it by length or by character?"
   ]
  },
  {
   "cell_type": "code",
   "execution_count": null,
   "metadata": {},
   "outputs": [],
   "source": [
    "%%sql\n",
    "select\n",
    "  'a' > 'b' as ab_comp,\n",
    "  'b' > '0' as b0_comp,\n",
    "  '9' > '0' as num_comp,\n",
    "  'z9sfw' > '4afes' as z4_comp\n",
    "from\n",
    "  actor\n",
    "limit 5;"
   ]
  },
  {
   "cell_type": "markdown",
   "metadata": {},
   "source": [
    "### String Matching\n",
    "\n",
    "When working with data, you often want to filter your output to certain instances of strings (once you get to joins, you'll see why string matching is super important for join keys too). \n",
    "\n",
    "In the case of this DVD rental store, we want to be filtering our current film catalog to retrieve certain pieces of information for the customer (Karent prefers paper catalogs, but we are an eco-friendly DVD rental store with data bases and technology). We will investigate the different methods in string matching through the `film` table.\n",
    "\n",
    "Common string cleaning functions: <br>\n",
    "[`upper()`](https://www.techonthenet.com/sql_server/functions/upper.php) takes a string and makes all the letters uppercase. <br>\n",
    "[`lower()`](https://www.techonthenet.com/sql_server/functions/lower.php) takes a string and makes all of the letters lowercase. <br>\n",
    "[`trim()`](https://www.techonthenet.com/sql_server/functions/trim.php) takes a string and removes all whitespaces before and after the letters. <br>"
   ]
  },
  {
   "cell_type": "code",
   "execution_count": null,
   "metadata": {},
   "outputs": [],
   "source": [
    "%%sql\n",
    "-- Transform actor first_name to be all uppercase in one column and all lowercase in another column\n",
    "-- Enter your query here!\n",
    "select\n",
    "  upper(first_name) as upper_first_name,\n",
    "  lower(first_name) as lower_first_name\n",
    "from\n",
    "  actor\n",
    "limit 5;"
   ]
  },
  {
   "cell_type": "markdown",
   "metadata": {},
   "source": [
    "Note that white spaces in strings will affect the outcome of any string comparisons. This kind of messy data is very common in production environments, so be sure to trim those strings before checking for equalities or other values."
   ]
  },
  {
   "cell_type": "code",
   "execution_count": null,
   "metadata": {},
   "outputs": [],
   "source": [
    "%%sql\n",
    "select\n",
    "  ' banana' = 'banana' as banana_truths,\n",
    "  trim(' banana') = 'banana' as trimmed_bananas\n",
    "from\n",
    "  actor\n",
    "limit 1"
   ]
  },
  {
   "cell_type": "code",
   "execution_count": null,
   "metadata": {},
   "outputs": [],
   "source": [
    "%%sql\n",
    "-- Select the actor with the name Laura Verhulst \n",
    "-- Laura likes her last name capitalized in a certain way...but you can't ask her. \n",
    "-- You gotta use string cleaning functions!\n",
    "select\n",
    "  *\n",
    "from\n",
    "  actor\n",
    "where\n",
    "  upper(first_name) = 'LAURA' and\n",
    "  upper(last_name) = 'VERHULST'"
   ]
  },
  {
   "cell_type": "markdown",
   "metadata": {},
   "source": [
    "### Wildcards and Pattern Matching\n",
    "\n",
    "What happens when you are trying to look for a pattern in a string but it's all over the place and not in a set position? It will be difficult to use position-based functions like `right()`, `left()`, and `substring()`. Two solutions here:\n",
    "\n",
    "* Wildcards\n",
    "* Regular Expressions\n",
    "\n",
    "In general, wildcards are more readable and easier to understand in code. Using regular expressions in SQL is a clean way to sweep up convoluted logic, however, requires the reader to have a good mastery of regex. We will go through both in this section."
   ]
  },
  {
   "cell_type": "markdown",
   "metadata": {},
   "source": [
    "**Wildcards and Like Clauses**  \n",
    "\n",
    "Wildcards are useful when you are searching for a particular keyword for phrase. For example, a customer wants to know all of the films related to Africa. In this case, a quick search through the database for the word \"Africa\" would lead to some good preliminary results. However, by using a strict equality for film_title = \"Africa\", we might be losing some movie titles with longer names.  \n",
    "\n",
    "In order to get all films with the word \"Africa\" in it, we need the `like` clause, which allows for pattern matching. The `like` clause uses wildcards to identify patterns. There are two wildcards used in conjunction with the `like` operator:   \n",
    "\n",
    "1. % The percent sign represents zero, one, or multiple characters       \n",
    "2. _ The underscore represents a single character\n",
    "  \n",
    "**Tip**: When pattern matching, make your search pattern as specific as possible. The more general your pattern is, the more likely it will return unexpected outputs."
   ]
  },
  {
   "cell_type": "code",
   "execution_count": null,
   "metadata": {},
   "outputs": [],
   "source": [
    "%%sql\n",
    "select film_id, title from film where title = 'Africa';"
   ]
  },
  {
   "cell_type": "code",
   "execution_count": null,
   "metadata": {},
   "outputs": [],
   "source": [
    "%%sql\n",
    "select film_id, title from film where title like '%africa%'"
   ]
  },
  {
   "cell_type": "code",
   "execution_count": null,
   "metadata": {},
   "outputs": [],
   "source": [
    "%%sql\n",
    "select film_id, title from film where lower(title) like '%africa%'"
   ]
  },
  {
   "cell_type": "markdown",
   "metadata": {},
   "source": [
    "**Regular Expressions**\n",
    "\n",
    "Regular expressions are another way to specify patterns in strings. It allows for a greater range in patterns to search for (more so than the `like` operator). \n",
    "\n",
    "For example:\n",
    "\n",
    "`t(a|i)n`\n",
    "\n",
    "searches for a string that starts with a 't', followed by either 'a' or 'i', then lastly followed by an 'n'. The strings that satisfy that grammar are 'tan' and 'tin'. If you would like more resources on writing regular expressions, [click here](https://docs.oracle.com/cd/B13789_01/appdev.101/b10795/adfns_re.htm). \n",
    "\n",
    "Let's go through a small example. \n",
    "\n",
    "`regexp_matches()` returns a boolean after checking whether the given string matches the pattern specified"
   ]
  },
  {
   "cell_type": "code",
   "execution_count": null,
   "metadata": {},
   "outputs": [],
   "source": [
    "%%sql\n",
    "-- Pick a string to match in the first argument\n",
    "-- Write your regular expression\n",
    "select regexp_matches('abcAccABC', '[abc]{3}');"
   ]
  }
 ],
 "metadata": {
  "kernelspec": {
   "display_name": "Python 3",
   "language": "python",
   "name": "python3"
  },
  "language_info": {
   "codemirror_mode": {
    "name": "ipython",
    "version": 3
   },
   "file_extension": ".py",
   "mimetype": "text/x-python",
   "name": "python",
   "nbconvert_exporter": "python",
   "pygments_lexer": "ipython3",
   "version": "3.6.5"
  }
 },
 "nbformat": 4,
 "nbformat_minor": 2
}

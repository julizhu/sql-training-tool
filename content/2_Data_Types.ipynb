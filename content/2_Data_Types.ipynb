{
 "cells": [
  {
   "cell_type": "markdown",
   "metadata": {},
   "source": [
    "## Data Types and Casting\n",
    "\n",
    "Let's talk about data types. Some databases support only certain data types (for example, SQLite doesn't support datetime or timestamps). The database we are currently using, Postgres, supports many types from timestamps to varchar arrays. \n",
    "\n",
    "This exercise will get you up to speed on understanding data types and learning how to cast from one type to another."
   ]
  },
  {
   "cell_type": "code",
   "execution_count": 2,
   "metadata": {},
   "outputs": [],
   "source": [
    "# Load the SQL magic extension\n",
    "%load_ext sql\n",
    "# Connect to the default database (using SQLAlchemy)\n",
    "%sql postgresql://localhost/postgres\n",
    "# Truncate output of your queries so that it's not blowing up the notebook\n",
    "%config SqlMagic.displaylimit = 10"
   ]
  },
  {
   "cell_type": "markdown",
   "metadata": {},
   "source": [
    "### Overview of Data Types\n",
    "\n",
    "There are several different types of data. Just a few important data types to name: numbers, text, and collections. In database terms, these are referred to integers / doubles for numbers, strings for text, and arrays for collections. Most of the time, when you look at a data set, you can probably guess what data type it is.\n",
    "\n",
    "We'll go over a quick example of how to cast data types to different data types before going into a few specific data types (strings and dates in particular). \n",
    "\n",
    "Take a quick look at the `actor` table."
   ]
  },
  {
   "cell_type": "code",
   "execution_count": 11,
   "metadata": {},
   "outputs": [
    {
     "name": "stdout",
     "output_type": "stream",
     "text": [
      " * postgresql://localhost/postgres\n",
      "5 rows affected.\n"
     ]
    },
    {
     "data": {
      "text/html": [
       "<table>\n",
       "    <tr>\n",
       "        <th>actor_id</th>\n",
       "        <th>first_name</th>\n",
       "        <th>last_name</th>\n",
       "        <th>last_update</th>\n",
       "    </tr>\n",
       "    <tr>\n",
       "        <td>1</td>\n",
       "        <td>Penelope</td>\n",
       "        <td>Guiness</td>\n",
       "        <td>2006-02-15 10:05:00</td>\n",
       "    </tr>\n",
       "    <tr>\n",
       "        <td>2</td>\n",
       "        <td>Nick</td>\n",
       "        <td>Wahlberg</td>\n",
       "        <td>2006-02-15 10:05:00</td>\n",
       "    </tr>\n",
       "    <tr>\n",
       "        <td>3</td>\n",
       "        <td>Ed</td>\n",
       "        <td>Chase</td>\n",
       "        <td>2006-02-15 10:05:00</td>\n",
       "    </tr>\n",
       "    <tr>\n",
       "        <td>4</td>\n",
       "        <td>Jennifer</td>\n",
       "        <td>Davis</td>\n",
       "        <td>2006-02-15 10:05:00</td>\n",
       "    </tr>\n",
       "    <tr>\n",
       "        <td>5</td>\n",
       "        <td>Johnny</td>\n",
       "        <td>Lollobrigida</td>\n",
       "        <td>2006-02-15 10:05:00</td>\n",
       "    </tr>\n",
       "</table>"
      ],
      "text/plain": [
       "[(1, 'Penelope', 'Guiness', datetime.datetime(2006, 2, 15, 10, 5)),\n",
       " (2, 'Nick', 'Wahlberg', datetime.datetime(2006, 2, 15, 10, 5)),\n",
       " (3, 'Ed', 'Chase', datetime.datetime(2006, 2, 15, 10, 5)),\n",
       " (4, 'Jennifer', 'Davis', datetime.datetime(2006, 2, 15, 10, 5)),\n",
       " (5, 'Johnny', 'Lollobrigida', datetime.datetime(2006, 2, 15, 10, 5))]"
      ]
     },
     "execution_count": 11,
     "metadata": {},
     "output_type": "execute_result"
    }
   ],
   "source": [
    "%%sql\n",
    "-- What are the data types for actor_id and first_name?\n",
    "select * from actor limit 5;"
   ]
  },
  {
   "cell_type": "markdown",
   "metadata": {},
   "source": [
    "To double check, we can use the following query to confirm our suspicions. For some systems, there is a user interface layered on top of the data bricks (i.e. Toad and Oracle) that will allow for easier navigation to this information. "
   ]
  },
  {
   "cell_type": "code",
   "execution_count": 5,
   "metadata": {},
   "outputs": [
    {
     "name": "stdout",
     "output_type": "stream",
     "text": [
      " * postgresql://localhost/postgres\n",
      "4 rows affected.\n"
     ]
    },
    {
     "data": {
      "text/html": [
       "<table>\n",
       "    <tr>\n",
       "        <th>column_name</th>\n",
       "        <th>data_type</th>\n",
       "    </tr>\n",
       "    <tr>\n",
       "        <td>actor_id</td>\n",
       "        <td>integer</td>\n",
       "    </tr>\n",
       "    <tr>\n",
       "        <td>first_name</td>\n",
       "        <td>character varying</td>\n",
       "    </tr>\n",
       "    <tr>\n",
       "        <td>last_name</td>\n",
       "        <td>character varying</td>\n",
       "    </tr>\n",
       "    <tr>\n",
       "        <td>last_update</td>\n",
       "        <td>timestamp without time zone</td>\n",
       "    </tr>\n",
       "</table>"
      ],
      "text/plain": [
       "[('actor_id', 'integer'),\n",
       " ('first_name', 'character varying'),\n",
       " ('last_name', 'character varying'),\n",
       " ('last_update', 'timestamp without time zone')]"
      ]
     },
     "execution_count": 5,
     "metadata": {},
     "output_type": "execute_result"
    }
   ],
   "source": [
    "%%sql\n",
    "select \n",
    "  column_name, \n",
    "  data_type \n",
    "from \n",
    "  information_schema.columns\n",
    "where \n",
    "  table_name = 'actor';"
   ]
  },
  {
   "cell_type": "markdown",
   "metadata": {},
   "source": [
    "### Casting\n",
    "\n",
    "Data types are important for when we have to compare between two different variables (i.e. checking equality or something else). In some systems, you can compare integers to strings because the backend will automatically convert the numbers to a string. \n",
    "\n",
    "However, in other systems, we have to cast them to the appropriate data type before we can perform conditional logic on them. <br>\n",
    "\n",
    "See the example below: "
   ]
  },
  {
   "cell_type": "code",
   "execution_count": 6,
   "metadata": {},
   "outputs": [
    {
     "name": "stdout",
     "output_type": "stream",
     "text": [
      " * postgresql://localhost/postgres\n",
      "(psycopg2.errors.UndefinedFunction) operator does not exist: timestamp without time zone > character varying\n",
      "LINE 3: select * from actor where last_update > last_name\n",
      "                                              ^\n",
      "HINT:  No operator matches the given name and argument type(s). You might need to add explicit type casts.\n",
      " [SQL: \"-- Try checking if last_update is greater than last_name (weird comparison, but for the sake of this example let's do it)\\n-- What kind of error do you get?\\nselect * from actor where last_update > last_name\"] (Background on this error at: http://sqlalche.me/e/f405)\n"
     ]
    }
   ],
   "source": [
    "%%sql\n",
    "-- Try checking if last_update is greater than last_name \n",
    "-- (weird comparison, but for the sake of this example let's do it)\n",
    "-- Enter the query here! What kind of error do you get?"
   ]
  },
  {
   "cell_type": "markdown",
   "metadata": {},
   "source": [
    "In order to make the above query work, we need to use the function [`cast()`](https://docs.microsoft.com/en-us/sql/t-sql/functions/cast-and-convert-transact-sql?view=sql-server-2017) and also the data type we want the variable to be:"
   ]
  },
  {
   "cell_type": "code",
   "execution_count": 10,
   "metadata": {},
   "outputs": [
    {
     "name": "stdout",
     "output_type": "stream",
     "text": [
      " * postgresql://localhost/postgres\n",
      "5 rows affected.\n"
     ]
    },
    {
     "data": {
      "text/html": [
       "<table>\n",
       "    <tr>\n",
       "        <th>actor_id</th>\n",
       "        <th>first_name</th>\n",
       "        <th>last_name</th>\n",
       "        <th>last_update</th>\n",
       "    </tr>\n",
       "    <tr>\n",
       "        <td>1</td>\n",
       "        <td>Penelope</td>\n",
       "        <td>Guiness</td>\n",
       "        <td>2006-02-15 10:05:00</td>\n",
       "    </tr>\n",
       "    <tr>\n",
       "        <td>2</td>\n",
       "        <td>Nick</td>\n",
       "        <td>Wahlberg</td>\n",
       "        <td>2006-02-15 10:05:00</td>\n",
       "    </tr>\n",
       "    <tr>\n",
       "        <td>3</td>\n",
       "        <td>Ed</td>\n",
       "        <td>Chase</td>\n",
       "        <td>2006-02-15 10:05:00</td>\n",
       "    </tr>\n",
       "    <tr>\n",
       "        <td>4</td>\n",
       "        <td>Jennifer</td>\n",
       "        <td>Davis</td>\n",
       "        <td>2006-02-15 10:05:00</td>\n",
       "    </tr>\n",
       "    <tr>\n",
       "        <td>5</td>\n",
       "        <td>Johnny</td>\n",
       "        <td>Lollobrigida</td>\n",
       "        <td>2006-02-15 10:05:00</td>\n",
       "    </tr>\n",
       "</table>"
      ],
      "text/plain": [
       "[(1, 'Penelope', 'Guiness', datetime.datetime(2006, 2, 15, 10, 5)),\n",
       " (2, 'Nick', 'Wahlberg', datetime.datetime(2006, 2, 15, 10, 5)),\n",
       " (3, 'Ed', 'Chase', datetime.datetime(2006, 2, 15, 10, 5)),\n",
       " (4, 'Jennifer', 'Davis', datetime.datetime(2006, 2, 15, 10, 5)),\n",
       " (5, 'Johnny', 'Lollobrigida', datetime.datetime(2006, 2, 15, 10, 5))]"
      ]
     },
     "execution_count": 10,
     "metadata": {},
     "output_type": "execute_result"
    }
   ],
   "source": [
    "%%sql\n",
    "-- To cast a variable to another type, you need to use the cast() function\n",
    "-- But note that comparing last_update to first_name might not make sense! \n",
    "select * from actor where cast(last_update as varchar) < last_name limit 5;"
   ]
  },
  {
   "cell_type": "markdown",
   "metadata": {},
   "source": [
    "### Strings\n",
    "Strings are pretty much similar to strings in other programming languages. A string is a sequence of characters, either as a  constant or as a variable. Strings are used to represent text, but numbers and dates may still be string types.    \n",
    "     \n",
    "**Example Strings:** “String”, “Str!nG2!”, “34578”, “U84-32-12-44”, “2018-12-10”, \"Employees of CDL have the best socks.\"\n",
    "\n",
    "You can hardcode any string as a field"
   ]
  },
  {
   "cell_type": "code",
   "execution_count": 16,
   "metadata": {},
   "outputs": [
    {
     "name": "stdout",
     "output_type": "stream",
     "text": [
      " * postgresql://localhost/postgres\n",
      "(psycopg2.errors.UndefinedColumn) column \"banana\" does not exist\n",
      "LINE 4:   \"banana\" as banana_column\n",
      "          ^\n",
      " [SQL: '-- How do you manually code a string as a field?\\n-- Note that for Postgres, strings are in single quotes\\nselect\\n  \"banana\" as banana_column\\nfrom\\n  actor\\nlimit 5'] (Background on this error at: http://sqlalche.me/e/f405)\n"
     ]
    }
   ],
   "source": [
    "%%sql\n",
    "-- How do you manually code a string as a field?\n",
    "-- Note that for Postgres, strings are in single quotes (edit accordingly)\n",
    "select\n",
    "  \"banana\" as banana_column\n",
    "from\n",
    "  actor\n",
    "limit 5"
   ]
  },
  {
   "cell_type": "markdown",
   "metadata": {},
   "source": [
    "### Substrings\n",
    "When working with strings, you may want to investigate certain portions of strings in your table (AKA substrings). For example, **“Cascade”** is a substring of **“Cascade Data Labs”**.  \n",
    "  \n",
    "There are many functions in SQL used to pull substrings. The most common are:\n",
    "\n",
    "[`left()`](https://www.techonthenet.com/sql_server/functions/right.php) pulls a substring starting from the left side <br>\n",
    "[`right()`](https://www.techonthenet.com/sql_server/functions/left.php) pulls a substring starting from the right side <br>\n",
    "[`substring()`](https://www.techonthenet.com/sql_server/functions/substring.php) pulls a substring starting from anywhere (as long as you specify the start and end) <br>\n",
    "[`concat()`](https://www.techonthenet.com/sql_server/functions/concat.php) combines any number of strings in the order that they are passed into the function"
   ]
  },
  {
   "cell_type": "code",
   "execution_count": 29,
   "metadata": {},
   "outputs": [
    {
     "name": "stdout",
     "output_type": "stream",
     "text": [
      " * postgresql://localhost/postgres\n",
      "5 rows affected.\n"
     ]
    },
    {
     "data": {
      "text/html": [
       "<table>\n",
       "    <tr>\n",
       "        <th>billing_name</th>\n",
       "        <th>hipster_name</th>\n",
       "        <th>first_name</th>\n",
       "        <th>last_name</th>\n",
       "    </tr>\n",
       "    <tr>\n",
       "        <td>P. Guiness</td>\n",
       "        <td>Penelope G.</td>\n",
       "        <td>Penelope</td>\n",
       "        <td>Guiness</td>\n",
       "    </tr>\n",
       "    <tr>\n",
       "        <td>N. Wahlberg</td>\n",
       "        <td>Nick W.</td>\n",
       "        <td>Nick</td>\n",
       "        <td>Wahlberg</td>\n",
       "    </tr>\n",
       "    <tr>\n",
       "        <td>E. Chase</td>\n",
       "        <td>Ed C.</td>\n",
       "        <td>Ed</td>\n",
       "        <td>Chase</td>\n",
       "    </tr>\n",
       "    <tr>\n",
       "        <td>J. Davis</td>\n",
       "        <td>Jennifer D.</td>\n",
       "        <td>Jennifer</td>\n",
       "        <td>Davis</td>\n",
       "    </tr>\n",
       "    <tr>\n",
       "        <td>J. Lollobrigida</td>\n",
       "        <td>Johnny L.</td>\n",
       "        <td>Johnny</td>\n",
       "        <td>Lollobrigida</td>\n",
       "    </tr>\n",
       "</table>"
      ],
      "text/plain": [
       "[('P. Guiness', 'Penelope G.', 'Penelope', 'Guiness'),\n",
       " ('N. Wahlberg', 'Nick W.', 'Nick', 'Wahlberg'),\n",
       " ('E. Chase', 'Ed C.', 'Ed', 'Chase'),\n",
       " ('J. Davis', 'Jennifer D.', 'Jennifer', 'Davis'),\n",
       " ('J. Lollobrigida', 'Johnny L.', 'Johnny', 'Lollobrigida')]"
      ]
     },
     "execution_count": 29,
     "metadata": {},
     "output_type": "execute_result"
    }
   ],
   "source": [
    "%%sql\n",
    "-- Transform the actor's names into billing and hipster names\n",
    "-- 1. First initial and last name ex. J. Zhu\n",
    "-- 2. First name and last name initial ex. Julie Z.\n",
    "select \n",
    "  concat(left(first_name, 1), '. ', last_name) as billing_name, \n",
    "  concat(first_name, ' ', left(last_name, 1), '.') as hipster_Name, \n",
    "  first_name, \n",
    "  last_name \n",
    "from \n",
    "  actor limit 5"
   ]
  },
  {
   "cell_type": "code",
   "execution_count": 32,
   "metadata": {},
   "outputs": [
    {
     "name": "stdout",
     "output_type": "stream",
     "text": [
      " * postgresql://localhost/postgres\n",
      "5 rows affected.\n"
     ]
    },
    {
     "data": {
      "text/html": [
       "<table>\n",
       "    <tr>\n",
       "        <th>third_and_fourth</th>\n",
       "        <th>first_name</th>\n",
       "    </tr>\n",
       "    <tr>\n",
       "        <td>n</td>\n",
       "        <td>Penelope</td>\n",
       "    </tr>\n",
       "    <tr>\n",
       "        <td>c</td>\n",
       "        <td>Nick</td>\n",
       "    </tr>\n",
       "    <tr>\n",
       "        <td></td>\n",
       "        <td>Ed</td>\n",
       "    </tr>\n",
       "    <tr>\n",
       "        <td>n</td>\n",
       "        <td>Jennifer</td>\n",
       "    </tr>\n",
       "    <tr>\n",
       "        <td>h</td>\n",
       "        <td>Johnny</td>\n",
       "    </tr>\n",
       "</table>"
      ],
      "text/plain": [
       "[('n', 'Penelope'),\n",
       " ('c', 'Nick'),\n",
       " ('', 'Ed'),\n",
       " ('n', 'Jennifer'),\n",
       " ('h', 'Johnny')]"
      ]
     },
     "execution_count": 32,
     "metadata": {},
     "output_type": "execute_result"
    }
   ],
   "source": [
    "%%sql\n",
    "-- Try using `substring()` to take only the 3rd and 4th characters of first_name\n",
    "-- Note what it does to shorter strings like 'Ed'\n",
    "select\n",
    "  substring(first_name, 3, 1) as third_and_fourth,\n",
    "  first_name\n",
    "from\n",
    "  actor\n",
    "limit 5"
   ]
  },
  {
   "cell_type": "markdown",
   "metadata": {},
   "source": [
    "Substring magic will be very useful when you have coded campaign IDs running through a system with mutiple pieces of information encoded in it.\n",
    "\n",
    "### String Comparisons\n",
    "\n",
    "If you want to compare two strings, how do you know which string is greater? Run the following query and make a guess as to how strings are compared. Is it by length or by character?"
   ]
  },
  {
   "cell_type": "code",
   "execution_count": 47,
   "metadata": {},
   "outputs": [
    {
     "name": "stdout",
     "output_type": "stream",
     "text": [
      " * postgresql://localhost/postgres\n",
      "5 rows affected.\n"
     ]
    },
    {
     "data": {
      "text/html": [
       "<table>\n",
       "    <tr>\n",
       "        <th>ab_comp</th>\n",
       "        <th>b0_comp</th>\n",
       "        <th>num_comp</th>\n",
       "        <th>z4_comp</th>\n",
       "    </tr>\n",
       "    <tr>\n",
       "        <td>False</td>\n",
       "        <td>True</td>\n",
       "        <td>True</td>\n",
       "        <td>True</td>\n",
       "    </tr>\n",
       "    <tr>\n",
       "        <td>False</td>\n",
       "        <td>True</td>\n",
       "        <td>True</td>\n",
       "        <td>True</td>\n",
       "    </tr>\n",
       "    <tr>\n",
       "        <td>False</td>\n",
       "        <td>True</td>\n",
       "        <td>True</td>\n",
       "        <td>True</td>\n",
       "    </tr>\n",
       "    <tr>\n",
       "        <td>False</td>\n",
       "        <td>True</td>\n",
       "        <td>True</td>\n",
       "        <td>True</td>\n",
       "    </tr>\n",
       "    <tr>\n",
       "        <td>False</td>\n",
       "        <td>True</td>\n",
       "        <td>True</td>\n",
       "        <td>True</td>\n",
       "    </tr>\n",
       "</table>"
      ],
      "text/plain": [
       "[(False, True, True, True),\n",
       " (False, True, True, True),\n",
       " (False, True, True, True),\n",
       " (False, True, True, True),\n",
       " (False, True, True, True)]"
      ]
     },
     "execution_count": 47,
     "metadata": {},
     "output_type": "execute_result"
    }
   ],
   "source": [
    "%%sql\n",
    "select\n",
    "  'a' > 'b' as ab_comp,\n",
    "  'b' > '0' as b0_comp,\n",
    "  '9' > '0' as num_comp,\n",
    "  'z9sfw' > '4afes' as z4_comp\n",
    "from\n",
    "  actor\n",
    "limit 5;"
   ]
  },
  {
   "cell_type": "markdown",
   "metadata": {},
   "source": [
    "### String Matching\n",
    "\n",
    "When working with data, you often want to filter your output to certain instances of strings (once you get to joins, you'll see why string matching is super important for join keys too). \n",
    "\n",
    "In the case of this DVD rental store, we want to be filtering our current film catalog to retrieve certain pieces of information for the customer (Karent prefers paper catalogs, but we are an eco-friendly DVD rental store with data bases and technology). We will investigate the different methods in string matching through the `film` table.\n",
    "\n",
    "Common string cleaning functions: <br>\n",
    "[`upper()`](https://www.techonthenet.com/sql_server/functions/upper.php) takes a string and makes all the letters uppercase. <br>\n",
    "[`lower()`](https://www.techonthenet.com/sql_server/functions/lower.php) takes a string and makes all of the letters lowercase. <br>\n",
    "[`trim()`](https://www.techonthenet.com/sql_server/functions/trim.php) takes a string and removes all whitespaces before and after the letters. <br>"
   ]
  },
  {
   "cell_type": "code",
   "execution_count": 52,
   "metadata": {},
   "outputs": [
    {
     "name": "stdout",
     "output_type": "stream",
     "text": [
      " * postgresql://localhost/postgres\n",
      "5 rows affected.\n"
     ]
    },
    {
     "data": {
      "text/html": [
       "<table>\n",
       "    <tr>\n",
       "        <th>upper_first_name</th>\n",
       "        <th>lower_first_name</th>\n",
       "    </tr>\n",
       "    <tr>\n",
       "        <td>PENELOPE</td>\n",
       "        <td>penelope</td>\n",
       "    </tr>\n",
       "    <tr>\n",
       "        <td>NICK</td>\n",
       "        <td>nick</td>\n",
       "    </tr>\n",
       "    <tr>\n",
       "        <td>ED</td>\n",
       "        <td>ed</td>\n",
       "    </tr>\n",
       "    <tr>\n",
       "        <td>JENNIFER</td>\n",
       "        <td>jennifer</td>\n",
       "    </tr>\n",
       "    <tr>\n",
       "        <td>JOHNNY</td>\n",
       "        <td>johnny</td>\n",
       "    </tr>\n",
       "</table>"
      ],
      "text/plain": [
       "[('PENELOPE', 'penelope'),\n",
       " ('NICK', 'nick'),\n",
       " ('ED', 'ed'),\n",
       " ('JENNIFER', 'jennifer'),\n",
       " ('JOHNNY', 'johnny')]"
      ]
     },
     "execution_count": 52,
     "metadata": {},
     "output_type": "execute_result"
    }
   ],
   "source": [
    "%%sql\n",
    "-- Transform actor first_name to be all uppercase in one column and all lowercase in another column\n",
    "-- Enter your query here!\n",
    "select\n",
    "  upper(first_name) as upper_first_name,\n",
    "  lower(first_name) as lower_first_name\n",
    "from\n",
    "  actor\n",
    "limit 5;"
   ]
  },
  {
   "cell_type": "markdown",
   "metadata": {},
   "source": [
    "Note that white spaces in strings will affect the outcome of any string comparisons. This kind of messy data is very common in production environments, so be sure to trim those strings before checking for equalities or other values."
   ]
  },
  {
   "cell_type": "code",
   "execution_count": 53,
   "metadata": {},
   "outputs": [
    {
     "name": "stdout",
     "output_type": "stream",
     "text": [
      " * postgresql://localhost/postgres\n",
      "1 rows affected.\n"
     ]
    },
    {
     "data": {
      "text/html": [
       "<table>\n",
       "    <tr>\n",
       "        <th>banana_truths</th>\n",
       "        <th>trimmed_bananas</th>\n",
       "    </tr>\n",
       "    <tr>\n",
       "        <td>False</td>\n",
       "        <td>True</td>\n",
       "    </tr>\n",
       "</table>"
      ],
      "text/plain": [
       "[(False, True)]"
      ]
     },
     "execution_count": 53,
     "metadata": {},
     "output_type": "execute_result"
    }
   ],
   "source": [
    "%%sql\n",
    "select\n",
    "  ' banana' = 'banana' as banana_truths,\n",
    "  trim(' banana') = 'banana' as trimmed_bananas\n",
    "from\n",
    "  actor\n",
    "limit 1"
   ]
  },
  {
   "cell_type": "code",
   "execution_count": 57,
   "metadata": {},
   "outputs": [
    {
     "name": "stdout",
     "output_type": "stream",
     "text": [
      " * postgresql://localhost/postgres\n",
      "2 rows affected.\n"
     ]
    },
    {
     "data": {
      "text/html": [
       "<table>\n",
       "    <tr>\n",
       "        <th>actor_id</th>\n",
       "        <th>first_name</th>\n",
       "        <th>last_name</th>\n",
       "        <th>last_update</th>\n",
       "    </tr>\n",
       "    <tr>\n",
       "        <td>101</td>\n",
       "        <td>Laura</td>\n",
       "        <td>VerHulst</td>\n",
       "        <td>2006-02-15 10:05:00</td>\n",
       "    </tr>\n",
       "    <tr>\n",
       "        <td>110</td>\n",
       "        <td>Laura</td>\n",
       "        <td>VerHulst</td>\n",
       "        <td>2006-02-15 10:05:00</td>\n",
       "    </tr>\n",
       "</table>"
      ],
      "text/plain": [
       "[(101, 'Laura', 'VerHulst', datetime.datetime(2006, 2, 15, 10, 5)),\n",
       " (110, 'Laura', 'VerHulst', datetime.datetime(2006, 2, 15, 10, 5))]"
      ]
     },
     "execution_count": 57,
     "metadata": {},
     "output_type": "execute_result"
    }
   ],
   "source": [
    "%%sql\n",
    "-- Select the actor with the name Laura Verhulst \n",
    "-- Laura likes her last name capitalized in a certain way...but you can't ask her. \n",
    "-- You gotta use string cleaning functions!\n",
    "select\n",
    "  *\n",
    "from\n",
    "  actor\n",
    "where\n",
    "  upper(first_name) = 'LAURA' and\n",
    "  upper(last_name) = 'VERHULST'"
   ]
  },
  {
   "cell_type": "markdown",
   "metadata": {},
   "source": [
    "### Wildcards and Pattern Matching\n",
    "\n",
    "What happens when you are trying to look for a pattern in a string but it's all over the place and not in a set position? It will be difficult to use position-based functions like `right()`, `left()`, and `substring()`. Two solutions here:\n",
    "\n",
    "* Wildcards\n",
    "* Regular Expressions\n",
    "\n",
    "In general, wildcards are more readable and easier to understand. Using regular expressions in SQL is a clean way to sweep up convoluted logic, however, requires the reader to have an understanding of regex. This is hard!"
   ]
  },
  {
   "cell_type": "markdown",
   "metadata": {},
   "source": [
    "**WHERE-LIKE Clause**  \n",
    "In that last query, we pulled rows with the title \"african egg\". But what if we we wanted to pull rows where the title contains the word \"africa\" (or an extension of the word like african). In order to accomplish this, you need the LIKE clause, which allows for pattern matching. The LIKE clause uses wildcards to identify patterns. There are two wildcards used in conjunction with the LIKE operator:   \n",
    "    1. % The percent sign represents zero, one, or multiple characters       \n",
    "    2. _ The underscore represents a single character\n",
    "  \n",
    "**TIP**: When pattern matching, make your search pattern as specific as possible. The more general your pattern is, the more likely it will return unexpected outputs.\n",
    "\n",
    "### Example Query 4:"
   ]
  },
  {
   "cell_type": "code",
   "execution_count": 22,
   "metadata": {},
   "outputs": [
    {
     "name": "stdout",
     "output_type": "stream",
     "text": [
      " * postgresql+psycopg2://andrewmahler@localhost:5432/sqltool\n",
      "3 rows affected.\n"
     ]
    },
    {
     "data": {
      "text/html": [
       "<table>\n",
       "    <tr>\n",
       "        <th>film_id</th>\n",
       "        <th>title</th>\n",
       "    </tr>\n",
       "    <tr>\n",
       "        <td>5</td>\n",
       "        <td>African Egg</td>\n",
       "    </tr>\n",
       "    <tr>\n",
       "        <td>472</td>\n",
       "        <td>Italian African</td>\n",
       "    </tr>\n",
       "    <tr>\n",
       "        <td>637</td>\n",
       "        <td>Open African</td>\n",
       "    </tr>\n",
       "</table>"
      ],
      "text/plain": [
       "[(5, 'African Egg'), (472, 'Italian African'), (637, 'Open African')]"
      ]
     },
     "execution_count": 22,
     "metadata": {},
     "output_type": "execute_result"
    }
   ],
   "source": [
    "%%sql\n",
    "SELECT film_id, title FROM film WHERE UPPER(title) LIKE '%AFRICA%'"
   ]
  }
 ],
 "metadata": {
  "kernelspec": {
   "display_name": "Python 3",
   "language": "python",
   "name": "python3"
  },
  "language_info": {
   "codemirror_mode": {
    "name": "ipython",
    "version": 3
   },
   "file_extension": ".py",
   "mimetype": "text/x-python",
   "name": "python",
   "nbconvert_exporter": "python",
   "pygments_lexer": "ipython3",
   "version": "3.6.5"
  }
 },
 "nbformat": 4,
 "nbformat_minor": 2
}

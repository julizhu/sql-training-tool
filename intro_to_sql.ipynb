{
 "cells": [
  {
   "cell_type": "code",
   "execution_count": 1,
   "metadata": {},
   "outputs": [],
   "source": [
    "import pandas as pd\n",
    "import sqlalchemy\n",
    "import psycopg2\n",
    "import sqlite3"
   ]
  },
  {
   "cell_type": "code",
   "execution_count": 2,
   "metadata": {},
   "outputs": [],
   "source": [
    "%reload_ext sql\n",
    "%config SqlMagic.displaylimit = 10"
   ]
  },
  {
   "cell_type": "code",
   "execution_count": 3,
   "metadata": {},
   "outputs": [
    {
     "data": {
      "text/plain": [
       "'Connected: @None'"
      ]
     },
     "execution_count": 3,
     "metadata": {},
     "output_type": "execute_result"
    }
   ],
   "source": [
    "%sql sqlite://"
   ]
  },
  {
   "cell_type": "code",
   "execution_count": 4,
   "metadata": {},
   "outputs": [],
   "source": [
    "julie = \"Julie\""
   ]
  },
  {
   "cell_type": "code",
   "execution_count": 13,
   "metadata": {},
   "outputs": [],
   "source": [
    "actor = pd.read_csv(\"data/actor.csv\")"
   ]
  },
  {
   "cell_type": "code",
   "execution_count": 6,
   "metadata": {},
   "outputs": [
    {
     "data": {
      "text/html": [
       "<div>\n",
       "<style scoped>\n",
       "    .dataframe tbody tr th:only-of-type {\n",
       "        vertical-align: middle;\n",
       "    }\n",
       "\n",
       "    .dataframe tbody tr th {\n",
       "        vertical-align: top;\n",
       "    }\n",
       "\n",
       "    .dataframe thead th {\n",
       "        text-align: right;\n",
       "    }\n",
       "</style>\n",
       "<table border=\"1\" class=\"dataframe\">\n",
       "  <thead>\n",
       "    <tr style=\"text-align: right;\">\n",
       "      <th></th>\n",
       "      <th>actor_id</th>\n",
       "      <th>first_name</th>\n",
       "      <th>last_name</th>\n",
       "      <th>last_update</th>\n",
       "    </tr>\n",
       "  </thead>\n",
       "  <tbody>\n",
       "    <tr>\n",
       "      <th>0</th>\n",
       "      <td>1</td>\n",
       "      <td>Penelope</td>\n",
       "      <td>Guiness</td>\n",
       "      <td>2013-05-26 14:47:57.62</td>\n",
       "    </tr>\n",
       "    <tr>\n",
       "      <th>1</th>\n",
       "      <td>2</td>\n",
       "      <td>Nick</td>\n",
       "      <td>Wahlberg</td>\n",
       "      <td>2013-05-26 14:47:57.62</td>\n",
       "    </tr>\n",
       "    <tr>\n",
       "      <th>2</th>\n",
       "      <td>3</td>\n",
       "      <td>Ed</td>\n",
       "      <td>Chase</td>\n",
       "      <td>2013-05-26 14:47:57.62</td>\n",
       "    </tr>\n",
       "    <tr>\n",
       "      <th>3</th>\n",
       "      <td>4</td>\n",
       "      <td>Jennifer</td>\n",
       "      <td>Davis</td>\n",
       "      <td>2013-05-26 14:47:57.62</td>\n",
       "    </tr>\n",
       "    <tr>\n",
       "      <th>4</th>\n",
       "      <td>5</td>\n",
       "      <td>Johnny</td>\n",
       "      <td>Lollobrigida</td>\n",
       "      <td>2013-05-26 14:47:57.62</td>\n",
       "    </tr>\n",
       "  </tbody>\n",
       "</table>\n",
       "</div>"
      ],
      "text/plain": [
       "   actor_id first_name     last_name             last_update\n",
       "0         1   Penelope       Guiness  2013-05-26 14:47:57.62\n",
       "1         2       Nick      Wahlberg  2013-05-26 14:47:57.62\n",
       "2         3         Ed         Chase  2013-05-26 14:47:57.62\n",
       "3         4   Jennifer         Davis  2013-05-26 14:47:57.62\n",
       "4         5     Johnny  Lollobrigida  2013-05-26 14:47:57.62"
      ]
     },
     "execution_count": 6,
     "metadata": {},
     "output_type": "execute_result"
    }
   ],
   "source": [
    "actor.head()"
   ]
  },
  {
   "cell_type": "code",
   "execution_count": 7,
   "metadata": {},
   "outputs": [
    {
     "data": {
      "text/plain": [
       "actor_id        int64\n",
       "first_name     object\n",
       "last_name      object\n",
       "last_update    object\n",
       "dtype: object"
      ]
     },
     "execution_count": 7,
     "metadata": {},
     "output_type": "execute_result"
    }
   ],
   "source": [
    "actor.dtypes"
   ]
  },
  {
   "cell_type": "code",
   "execution_count": 8,
   "metadata": {},
   "outputs": [
    {
     "name": "stdout",
     "output_type": "stream",
     "text": [
      " * sqlite://\n"
     ]
    },
    {
     "data": {
      "text/plain": [
       "'Persisted actor'"
      ]
     },
     "execution_count": 8,
     "metadata": {},
     "output_type": "execute_result"
    }
   ],
   "source": [
    "%%sql\n",
    "persist actor;"
   ]
  },
  {
   "cell_type": "code",
   "execution_count": 14,
   "metadata": {},
   "outputs": [
    {
     "name": "stdout",
     "output_type": "stream",
     "text": [
      "Stored 'actor' (DataFrame)\n",
      "Stored 'data' (DataFrame)\n"
     ]
    }
   ],
   "source": [
    "%store actor\n",
    "%store data"
   ]
  },
  {
   "cell_type": "code",
   "execution_count": 9,
   "metadata": {},
   "outputs": [
    {
     "name": "stdout",
     "output_type": "stream",
     "text": [
      " * sqlite://\n",
      "Done.\n"
     ]
    },
    {
     "data": {
      "text/html": [
       "<table>\n",
       "    <tr>\n",
       "        <th>index</th>\n",
       "        <th>actor_id</th>\n",
       "        <th>first_name</th>\n",
       "        <th>last_name</th>\n",
       "        <th>last_update</th>\n",
       "    </tr>\n",
       "    <tr>\n",
       "        <td>0</td>\n",
       "        <td>1</td>\n",
       "        <td>Penelope</td>\n",
       "        <td>Guiness</td>\n",
       "        <td>2013-05-26 14:47:57.62</td>\n",
       "    </tr>\n",
       "    <tr>\n",
       "        <td>1</td>\n",
       "        <td>2</td>\n",
       "        <td>Nick</td>\n",
       "        <td>Wahlberg</td>\n",
       "        <td>2013-05-26 14:47:57.62</td>\n",
       "    </tr>\n",
       "    <tr>\n",
       "        <td>2</td>\n",
       "        <td>3</td>\n",
       "        <td>Ed</td>\n",
       "        <td>Chase</td>\n",
       "        <td>2013-05-26 14:47:57.62</td>\n",
       "    </tr>\n",
       "    <tr>\n",
       "        <td>3</td>\n",
       "        <td>4</td>\n",
       "        <td>Jennifer</td>\n",
       "        <td>Davis</td>\n",
       "        <td>2013-05-26 14:47:57.62</td>\n",
       "    </tr>\n",
       "    <tr>\n",
       "        <td>4</td>\n",
       "        <td>5</td>\n",
       "        <td>Johnny</td>\n",
       "        <td>Lollobrigida</td>\n",
       "        <td>2013-05-26 14:47:57.62</td>\n",
       "    </tr>\n",
       "    <tr>\n",
       "        <td>5</td>\n",
       "        <td>6</td>\n",
       "        <td>Bette</td>\n",
       "        <td>Nicholson</td>\n",
       "        <td>2013-05-26 14:47:57.62</td>\n",
       "    </tr>\n",
       "    <tr>\n",
       "        <td>6</td>\n",
       "        <td>7</td>\n",
       "        <td>Grace</td>\n",
       "        <td>Mostel</td>\n",
       "        <td>2013-05-26 14:47:57.62</td>\n",
       "    </tr>\n",
       "    <tr>\n",
       "        <td>7</td>\n",
       "        <td>8</td>\n",
       "        <td>Matthew</td>\n",
       "        <td>Johansson</td>\n",
       "        <td>2013-05-26 14:47:57.62</td>\n",
       "    </tr>\n",
       "    <tr>\n",
       "        <td>8</td>\n",
       "        <td>9</td>\n",
       "        <td>Joe</td>\n",
       "        <td>Swank</td>\n",
       "        <td>2013-05-26 14:47:57.62</td>\n",
       "    </tr>\n",
       "    <tr>\n",
       "        <td>9</td>\n",
       "        <td>10</td>\n",
       "        <td>Christian</td>\n",
       "        <td>Gable</td>\n",
       "        <td>2013-05-26 14:47:57.62</td>\n",
       "    </tr>\n",
       "</table>\n",
       "<span style=\"font-style:italic;text-align:center;\">200 rows, truncated to displaylimit of 10</span>"
      ],
      "text/plain": [
       "[(0, 1, 'Penelope', 'Guiness', '2013-05-26 14:47:57.62'),\n",
       " (1, 2, 'Nick', 'Wahlberg', '2013-05-26 14:47:57.62'),\n",
       " (2, 3, 'Ed', 'Chase', '2013-05-26 14:47:57.62'),\n",
       " (3, 4, 'Jennifer', 'Davis', '2013-05-26 14:47:57.62'),\n",
       " (4, 5, 'Johnny', 'Lollobrigida', '2013-05-26 14:47:57.62'),\n",
       " (5, 6, 'Bette', 'Nicholson', '2013-05-26 14:47:57.62'),\n",
       " (6, 7, 'Grace', 'Mostel', '2013-05-26 14:47:57.62'),\n",
       " (7, 8, 'Matthew', 'Johansson', '2013-05-26 14:47:57.62'),\n",
       " (8, 9, 'Joe', 'Swank', '2013-05-26 14:47:57.62'),\n",
       " (9, 10, 'Christian', 'Gable', '2013-05-26 14:47:57.62'),\n",
       " (10, 11, 'Zero', 'Cage', '2013-05-26 14:47:57.62'),\n",
       " (11, 12, 'Karl', 'Berry', '2013-05-26 14:47:57.62'),\n",
       " (12, 13, 'Uma', 'Wood', '2013-05-26 14:47:57.62'),\n",
       " (13, 14, 'Vivien', 'Bergen', '2013-05-26 14:47:57.62'),\n",
       " (14, 15, 'Cuba', 'Olivier', '2013-05-26 14:47:57.62'),\n",
       " (15, 16, 'Fred', 'Costner', '2013-05-26 14:47:57.62'),\n",
       " (16, 17, 'Helen', 'Voight', '2013-05-26 14:47:57.62'),\n",
       " (17, 18, 'Dan', 'Torn', '2013-05-26 14:47:57.62'),\n",
       " (18, 19, 'Bob', 'Fawcett', '2013-05-26 14:47:57.62'),\n",
       " (19, 20, 'Lucille', 'Tracy', '2013-05-26 14:47:57.62'),\n",
       " (20, 21, 'Kirsten', 'Paltrow', '2013-05-26 14:47:57.62'),\n",
       " (21, 22, 'Elvis', 'Marx', '2013-05-26 14:47:57.62'),\n",
       " (22, 23, 'Sandra', 'Kilmer', '2013-05-26 14:47:57.62'),\n",
       " (23, 24, 'Cameron', 'Streep', '2013-05-26 14:47:57.62'),\n",
       " (24, 25, 'Kevin', 'Bloom', '2013-05-26 14:47:57.62'),\n",
       " (25, 26, 'Rip', 'Crawford', '2013-05-26 14:47:57.62'),\n",
       " (26, 27, 'Julia', 'Mcqueen', '2013-05-26 14:47:57.62'),\n",
       " (27, 28, 'Woody', 'Hoffman', '2013-05-26 14:47:57.62'),\n",
       " (28, 29, 'Alec', 'Wayne', '2013-05-26 14:47:57.62'),\n",
       " (29, 30, 'Sandra', 'Peck', '2013-05-26 14:47:57.62'),\n",
       " (30, 31, 'Sissy', 'Sobieski', '2013-05-26 14:47:57.62'),\n",
       " (31, 32, 'Tim', 'Hackman', '2013-05-26 14:47:57.62'),\n",
       " (32, 33, 'Milla', 'Peck', '2013-05-26 14:47:57.62'),\n",
       " (33, 34, 'Audrey', 'Olivier', '2013-05-26 14:47:57.62'),\n",
       " (34, 35, 'Judy', 'Dean', '2013-05-26 14:47:57.62'),\n",
       " (35, 36, 'Burt', 'Dukakis', '2013-05-26 14:47:57.62'),\n",
       " (36, 37, 'Val', 'Bolger', '2013-05-26 14:47:57.62'),\n",
       " (37, 38, 'Tom', 'Mckellen', '2013-05-26 14:47:57.62'),\n",
       " (38, 39, 'Goldie', 'Brody', '2013-05-26 14:47:57.62'),\n",
       " (39, 40, 'Johnny', 'Cage', '2013-05-26 14:47:57.62'),\n",
       " (40, 41, 'Jodie', 'Degeneres', '2013-05-26 14:47:57.62'),\n",
       " (41, 42, 'Tom', 'Miranda', '2013-05-26 14:47:57.62'),\n",
       " (42, 43, 'Kirk', 'Jovovich', '2013-05-26 14:47:57.62'),\n",
       " (43, 44, 'Nick', 'Stallone', '2013-05-26 14:47:57.62'),\n",
       " (44, 45, 'Reese', 'Kilmer', '2013-05-26 14:47:57.62'),\n",
       " (45, 46, 'Parker', 'Goldberg', '2013-05-26 14:47:57.62'),\n",
       " (46, 47, 'Julia', 'Barrymore', '2013-05-26 14:47:57.62'),\n",
       " (47, 48, 'Frances', 'Day-Lewis', '2013-05-26 14:47:57.62'),\n",
       " (48, 49, 'Anne', 'Cronyn', '2013-05-26 14:47:57.62'),\n",
       " (49, 50, 'Natalie', 'Hopkins', '2013-05-26 14:47:57.62'),\n",
       " (50, 51, 'Gary', 'Phoenix', '2013-05-26 14:47:57.62'),\n",
       " (51, 52, 'Carmen', 'Hunt', '2013-05-26 14:47:57.62'),\n",
       " (52, 53, 'Mena', 'Temple', '2013-05-26 14:47:57.62'),\n",
       " (53, 54, 'Penelope', 'Pinkett', '2013-05-26 14:47:57.62'),\n",
       " (54, 55, 'Fay', 'Kilmer', '2013-05-26 14:47:57.62'),\n",
       " (55, 56, 'Dan', 'Harris', '2013-05-26 14:47:57.62'),\n",
       " (56, 57, 'Jude', 'Cruise', '2013-05-26 14:47:57.62'),\n",
       " (57, 58, 'Christian', 'Akroyd', '2013-05-26 14:47:57.62'),\n",
       " (58, 59, 'Dustin', 'Tautou', '2013-05-26 14:47:57.62'),\n",
       " (59, 60, 'Henry', 'Berry', '2013-05-26 14:47:57.62'),\n",
       " (60, 61, 'Christian', 'Neeson', '2013-05-26 14:47:57.62'),\n",
       " (61, 62, 'Jayne', 'Neeson', '2013-05-26 14:47:57.62'),\n",
       " (62, 63, 'Cameron', 'Wray', '2013-05-26 14:47:57.62'),\n",
       " (63, 64, 'Ray', 'Johansson', '2013-05-26 14:47:57.62'),\n",
       " (64, 65, 'Angela', 'Hudson', '2013-05-26 14:47:57.62'),\n",
       " (65, 66, 'Mary', 'Tandy', '2013-05-26 14:47:57.62'),\n",
       " (66, 67, 'Jessica', 'Bailey', '2013-05-26 14:47:57.62'),\n",
       " (67, 68, 'Rip', 'Winslet', '2013-05-26 14:47:57.62'),\n",
       " (68, 69, 'Kenneth', 'Paltrow', '2013-05-26 14:47:57.62'),\n",
       " (69, 70, 'Michelle', 'Mcconaughey', '2013-05-26 14:47:57.62'),\n",
       " (70, 71, 'Adam', 'Grant', '2013-05-26 14:47:57.62'),\n",
       " (71, 72, 'Sean', 'Williams', '2013-05-26 14:47:57.62'),\n",
       " (72, 73, 'Gary', 'Penn', '2013-05-26 14:47:57.62'),\n",
       " (73, 74, 'Milla', 'Keitel', '2013-05-26 14:47:57.62'),\n",
       " (74, 75, 'Burt', 'Posey', '2013-05-26 14:47:57.62'),\n",
       " (75, 76, 'Angelina', 'Astaire', '2013-05-26 14:47:57.62'),\n",
       " (76, 77, 'Cary', 'Mcconaughey', '2013-05-26 14:47:57.62'),\n",
       " (77, 78, 'Groucho', 'Sinatra', '2013-05-26 14:47:57.62'),\n",
       " (78, 79, 'Mae', 'Hoffman', '2013-05-26 14:47:57.62'),\n",
       " (79, 80, 'Ralph', 'Cruz', '2013-05-26 14:47:57.62'),\n",
       " (80, 81, 'Scarlett', 'Damon', '2013-05-26 14:47:57.62'),\n",
       " (81, 82, 'Woody', 'Jolie', '2013-05-26 14:47:57.62'),\n",
       " (82, 83, 'Ben', 'Willis', '2013-05-26 14:47:57.62'),\n",
       " (83, 84, 'James', 'Pitt', '2013-05-26 14:47:57.62'),\n",
       " (84, 85, 'Minnie', 'Zellweger', '2013-05-26 14:47:57.62'),\n",
       " (85, 143, 'River', 'Dean', '2013-05-26 14:47:57.62'),\n",
       " (86, 86, 'Greg', 'Chaplin', '2013-05-26 14:47:57.62'),\n",
       " (87, 87, 'Spencer', 'Peck', '2013-05-26 14:47:57.62'),\n",
       " (88, 88, 'Kenneth', 'Pesci', '2013-05-26 14:47:57.62'),\n",
       " (89, 89, 'Charlize', 'Dench', '2013-05-26 14:47:57.62'),\n",
       " (90, 90, 'Sean', 'Guiness', '2013-05-26 14:47:57.62'),\n",
       " (91, 91, 'Christopher', 'Berry', '2013-05-26 14:47:57.62'),\n",
       " (92, 92, 'Kirsten', 'Akroyd', '2013-05-26 14:47:57.62'),\n",
       " (93, 93, 'Ellen', 'Presley', '2013-05-26 14:47:57.62'),\n",
       " (94, 94, 'Kenneth', 'Torn', '2013-05-26 14:47:57.62'),\n",
       " (95, 95, 'Daryl', 'Wahlberg', '2013-05-26 14:47:57.62'),\n",
       " (96, 96, 'Gene', 'Willis', '2013-05-26 14:47:57.62'),\n",
       " (97, 97, 'Meg', 'Hawke', '2013-05-26 14:47:57.62'),\n",
       " (98, 98, 'Chris', 'Bridges', '2013-05-26 14:47:57.62'),\n",
       " (99, 99, 'Jim', 'Mostel', '2013-05-26 14:47:57.62'),\n",
       " (100, 100, 'Spencer', 'Depp', '2013-05-26 14:47:57.62'),\n",
       " (101, 101, 'Susan', 'Davis', '2013-05-26 14:47:57.62'),\n",
       " (102, 102, 'Walter', 'Torn', '2013-05-26 14:47:57.62'),\n",
       " (103, 103, 'Matthew', 'Leigh', '2013-05-26 14:47:57.62'),\n",
       " (104, 104, 'Penelope', 'Cronyn', '2013-05-26 14:47:57.62'),\n",
       " (105, 105, 'Sidney', 'Crowe', '2013-05-26 14:47:57.62'),\n",
       " (106, 106, 'Groucho', 'Dunst', '2013-05-26 14:47:57.62'),\n",
       " (107, 107, 'Gina', 'Degeneres', '2013-05-26 14:47:57.62'),\n",
       " (108, 108, 'Warren', 'Nolte', '2013-05-26 14:47:57.62'),\n",
       " (109, 109, 'Sylvester', 'Dern', '2013-05-26 14:47:57.62'),\n",
       " (110, 110, 'Susan', 'Davis', '2013-05-26 14:47:57.62'),\n",
       " (111, 111, 'Cameron', 'Zellweger', '2013-05-26 14:47:57.62'),\n",
       " (112, 112, 'Russell', 'Bacall', '2013-05-26 14:47:57.62'),\n",
       " (113, 113, 'Morgan', 'Hopkins', '2013-05-26 14:47:57.62'),\n",
       " (114, 114, 'Morgan', 'Mcdormand', '2013-05-26 14:47:57.62'),\n",
       " (115, 115, 'Harrison', 'Bale', '2013-05-26 14:47:57.62'),\n",
       " (116, 116, 'Dan', 'Streep', '2013-05-26 14:47:57.62'),\n",
       " (117, 117, 'Renee', 'Tracy', '2013-05-26 14:47:57.62'),\n",
       " (118, 118, 'Cuba', 'Allen', '2013-05-26 14:47:57.62'),\n",
       " (119, 119, 'Warren', 'Jackman', '2013-05-26 14:47:57.62'),\n",
       " (120, 120, 'Penelope', 'Monroe', '2013-05-26 14:47:57.62'),\n",
       " (121, 121, 'Liza', 'Bergman', '2013-05-26 14:47:57.62'),\n",
       " (122, 122, 'Salma', 'Nolte', '2013-05-26 14:47:57.62'),\n",
       " (123, 123, 'Julianne', 'Dench', '2013-05-26 14:47:57.62'),\n",
       " (124, 124, 'Scarlett', 'Bening', '2013-05-26 14:47:57.62'),\n",
       " (125, 125, 'Albert', 'Nolte', '2013-05-26 14:47:57.62'),\n",
       " (126, 126, 'Frances', 'Tomei', '2013-05-26 14:47:57.62'),\n",
       " (127, 127, 'Kevin', 'Garland', '2013-05-26 14:47:57.62'),\n",
       " (128, 128, 'Cate', 'Mcqueen', '2013-05-26 14:47:57.62'),\n",
       " (129, 129, 'Daryl', 'Crawford', '2013-05-26 14:47:57.62'),\n",
       " (130, 130, 'Greta', 'Keitel', '2013-05-26 14:47:57.62'),\n",
       " (131, 131, 'Jane', 'Jackman', '2013-05-26 14:47:57.62'),\n",
       " (132, 132, 'Adam', 'Hopper', '2013-05-26 14:47:57.62'),\n",
       " (133, 133, 'Richard', 'Penn', '2013-05-26 14:47:57.62'),\n",
       " (134, 134, 'Gene', 'Hopkins', '2013-05-26 14:47:57.62'),\n",
       " (135, 135, 'Rita', 'Reynolds', '2013-05-26 14:47:57.62'),\n",
       " (136, 136, 'Ed', 'Mansfield', '2013-05-26 14:47:57.62'),\n",
       " (137, 137, 'Morgan', 'Williams', '2013-05-26 14:47:57.62'),\n",
       " (138, 138, 'Lucille', 'Dee', '2013-05-26 14:47:57.62'),\n",
       " (139, 139, 'Ewan', 'Gooding', '2013-05-26 14:47:57.62'),\n",
       " (140, 140, 'Whoopi', 'Hurt', '2013-05-26 14:47:57.62'),\n",
       " (141, 141, 'Cate', 'Harris', '2013-05-26 14:47:57.62'),\n",
       " (142, 142, 'Jada', 'Ryder', '2013-05-26 14:47:57.62'),\n",
       " (143, 144, 'Angela', 'Witherspoon', '2013-05-26 14:47:57.62'),\n",
       " (144, 145, 'Kim', 'Allen', '2013-05-26 14:47:57.62'),\n",
       " (145, 146, 'Albert', 'Johansson', '2013-05-26 14:47:57.62'),\n",
       " (146, 147, 'Fay', 'Winslet', '2013-05-26 14:47:57.62'),\n",
       " (147, 148, 'Emily', 'Dee', '2013-05-26 14:47:57.62'),\n",
       " (148, 149, 'Russell', 'Temple', '2013-05-26 14:47:57.62'),\n",
       " (149, 150, 'Jayne', 'Nolte', '2013-05-26 14:47:57.62'),\n",
       " (150, 151, 'Geoffrey', 'Heston', '2013-05-26 14:47:57.62'),\n",
       " (151, 152, 'Ben', 'Harris', '2013-05-26 14:47:57.62'),\n",
       " (152, 153, 'Minnie', 'Kilmer', '2013-05-26 14:47:57.62'),\n",
       " (153, 154, 'Meryl', 'Gibson', '2013-05-26 14:47:57.62'),\n",
       " (154, 155, 'Ian', 'Tandy', '2013-05-26 14:47:57.62'),\n",
       " (155, 156, 'Fay', 'Wood', '2013-05-26 14:47:57.62'),\n",
       " (156, 157, 'Greta', 'Malden', '2013-05-26 14:47:57.62'),\n",
       " (157, 158, 'Vivien', 'Basinger', '2013-05-26 14:47:57.62'),\n",
       " (158, 159, 'Laura', 'Brody', '2013-05-26 14:47:57.62'),\n",
       " (159, 160, 'Chris', 'Depp', '2013-05-26 14:47:57.62'),\n",
       " (160, 161, 'Harvey', 'Hope', '2013-05-26 14:47:57.62'),\n",
       " (161, 162, 'Oprah', 'Kilmer', '2013-05-26 14:47:57.62'),\n",
       " (162, 163, 'Christopher', 'West', '2013-05-26 14:47:57.62'),\n",
       " (163, 164, 'Humphrey', 'Willis', '2013-05-26 14:47:57.62'),\n",
       " (164, 165, 'Al', 'Garland', '2013-05-26 14:47:57.62'),\n",
       " (165, 166, 'Nick', 'Degeneres', '2013-05-26 14:47:57.62'),\n",
       " (166, 167, 'Laurence', 'Bullock', '2013-05-26 14:47:57.62'),\n",
       " (167, 168, 'Will', 'Wilson', '2013-05-26 14:47:57.62'),\n",
       " (168, 169, 'Kenneth', 'Hoffman', '2013-05-26 14:47:57.62'),\n",
       " (169, 170, 'Mena', 'Hopper', '2013-05-26 14:47:57.62'),\n",
       " (170, 171, 'Olympia', 'Pfeiffer', '2013-05-26 14:47:57.62'),\n",
       " (171, 172, 'Groucho', 'Williams', '2013-05-26 14:47:57.62'),\n",
       " (172, 173, 'Alan', 'Dreyfuss', '2013-05-26 14:47:57.62'),\n",
       " (173, 174, 'Michael', 'Bening', '2013-05-26 14:47:57.62'),\n",
       " (174, 175, 'William', 'Hackman', '2013-05-26 14:47:57.62'),\n",
       " (175, 176, 'Jon', 'Chase', '2013-05-26 14:47:57.62'),\n",
       " (176, 177, 'Gene', 'Mckellen', '2013-05-26 14:47:57.62'),\n",
       " (177, 178, 'Lisa', 'Monroe', '2013-05-26 14:47:57.62'),\n",
       " (178, 179, 'Ed', 'Guiness', '2013-05-26 14:47:57.62'),\n",
       " (179, 180, 'Jeff', 'Silverstone', '2013-05-26 14:47:57.62'),\n",
       " (180, 181, 'Matthew', 'Carrey', '2013-05-26 14:47:57.62'),\n",
       " (181, 182, 'Debbie', 'Akroyd', '2013-05-26 14:47:57.62'),\n",
       " (182, 183, 'Russell', 'Close', '2013-05-26 14:47:57.62'),\n",
       " (183, 184, 'Humphrey', 'Garland', '2013-05-26 14:47:57.62'),\n",
       " (184, 185, 'Michael', 'Bolger', '2013-05-26 14:47:57.62'),\n",
       " (185, 186, 'Julia', 'Zellweger', '2013-05-26 14:47:57.62'),\n",
       " (186, 187, 'Renee', 'Ball', '2013-05-26 14:47:57.62'),\n",
       " (187, 188, 'Rock', 'Dukakis', '2013-05-26 14:47:57.62'),\n",
       " (188, 189, 'Cuba', 'Birch', '2013-05-26 14:47:57.62'),\n",
       " (189, 190, 'Audrey', 'Bailey', '2013-05-26 14:47:57.62'),\n",
       " (190, 191, 'Gregory', 'Gooding', '2013-05-26 14:47:57.62'),\n",
       " (191, 192, 'John', 'Suvari', '2013-05-26 14:47:57.62'),\n",
       " (192, 193, 'Burt', 'Temple', '2013-05-26 14:47:57.62'),\n",
       " (193, 194, 'Meryl', 'Allen', '2013-05-26 14:47:57.62'),\n",
       " (194, 195, 'Jayne', 'Silverstone', '2013-05-26 14:47:57.62'),\n",
       " (195, 196, 'Bela', 'Walken', '2013-05-26 14:47:57.62'),\n",
       " (196, 197, 'Reese', 'West', '2013-05-26 14:47:57.62'),\n",
       " (197, 198, 'Mary', 'Keitel', '2013-05-26 14:47:57.62'),\n",
       " (198, 199, 'Julia', 'Fawcett', '2013-05-26 14:47:57.62'),\n",
       " (199, 200, 'Thora', 'Temple', '2013-05-26 14:47:57.62')]"
      ]
     },
     "execution_count": 9,
     "metadata": {},
     "output_type": "execute_result"
    }
   ],
   "source": [
    "%%sql\n",
    "select * from actor where last_update >= '2006-02-14';"
   ]
  },
  {
   "cell_type": "markdown",
   "metadata": {},
   "source": [
    "## Introduction\n",
    "\n",
    "### Outline\n",
    "1. Intro to Jupyter notebooks\n",
    "2. Into to SQL Magic\n",
    "3. Overview of the exercise\n",
    "\n",
    "LET'S LEARN SQL!"
   ]
  },
  {
   "cell_type": "markdown",
   "metadata": {},
   "source": [
    "### Table Schema\n",
    "The below tables form the basis of a DVD store's operation. Maybe we'll learn what happened to Blockbuster through this exercise? "
   ]
  },
  {
   "cell_type": "markdown",
   "metadata": {},
   "source": [
    "<img src=\"files/dvd-rental-sample-database-diagram.png\">"
   ]
  },
  {
   "cell_type": "markdown",
   "metadata": {},
   "source": [
    "### The above diagram illustrates the relationship between tables in the database. Listed below is information for each table:\n",
    "\n",
    "**actor** – actors data including first name and last name.  \n",
    "**film** – film data such as title, release year, length, rating  \n",
    "**film_actor** – the relationships between films and actors.  \n",
    "**category** – film’s categories data.  \n",
    "**film_category** - the relationships between films and categories.  \n",
    "**store** – contains the store data including manager staff and address.  \n",
    "**inventory** – inventory data.  \n",
    "**rental** – rental data.  \n",
    "**payment** – customer’s payments.  \n",
    "**staff** – staff data.  \n",
    "**customer** – customers data.  \n",
    "**address** – address data for staff and customers  \n",
    "**city** –  city names.  \n",
    "**country** –  country names.  \n",
    "\n",
    "### In this exercise, we will work with five tables:\n",
    "1. rental\n",
    "2. customer\n",
    "3. payment\n",
    "4. inventory\n",
    "5. film"
   ]
  },
  {
   "cell_type": "markdown",
   "metadata": {},
   "source": [
    "## Section 1: Data Validation  (High Level)\n",
    "\n",
    "### Outline\n",
    "**Technical**   \n",
    "- Primary Keys\n",
    "    - Duped Primary Keys\n",
    "\n",
    "**Story**   \n",
    "- Familiarize with customer, payments, rental + respective join keys\n",
    "\n",
    "**Content**  \n",
    "When working with a new data source, it is crucial to QA before integrating the source into your development or analysis. This section will provide a framework for performing high-level checks with common queries.\n",
    "\n",
    "### Identify Primary Keys\n",
    "In each table, there should be a field (or combination of fields) that uniquely identifies a row. These unique identifiers are referred to as the table's **primary key**. In the schema above, the primary key for each table is indicated by a * next to the field name (notice that film_category and film_actor each have a primary key with two fields). However, documentation can be incorrect, so it's necessary to verify before moving forward.    \n",
    "\n",
    "But how do we do this? We can compare a distinct value count for a given field (or combination of fields) to the total number of rows in the table. Let's do this with the rental table. \n",
    "\n",
    "### Example Query 1:"
   ]
  },
  {
   "cell_type": "code",
   "execution_count": 5,
   "metadata": {},
   "outputs": [
    {
     "name": "stdout",
     "output_type": "stream",
     "text": [
      " * postgresql+psycopg2://andrewmahler@localhost:5432/sqltool\n",
      "1 rows affected.\n"
     ]
    },
    {
     "data": {
      "text/html": [
       "<table>\n",
       "    <tr>\n",
       "        <th>number_of_rows</th>\n",
       "        <th>rental_id_count</th>\n",
       "        <th>rental_date_count</th>\n",
       "        <th>inventory_id_count</th>\n",
       "        <th>customer_id_count</th>\n",
       "        <th>staff_id_count</th>\n",
       "        <th>last_update_count</th>\n",
       "    </tr>\n",
       "    <tr>\n",
       "        <td>16044</td>\n",
       "        <td>16044</td>\n",
       "        <td>15815</td>\n",
       "        <td>4580</td>\n",
       "        <td>599</td>\n",
       "        <td>2</td>\n",
       "        <td>3</td>\n",
       "    </tr>\n",
       "</table>"
      ],
      "text/plain": [
       "[(16044, 16044, 15815, 4580, 599, 2, 3)]"
      ]
     },
     "execution_count": 5,
     "metadata": {},
     "output_type": "execute_result"
    }
   ],
   "source": [
    "%%sql\n",
    "-- Investigating distinct values for each field to determine what identifies a unique row \n",
    "SELECT\n",
    "    COUNT(*) as number_of_rows,\n",
    "    COUNT(DISTINCT rental_id) as rental_id_count,\n",
    "    COUNT(DISTINCT rental_date) as rental_date_count,\n",
    "    COUNT(DISTINCT inventory_id) as inventory_id_count, \n",
    "    COUNT(DISTINCT customer_id) as customer_id_count,\n",
    "    COUNT(DISTINCT staff_id) as staff_id_count, \n",
    "    COUNT(DISTINCT last_update) as last_update_count\n",
    "FROM rental"
   ]
  },
  {
   "cell_type": "markdown",
   "metadata": {},
   "source": [
    "After running the above query, we are able to confirm that **rental_id is the primary key for the rental table**, as the total number of rows matches the number of distinct rental_ids. However, this query also provides other interesting information:\n",
    "\n",
    "1. We have 599 customers, but 16,044 transactions! People sure liked DVD rentals in 2006. I wonder what sort of disruptive technologies appeared in the late 2000s to change this...\n",
    "\n",
    "2. There are only 2 staff members who have autorized rentals (work-life balance doesn't exist in this database).\n",
    "\n",
    "3. There are 3 different instances of last_update_count, indicating that rows in the table have been modified at different points.\n",
    "\n",
    "### Test Query 1.1: In the cell below, write a query to determine the primary key for the payment table. "
   ]
  },
  {
   "cell_type": "code",
   "execution_count": 6,
   "metadata": {},
   "outputs": [
    {
     "name": "stdout",
     "output_type": "stream",
     "text": [
      " * postgresql+psycopg2://andrewmahler@localhost:5432/sqltool\n",
      "1 rows affected.\n"
     ]
    },
    {
     "data": {
      "text/html": [
       "<table>\n",
       "    <tr>\n",
       "    </tr>\n",
       "    <tr>\n",
       "    </tr>\n",
       "</table>"
      ],
      "text/plain": [
       "[()]"
      ]
     },
     "execution_count": 6,
     "metadata": {},
     "output_type": "execute_result"
    }
   ],
   "source": [
    "%%sql\n",
    "select"
   ]
  },
  {
   "cell_type": "markdown",
   "metadata": {},
   "source": [
    "### Question 1.1: What is the primary key for the payment table? Assign a string to the answer variable and run the cell."
   ]
  },
  {
   "cell_type": "code",
   "execution_count": 7,
   "metadata": {},
   "outputs": [
    {
     "name": "stdout",
     "output_type": "stream",
     "text": [
      "Correct!\n"
     ]
    }
   ],
   "source": [
    "answer = \"payment_id\"\n",
    "PaymentPrimaryKeyQuestion(answer)"
   ]
  },
  {
   "cell_type": "markdown",
   "metadata": {},
   "source": [
    "### Test Query 1.2: In the cell below, write a query to determine the primary key for the customer table."
   ]
  },
  {
   "cell_type": "code",
   "execution_count": 8,
   "metadata": {},
   "outputs": [
    {
     "name": "stdout",
     "output_type": "stream",
     "text": [
      " * postgresql+psycopg2://andrewmahler@localhost:5432/sqltool\n",
      "1 rows affected.\n"
     ]
    },
    {
     "data": {
      "text/html": [
       "<table>\n",
       "    <tr>\n",
       "    </tr>\n",
       "    <tr>\n",
       "    </tr>\n",
       "</table>"
      ],
      "text/plain": [
       "[()]"
      ]
     },
     "execution_count": 8,
     "metadata": {},
     "output_type": "execute_result"
    }
   ],
   "source": [
    "%%sql\n",
    "select"
   ]
  },
  {
   "cell_type": "markdown",
   "metadata": {},
   "source": [
    "### Question 1.2: What is the primary key for the customer table? Assign a string to answer variable and run the cell."
   ]
  },
  {
   "cell_type": "code",
   "execution_count": 9,
   "metadata": {},
   "outputs": [
    {
     "name": "stdout",
     "output_type": "stream",
     "text": [
      "Correct!\n"
     ]
    }
   ],
   "source": [
    "answer = \"customer_id\"\n",
    "CustomerPrimaryKeyQuestion(answer)"
   ]
  },
  {
   "cell_type": "markdown",
   "metadata": {},
   "source": [
    "## Section 2: Data Validation (Data Types)\n",
    "\n",
    "### Outline\n",
    "**Technical**    \n",
    "- String Data Type\n",
    "- Date Data Type\n",
    "\n",
    "**Story**\n",
    "- Familiarize with film + inventory (from strings)\n",
    "- Highlight date considerations for customer, payments, and rental\n",
    "\n",
    "### Content  \n",
    "Now we know the primary keys for the rental, payment, and customer tables. But what are these fields? Let's investigate the rental table's data types. The syntax for describing data types is dependent on the type of SQL you are using. In this tutorial, we are using **PostgreSQL**.   \n",
    "\n",
    "**NOTE:** If you're working in Databricks, you can use the SQL command \"describe [table_name]\" to output the schema.\n",
    "\n",
    "#### TO ADD: List of SQL variations that use the query below\n",
    "\n",
    "### Example Query 2:"
   ]
  },
  {
   "cell_type": "code",
   "execution_count": 10,
   "metadata": {},
   "outputs": [
    {
     "name": "stdout",
     "output_type": "stream",
     "text": [
      " * postgresql+psycopg2://andrewmahler@localhost:5432/sqltool\n",
      "7 rows affected.\n"
     ]
    },
    {
     "data": {
      "text/html": [
       "<table>\n",
       "    <tr>\n",
       "        <th>column_name</th>\n",
       "        <th>data_type</th>\n",
       "    </tr>\n",
       "    <tr>\n",
       "        <td>rental_id</td>\n",
       "        <td>integer</td>\n",
       "    </tr>\n",
       "    <tr>\n",
       "        <td>rental_date</td>\n",
       "        <td>timestamp without time zone</td>\n",
       "    </tr>\n",
       "    <tr>\n",
       "        <td>inventory_id</td>\n",
       "        <td>integer</td>\n",
       "    </tr>\n",
       "    <tr>\n",
       "        <td>customer_id</td>\n",
       "        <td>smallint</td>\n",
       "    </tr>\n",
       "    <tr>\n",
       "        <td>return_date</td>\n",
       "        <td>timestamp without time zone</td>\n",
       "    </tr>\n",
       "    <tr>\n",
       "        <td>staff_id</td>\n",
       "        <td>smallint</td>\n",
       "    </tr>\n",
       "    <tr>\n",
       "        <td>last_update</td>\n",
       "        <td>timestamp without time zone</td>\n",
       "    </tr>\n",
       "</table>"
      ],
      "text/plain": [
       "[('rental_id', 'integer'),\n",
       " ('rental_date', 'timestamp without time zone'),\n",
       " ('inventory_id', 'integer'),\n",
       " ('customer_id', 'smallint'),\n",
       " ('return_date', 'timestamp without time zone'),\n",
       " ('staff_id', 'smallint'),\n",
       " ('last_update', 'timestamp without time zone')]"
      ]
     },
     "execution_count": 10,
     "metadata": {},
     "output_type": "execute_result"
    }
   ],
   "source": [
    "%%sql\n",
    "select column_name, data_type \n",
    "from information_schema.columns\n",
    "-- Change the table_name to the table you want to investigate\n",
    "where table_name = 'rental';"
   ]
  },
  {
   "cell_type": "code",
   "execution_count": 11,
   "metadata": {},
   "outputs": [],
   "source": [
    "# TO DO: Modify the the payment table/customer table so the join keys are different across different tables.\n",
    "# i.e. rental_table is an integer in one table and a string in another table\n",
    "# other note: could also add leading 0s to some of the join keys"
   ]
  },
  {
   "cell_type": "markdown",
   "metadata": {},
   "source": [
    "### Test Query 2: In the cell below, write a query to determine the data types for the payment table."
   ]
  },
  {
   "cell_type": "code",
   "execution_count": 23,
   "metadata": {},
   "outputs": [
    {
     "name": "stdout",
     "output_type": "stream",
     "text": [
      " * postgresql+psycopg2://andrewmahler@localhost:5432/sqltool\n",
      "1 rows affected.\n"
     ]
    },
    {
     "data": {
      "text/html": [
       "<table>\n",
       "    <tr>\n",
       "    </tr>\n",
       "    <tr>\n",
       "    </tr>\n",
       "</table>"
      ],
      "text/plain": [
       "[()]"
      ]
     },
     "execution_count": 23,
     "metadata": {},
     "output_type": "execute_result"
    }
   ],
   "source": [
    "%%sql\n",
    "select"
   ]
  },
  {
   "cell_type": "markdown",
   "metadata": {},
   "source": [
    "### Question 2: What is the data type for the amount field in the payment table? Assign a string to the answer variable and run the cell."
   ]
  },
  {
   "cell_type": "code",
   "execution_count": 24,
   "metadata": {},
   "outputs": [
    {
     "name": "stdout",
     "output_type": "stream",
     "text": [
      "Correct!\n"
     ]
    }
   ],
   "source": [
    "answer = \"numeric\"\n",
    "PaymentDataTypeQuestion(answer)"
   ]
  },
  {
   "cell_type": "markdown",
   "metadata": {},
   "source": [
    "### Strings\n",
    "A string is a sequence of characters, either as a  constant or as a variable. Strings are used to represent text, but numbers and dates may still be string types.    \n",
    "     \n",
    "#### Example Strings: \n",
    "“String”, “Str!nG2!”, “34578”, “U84-32-12-44”, “2018-12-10”  \n",
    "  \n",
    "### Substrings\n",
    "When working with strings, you may want to investigate certain portions of strings in your table (AKA substrings). For example, **“Cascade”** is a substring of **“Cascade Data Labs”**.  \n",
    "  \n",
    "**NOTE:**  \n",
    "There are many functions in SQL used to pull substrings. The most common are **LEFT(string, length)** (pulls from the string’s left side) , **RIGHT(string, length)** (pulls from the string’s right side), and **SUBSTRING**(**expression** (string to match for), **start** (first character is 1), **length** (inclusive of start)).    "
   ]
  },
  {
   "cell_type": "markdown",
   "metadata": {},
   "source": [
    "### String Matching\n",
    "When working with data, you often want to filter your output to certain instances of strings. For example, you may want to filter out specific products or filter for a certain customer. We will investigate the different methods in string matching through the films and inventory tables.\n",
    "\n",
    "**WHERE-RELATIONAL OPERATOR Clause**  \n",
    "The WHERE-RELATIONAL OPERATOR Clause is the simplest string matching method (and is not limited to the string data type), but also the least robust. \n",
    "\n",
    "**TIP:** For exact string matching of alphabetical strings, it is often easiest to user **UPPER(** string **)** (function to make entire string uppercase) on the word you are searching for, as string data can be inconsistent.\n",
    "\n",
    "**Film Table**\n",
    "To get a sense for the information in the film table, let's pull all the fields for the film \"Airport Pollock\". \n",
    "\n",
    "### TO DO: Figure out a way to articulate why single cases are useful in QA, specifically in tracking issues\n",
    "\n",
    "### Example Query 3:"
   ]
  },
  {
   "cell_type": "code",
   "execution_count": 25,
   "metadata": {},
   "outputs": [
    {
     "name": "stdout",
     "output_type": "stream",
     "text": [
      " * postgresql+psycopg2://andrewmahler@localhost:5432/sqltool\n",
      "1 rows affected.\n"
     ]
    },
    {
     "data": {
      "text/html": [
       "<table>\n",
       "    <tr>\n",
       "        <th>film_id</th>\n",
       "        <th>title</th>\n",
       "        <th>description</th>\n",
       "        <th>release_year</th>\n",
       "        <th>language_id</th>\n",
       "        <th>rental_duration</th>\n",
       "        <th>rental_rate</th>\n",
       "        <th>length</th>\n",
       "        <th>replacement_cost</th>\n",
       "        <th>rating</th>\n",
       "        <th>last_update</th>\n",
       "        <th>special_features</th>\n",
       "    </tr>\n",
       "    <tr>\n",
       "        <td>8</td>\n",
       "        <td>Airport Pollock</td>\n",
       "        <td>A Epic Tale of a Moose And a Girl who must Confront a Monkey in Ancient India</td>\n",
       "        <td>2006</td>\n",
       "        <td>1</td>\n",
       "        <td>6</td>\n",
       "        <td>4.99</td>\n",
       "        <td>54</td>\n",
       "        <td>15.99</td>\n",
       "        <td>R</td>\n",
       "        <td>2013-05-26 14:50:58.951000</td>\n",
       "        <td>[&#x27;Trailers&#x27;]</td>\n",
       "    </tr>\n",
       "</table>"
      ],
      "text/plain": [
       "[(8, 'Airport Pollock', 'A Epic Tale of a Moose And a Girl who must Confront a Monkey in Ancient India', 2006, 1, 6, Decimal('4.99'), 54, Decimal('15.99'), 'R', datetime.datetime(2013, 5, 26, 14, 50, 58, 951000), ['Trailers'])]"
      ]
     },
     "execution_count": 25,
     "metadata": {},
     "output_type": "execute_result"
    }
   ],
   "source": [
    "%%sql\n",
    "SELECT * \n",
    "FROM film \n",
    "-- WHERE-RELATIONAL OPERATOR CLAUSE\n",
    "WHERE UPPER(title) = 'AIRPORT POLLOCK'"
   ]
  },
  {
   "cell_type": "markdown",
   "metadata": {},
   "source": [
    "The above output reveals some interesting things about this film table:\n",
    "\n",
    "    1. This DVD store contains films where moose are protagonists and monkeys are anti-heroes.\n",
    "    2. Values for the special features field are arrays."
   ]
  },
  {
   "cell_type": "markdown",
   "metadata": {},
   "source": [
    "### Test Query 3:  In the cell below, write a query to pull the description, release_year, and rental_rate for the film \"african egg\". Begin the query below \"answer <<\" "
   ]
  },
  {
   "cell_type": "code",
   "execution_count": 26,
   "metadata": {},
   "outputs": [
    {
     "name": "stdout",
     "output_type": "stream",
     "text": [
      " * postgresql+psycopg2://andrewmahler@localhost:5432/sqltool\n",
      "1 rows affected.\n",
      "Returning data to local variable answer\n"
     ]
    }
   ],
   "source": [
    "%%sql \n",
    "answer << \n",
    "select description, release_year, rental_rate from film where UPPER(title) = 'AFRICAN EGG'"
   ]
  },
  {
   "cell_type": "markdown",
   "metadata": {},
   "source": [
    "### Question 3: Run the below cell after you've run Test Query 3"
   ]
  },
  {
   "cell_type": "code",
   "execution_count": 20,
   "metadata": {
    "scrolled": true
   },
   "outputs": [
    {
     "name": "stdout",
     "output_type": "stream",
     "text": [
      "Correct!\n"
     ]
    }
   ],
   "source": [
    "# Check your query by running this cell\n",
    "''' \n",
    "NOTE: The output of a dataframe contains an index that uniquely identifies rows,\n",
    "which is different than the output of a SQL query. \n",
    "\n",
    "This does not mean that it serves as the table's primary key.\n",
    "'''\n",
    "AfricanEggQuestion(answer)"
   ]
  },
  {
   "cell_type": "markdown",
   "metadata": {},
   "source": [
    "**WHERE-LIKE Clause**  \n",
    "In that last query, we pulled rows with the title \"african egg\". But what if we we wanted to pull rows where the title contains the word \"africa\" (or an extension of the word like african). In order to accomplish this, you need the LIKE clause, which allows for pattern matching. The LIKE clause uses wildcards to identify patterns. There are two wildcards used in conjunction with the LIKE operator:   \n",
    "    1. % The percent sign represents zero, one, or multiple characters       \n",
    "    2. _ The underscore represents a single character\n",
    "  \n",
    "**TIP**: When pattern matching, make your search pattern as specific as possible. The more general your pattern is, the more likely it will return unexpected outputs.\n",
    "\n",
    "### Example Query 4:"
   ]
  },
  {
   "cell_type": "code",
   "execution_count": 22,
   "metadata": {},
   "outputs": [
    {
     "name": "stdout",
     "output_type": "stream",
     "text": [
      " * postgresql+psycopg2://andrewmahler@localhost:5432/sqltool\n",
      "3 rows affected.\n"
     ]
    },
    {
     "data": {
      "text/html": [
       "<table>\n",
       "    <tr>\n",
       "        <th>film_id</th>\n",
       "        <th>title</th>\n",
       "    </tr>\n",
       "    <tr>\n",
       "        <td>5</td>\n",
       "        <td>African Egg</td>\n",
       "    </tr>\n",
       "    <tr>\n",
       "        <td>472</td>\n",
       "        <td>Italian African</td>\n",
       "    </tr>\n",
       "    <tr>\n",
       "        <td>637</td>\n",
       "        <td>Open African</td>\n",
       "    </tr>\n",
       "</table>"
      ],
      "text/plain": [
       "[(5, 'African Egg'), (472, 'Italian African'), (637, 'Open African')]"
      ]
     },
     "execution_count": 22,
     "metadata": {},
     "output_type": "execute_result"
    }
   ],
   "source": [
    "%%sql\n",
    "SELECT film_id, title FROM film WHERE UPPER(title) LIKE '%AFRICA%'"
   ]
  },
  {
   "cell_type": "markdown",
   "metadata": {},
   "source": [
    "## Section 3: Joins + Subqueries\n",
    "Technical Points:\n",
    "- Basic Joins\n",
    "- Dupes that result from joins\n",
    "- Left Join vs Inner Join vs Anti Join\n",
    "- Subqueries\n",
    "    - Optimizing joins/only join what's needed via subqueries\n",
    "    \n",
    "Story Points:\n",
    "- Connect film + inventory\n",
    "- Connect rental, payment, + customer\n",
    "- General outline for our analysis"
   ]
  },
  {
   "cell_type": "markdown",
   "metadata": {},
   "source": [
    "## Section 4: Conditional Logic\n",
    "Technical Points:\n",
    "- Complicated Logic\n",
    "- Case Statements\n",
    "    - Flags\n",
    "- DISTINCT Case\n",
    "\n",
    "Story Points:\n",
    "- Outline conditions that will feed into final analysis framework"
   ]
  },
  {
   "cell_type": "code",
   "execution_count": null,
   "metadata": {},
   "outputs": [],
   "source": [
    "# Does the above section include case statements?"
   ]
  },
  {
   "cell_type": "markdown",
   "metadata": {},
   "source": [
    "## Section 5: Aggregation, Grouping, and Windowing Functions\n",
    "\n",
    "Technical Points:\n",
    "- Limitations of granularity: rolling up is NOT reversible\n",
    "- Aggregate functions\n",
    "- Aggregate functions with case statements\n",
    "- Partition functions\n",
    "\n",
    "Story Points:\n",
    "- Final aggregation of analysis tables\n",
    "- Add visuals afterwards\n",
    "- Ends \"Stage 1\" of the SQL Tool"
   ]
  },
  {
   "cell_type": "markdown",
   "metadata": {},
   "source": [
    "## Section 6: Advanced Concepts"
   ]
  },
  {
   "cell_type": "markdown",
   "metadata": {},
   "source": [
    "## APPENDIX:\n",
    "\n",
    "### Julie Join Notes: \n",
    "\n",
    "#### Joins \n",
    "So far, we have explored how to query information from a single table and transform the values within that table. However, in the situation where the information we need does not exist in our current table, a join is needed to append the appropriate data onto the data set. \n",
    "\n",
    "#### Joins for Data Creation \n",
    "Types of Joins\n",
    "Different types of joins will yield different result tables. It is recommended that the final result table is planned out and thought through before performing the join. Let us use the tables mentioned above as examples (pos_line_item and cust_attributes). \n",
    "\n",
    "Note that to join any two tables together, a join key should be used so that the table knows which rows to append together. The join key is typically a field in one table that is supposed to match to a field in the second table. Let’s assume we have two tables, one on the left and one on the right. \n",
    "\n",
    "#### Examples once data is added \n",
    "An **inner** join returns records that have matching values in both tables\n",
    "\n",
    "A **left** join returns all records from the left table and corresponding matched values from the right table \n",
    "\n",
    "A **right** join returns all records from the right table and corresponding matched values from the left table\n",
    "Note that this is essentially the same as a left join but with the right table\n",
    "\n",
    "An **outer** join returns all records from both tables, but will match the values if the join key is validated\n",
    "\n",
    "An **anti** join returns the records if there is no match in either table   \n",
    "\n",
    "#### Join Keys\n",
    "##### Equality vs. inequality  \n",
    "Join keys are the most essential part of a join. A typical join key, as noted in the previous section, consists of a statement that connects one field in the left table to one field in the right table. Typical join statements use equality, but using inequality in join statements is possible. \n",
    "\n",
    "**Joins for Data Filtering**   \n",
    "Joins are more useful than just appending on new data from different sources. They are also effective in optimizing a slow query when rows need to be filtered out (as opposed to using a where clause in conjunction with the “in” function). There are two joins that can help you accomplish this: (1) inner joins and (2) anti joins. \n",
    "\n",
    "Examples once data is added\n",
    "\n",
    "**Inner Join**\n",
    "\n",
    "**Anti Join**   \n",
    "Tips for Joins   \n",
    "Extra caution is needed when joining on a string join key. It is possible that these strings are capitalized differently and encoded differently. It is best practice to check the join key in both tables before performing the join and if needed, mutate the join key so that they match.\n",
    "\n",
    "Examples once data is added\n",
    "For example, for trim(upper(name)) = trim(upper(campaign))\n",
    "\n",
    "Before performing a join, think about what you want the final data set to look like. Write out all the features and which tables you need to retrieve those fields from before you join tables together. This will help you be organized and write cleaner code. \n",
    "\n",
    "Try to alias tables with a small identifier that is descriptive of the table you are querying from. Tag each field you select with the table identifier so that each field is pulled exactly from the table you want.\n",
    "\n"
   ]
  },
  {
   "cell_type": "code",
   "execution_count": null,
   "metadata": {},
   "outputs": [],
   "source": []
  }
 ],
 "metadata": {
  "kernelspec": {
   "display_name": "Python 3",
   "language": "python",
   "name": "python3"
  },
  "language_info": {
   "codemirror_mode": {
    "name": "ipython",
    "version": 3
   },
   "file_extension": ".py",
   "mimetype": "text/x-python",
   "name": "python",
   "nbconvert_exporter": "python",
   "pygments_lexer": "ipython3",
   "version": "3.6.5"
  }
 },
 "nbformat": 4,
 "nbformat_minor": 2
}

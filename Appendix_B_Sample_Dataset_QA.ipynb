{
 "cells": [
  {
   "cell_type": "markdown",
   "metadata": {},
   "source": [
    "## Data Validation for DVD Rental Dataset\n",
    "\n",
    "This notebook loads all of the data sets used in this SQL tool and quickly QAs them to make sure the level of data dirtiness is as expected. Any unexpected irregularities should be noted and fixed accordingly."
   ]
  },
  {
   "cell_type": "code",
   "execution_count": 1,
   "metadata": {},
   "outputs": [],
   "source": [
    "%%capture\n",
    "import pandas as pd\n",
    "import sqlalchemy\n",
    "import psycopg2\n",
    "import sqlite3\n",
    "\n",
    "%reload_ext sql\n",
    "%config SqlMagic.displaylimit = 10\n",
    "%sql sqlite://\n",
    "    \n",
    "%store -r actor\n",
    "%store -r film_actor\n",
    "%store -r customer\n",
    "%store -r film_category\n",
    "%store -r films\n",
    "%store -r language\n",
    "%store -r rental\n",
    "\n",
    "%sql persist actor\n",
    "%sql persist film_actor\n",
    "%sql persist customer\n",
    "%sql persist film_category\n",
    "%sql persist films\n",
    "%sql persist language\n",
    "%sql persist rental"
   ]
  },
  {
   "cell_type": "markdown",
   "metadata": {},
   "source": [
    "### Actor Dataset\n",
    "* Looks at overall data schema and performs basic distinct counts\n",
    "* Update dates can be all the same time or different (assume that actors are manually maintained by an intern heh)\n",
    "* Expect dirty data (duplicate actors in the system)"
   ]
  },
  {
   "cell_type": "code",
   "execution_count": 2,
   "metadata": {},
   "outputs": [
    {
     "name": "stdout",
     "output_type": "stream",
     "text": [
      " * sqlite://\n",
      "Done.\n"
     ]
    },
    {
     "data": {
      "text/html": [
       "<table>\n",
       "    <tr>\n",
       "        <th>index</th>\n",
       "        <th>actor_id</th>\n",
       "        <th>first_name</th>\n",
       "        <th>last_name</th>\n",
       "        <th>last_update</th>\n",
       "    </tr>\n",
       "    <tr>\n",
       "        <td>0</td>\n",
       "        <td>1</td>\n",
       "        <td>Penelope</td>\n",
       "        <td>Guiness</td>\n",
       "        <td>2/15/06 10:05</td>\n",
       "    </tr>\n",
       "    <tr>\n",
       "        <td>1</td>\n",
       "        <td>2</td>\n",
       "        <td>Nick</td>\n",
       "        <td>Wahlberg</td>\n",
       "        <td>2/15/06 10:05</td>\n",
       "    </tr>\n",
       "    <tr>\n",
       "        <td>2</td>\n",
       "        <td>3</td>\n",
       "        <td>Ed</td>\n",
       "        <td>Chase</td>\n",
       "        <td>2/15/06 10:05</td>\n",
       "    </tr>\n",
       "    <tr>\n",
       "        <td>3</td>\n",
       "        <td>4</td>\n",
       "        <td>Jennifer</td>\n",
       "        <td>Davis</td>\n",
       "        <td>2/15/06 10:05</td>\n",
       "    </tr>\n",
       "    <tr>\n",
       "        <td>4</td>\n",
       "        <td>5</td>\n",
       "        <td>Johnny</td>\n",
       "        <td>Lollobrigida</td>\n",
       "        <td>2/15/06 10:05</td>\n",
       "    </tr>\n",
       "    <tr>\n",
       "        <td>5</td>\n",
       "        <td>6</td>\n",
       "        <td>Bette</td>\n",
       "        <td>Nicholson</td>\n",
       "        <td>2/15/06 10:05</td>\n",
       "    </tr>\n",
       "    <tr>\n",
       "        <td>6</td>\n",
       "        <td>7</td>\n",
       "        <td>Grace</td>\n",
       "        <td>Mostel</td>\n",
       "        <td>2/15/06 10:05</td>\n",
       "    </tr>\n",
       "    <tr>\n",
       "        <td>7</td>\n",
       "        <td>8</td>\n",
       "        <td>Matthew</td>\n",
       "        <td>Johansson</td>\n",
       "        <td>2/15/06 10:05</td>\n",
       "    </tr>\n",
       "    <tr>\n",
       "        <td>8</td>\n",
       "        <td>9</td>\n",
       "        <td>Joe</td>\n",
       "        <td>Swank</td>\n",
       "        <td>2/15/06 10:05</td>\n",
       "    </tr>\n",
       "    <tr>\n",
       "        <td>9</td>\n",
       "        <td>10</td>\n",
       "        <td>Christian</td>\n",
       "        <td>Gable</td>\n",
       "        <td>2/15/06 10:05</td>\n",
       "    </tr>\n",
       "</table>\n",
       "<span style=\"font-style:italic;text-align:center;\">200 rows, truncated to displaylimit of 10</span>"
      ],
      "text/plain": [
       "[(0, 1, 'Penelope', 'Guiness', '2/15/06 10:05'),\n",
       " (1, 2, 'Nick', 'Wahlberg', '2/15/06 10:05'),\n",
       " (2, 3, 'Ed', 'Chase', '2/15/06 10:05'),\n",
       " (3, 4, 'Jennifer', 'Davis', '2/15/06 10:05'),\n",
       " (4, 5, 'Johnny', 'Lollobrigida', '2/15/06 10:05'),\n",
       " (5, 6, 'Bette', 'Nicholson', '2/15/06 10:05'),\n",
       " (6, 7, 'Grace', 'Mostel', '2/15/06 10:05'),\n",
       " (7, 8, 'Matthew', 'Johansson', '2/15/06 10:05'),\n",
       " (8, 9, 'Joe', 'Swank', '2/15/06 10:05'),\n",
       " (9, 10, 'Christian', 'Gable', '2/15/06 10:05'),\n",
       " (10, 11, 'Zero', 'Cage', '2/15/06 10:05'),\n",
       " (11, 12, 'Karl', 'Berry', '2/15/06 10:05'),\n",
       " (12, 13, 'Uma', 'Wood', '2/15/06 10:05'),\n",
       " (13, 14, 'Vivien', 'Bergen', '2/15/06 10:05'),\n",
       " (14, 15, 'Cuba', 'Olivier', '2/15/06 10:05'),\n",
       " (15, 16, 'Fred', 'Costner', '2/15/06 10:05'),\n",
       " (16, 17, 'Helen', 'Voight', '2/15/06 10:05'),\n",
       " (17, 18, 'Dan', 'Torn', '2/15/06 10:05'),\n",
       " (18, 19, 'Bob', 'Fawcett', '2/15/06 10:05'),\n",
       " (19, 20, 'Lucille', 'Tracy', '2/15/06 10:05'),\n",
       " (20, 21, 'Kirsten', 'Paltrow', '2/15/06 10:05'),\n",
       " (21, 22, 'Elvis', 'Marx', '2/15/06 10:05'),\n",
       " (22, 23, 'Sandra', 'Kilmer', '2/15/06 10:05'),\n",
       " (23, 24, 'Cameron', 'Streep', '2/15/06 10:05'),\n",
       " (24, 25, 'Kevin', 'Bloom', '2/15/06 10:05'),\n",
       " (25, 26, 'Rip', 'Crawford', '2/15/06 10:05'),\n",
       " (26, 27, 'Julia', 'Mcqueen', '2/15/06 10:05'),\n",
       " (27, 28, 'Woody', 'Hoffman', '2/15/06 10:05'),\n",
       " (28, 29, 'Alec', 'Wayne', '2/15/06 10:05'),\n",
       " (29, 30, 'Sandra', 'Peck', '2/15/06 10:05'),\n",
       " (30, 31, 'Sissy', 'Sobieski', '2/15/06 10:05'),\n",
       " (31, 32, 'Tim', 'Hackman', '2/15/06 10:05'),\n",
       " (32, 33, 'Milla', 'Peck', '2/15/06 10:05'),\n",
       " (33, 34, 'Audrey', 'Olivier', '2/15/06 10:05'),\n",
       " (34, 35, 'Judy', 'Dean', '2/15/06 10:05'),\n",
       " (35, 36, 'Burt', 'Dukakis', '2/15/06 10:05'),\n",
       " (36, 37, 'Val', 'Bolger', '2/15/06 10:05'),\n",
       " (37, 38, 'Tom', 'Mckellen', '2/15/06 10:05'),\n",
       " (38, 39, 'Goldie', 'Brody', '2/15/06 10:05'),\n",
       " (39, 40, 'Johnny', 'Cage', '2/15/06 10:05'),\n",
       " (40, 41, 'Jodie', 'Degeneres', '2/15/06 10:05'),\n",
       " (41, 42, 'Tom', 'Miranda', '2/15/06 10:05'),\n",
       " (42, 43, 'Kirk', 'Jovovich', '2/15/06 10:05'),\n",
       " (43, 44, 'Nick', 'Stallone', '2/15/06 10:05'),\n",
       " (44, 45, 'Reese', 'Kilmer', '2/15/06 10:05'),\n",
       " (45, 46, 'Parker', 'Goldberg', '2/15/06 10:05'),\n",
       " (46, 47, 'Julia', 'Barrymore', '2/15/06 10:05'),\n",
       " (47, 48, 'Frances', 'Day-Lewis', '2/15/06 10:05'),\n",
       " (48, 49, 'Anne', 'Cronyn', '2/15/06 10:05'),\n",
       " (49, 50, 'Natalie', 'Hopkins', '2/15/06 10:05'),\n",
       " (50, 51, 'Gary', 'Phoenix', '2/15/06 10:05'),\n",
       " (51, 52, 'Carmen', 'Hunt', '2/15/06 10:05'),\n",
       " (52, 53, 'Mena', 'Temple', '2/15/06 10:05'),\n",
       " (53, 54, 'Penelope', 'Pinkett', '2/15/06 10:05'),\n",
       " (54, 55, 'Fay', 'Kilmer', '2/15/06 10:05'),\n",
       " (55, 56, 'Dan', 'Harris', '2/15/06 10:05'),\n",
       " (56, 57, 'Jude', 'Cruise', '2/15/06 10:05'),\n",
       " (57, 58, 'Christian', 'Akroyd', '2/15/06 10:05'),\n",
       " (58, 59, 'Dustin', 'Tautou', '2/15/06 10:05'),\n",
       " (59, 60, 'Henry', 'Berry', '2/15/06 10:05'),\n",
       " (60, 61, 'Christian', 'Neeson', '2/15/06 10:05'),\n",
       " (61, 62, 'Jayne', 'Neeson', '2/15/06 10:05'),\n",
       " (62, 63, 'Cameron', 'Wray', '2/15/06 10:05'),\n",
       " (63, 64, 'Ray', 'Johansson', '2/15/06 10:05'),\n",
       " (64, 65, 'Angela', 'Hudson', '2/15/06 10:05'),\n",
       " (65, 66, 'Mary', 'Tandy', '2/15/06 10:05'),\n",
       " (66, 67, 'Jessica', 'Bailey', '2/15/06 10:05'),\n",
       " (67, 68, 'Rip', 'Winslet', '2/15/06 10:05'),\n",
       " (68, 69, 'Kenneth', 'Paltrow', '2/15/06 10:05'),\n",
       " (69, 70, 'Michelle', 'Mcconaughey', '2/15/06 10:05'),\n",
       " (70, 71, 'Adam', 'Grant', '2/15/06 10:05'),\n",
       " (71, 72, 'Sean', 'Williams', '2/15/06 10:05'),\n",
       " (72, 73, 'Gary', 'Penn', '2/15/06 10:05'),\n",
       " (73, 74, 'Milla', 'Keitel', '2/15/06 10:05'),\n",
       " (74, 75, 'Burt', 'Posey', '2/15/06 10:05'),\n",
       " (75, 76, 'Angelina', 'Astaire', '2/15/06 10:05'),\n",
       " (76, 77, 'Cary', 'Mcconaughey', '2/15/06 10:05'),\n",
       " (77, 78, 'Groucho', 'Sinatra', '2/15/06 10:05'),\n",
       " (78, 79, 'Mae', 'Hoffman', '2/15/06 10:05'),\n",
       " (79, 80, 'Ralph', 'Cruz', '2/15/06 10:05'),\n",
       " (80, 81, 'Scarlett', 'Damon', '2/15/06 10:05'),\n",
       " (81, 82, 'Woody', 'Jolie', '2/15/06 10:05'),\n",
       " (82, 83, 'Ben', 'Willis', '2/15/06 10:05'),\n",
       " (83, 84, 'James', 'Pitt', '2/15/06 10:05'),\n",
       " (84, 85, 'Minnie', 'Zellweger', '2/15/06 10:05'),\n",
       " (85, 143, 'River', 'Dean', '2/15/06 10:05'),\n",
       " (86, 86, 'Greg', 'Chaplin', '2/15/06 10:05'),\n",
       " (87, 87, 'Spencer', 'Peck', '2/15/06 10:05'),\n",
       " (88, 88, 'Kenneth', 'Pesci', '2/15/06 10:05'),\n",
       " (89, 89, 'Charlize', 'Dench', '2/15/06 10:05'),\n",
       " (90, 90, 'Sean', 'Guiness', '2/15/06 10:05'),\n",
       " (91, 91, 'Christopher', 'Berry', '2/15/06 10:05'),\n",
       " (92, 92, 'Kirsten', 'Akroyd', '2/15/06 10:05'),\n",
       " (93, 93, 'Ellen', 'Presley', '2/15/06 10:05'),\n",
       " (94, 94, 'Kenneth', 'Torn', '2/15/06 10:05'),\n",
       " (95, 95, 'Daryl', 'Wahlberg', '2/15/06 10:05'),\n",
       " (96, 96, 'Gene', 'Willis', '2/15/06 10:05'),\n",
       " (97, 97, 'Meg', 'Hawke', '2/15/06 10:05'),\n",
       " (98, 98, 'Chris', 'Bridges', '2/15/06 10:05'),\n",
       " (99, 99, 'Jim', 'Mostel', '2/15/06 10:05'),\n",
       " (100, 100, 'Spencer', 'Depp', '2/15/06 10:05'),\n",
       " (101, 101, 'Susan', 'Davis', '2/15/06 10:05'),\n",
       " (102, 102, 'Walter', 'Torn', '2/15/06 10:05'),\n",
       " (103, 103, 'Matthew', 'Leigh', '2/15/06 10:05'),\n",
       " (104, 104, 'Penelope', 'Cronyn', '2/15/06 10:05'),\n",
       " (105, 105, 'Sidney', 'Crowe', '2/15/06 10:05'),\n",
       " (106, 106, 'Groucho', 'Dunst', '2/15/06 10:05'),\n",
       " (107, 107, 'Gina', 'Degeneres', '2/15/06 10:05'),\n",
       " (108, 108, 'Warren', 'Nolte', '2/15/06 10:05'),\n",
       " (109, 109, 'Sylvester', 'Dern', '2/15/06 10:05'),\n",
       " (110, 110, 'Susan', 'Davis', '2/15/06 10:05'),\n",
       " (111, 111, 'Cameron', 'Zellweger', '2/15/06 10:05'),\n",
       " (112, 112, 'Russell', 'Bacall', '2/15/06 10:05'),\n",
       " (113, 113, 'Morgan', 'Hopkins', '2/15/06 10:05'),\n",
       " (114, 114, 'Morgan', 'Mcdormand', '2/15/06 10:05'),\n",
       " (115, 115, 'Harrison', 'Bale', '2/15/06 10:05'),\n",
       " (116, 116, 'Dan', 'Streep', '2/15/06 10:05'),\n",
       " (117, 117, 'Renee', 'Tracy', '2/15/06 10:05'),\n",
       " (118, 118, 'Cuba', 'Allen', '2/15/06 10:05'),\n",
       " (119, 119, 'Warren', 'Jackman', '2/15/06 10:05'),\n",
       " (120, 120, 'Penelope', 'Monroe', '2/15/06 10:05'),\n",
       " (121, 121, 'Liza', 'Bergman', '2/15/06 10:05'),\n",
       " (122, 122, 'Salma', 'Nolte', '2/15/06 10:05'),\n",
       " (123, 123, 'Julianne', 'Dench', '2/15/06 10:05'),\n",
       " (124, 124, 'Scarlett', 'Bening', '2/15/06 10:05'),\n",
       " (125, 125, 'Albert', 'Nolte', '2/15/06 10:05'),\n",
       " (126, 126, 'Frances', 'Tomei', '2/15/06 10:05'),\n",
       " (127, 127, 'Kevin', 'Garland', '2/15/06 10:05'),\n",
       " (128, 128, 'Cate', 'Mcqueen', '2/15/06 10:05'),\n",
       " (129, 129, 'Daryl', 'Crawford', '2/15/06 10:05'),\n",
       " (130, 130, 'Greta', 'Keitel', '2/15/06 10:05'),\n",
       " (131, 131, 'Jane', 'Jackman', '2/15/06 10:05'),\n",
       " (132, 132, 'Adam', 'Hopper', '2/15/06 10:05'),\n",
       " (133, 133, 'Richard', 'Penn', '2/15/06 10:05'),\n",
       " (134, 134, 'Gene', 'Hopkins', '2/15/06 10:05'),\n",
       " (135, 135, 'Rita', 'Reynolds', '2/15/06 10:05'),\n",
       " (136, 136, 'Ed', 'Mansfield', '2/15/06 10:05'),\n",
       " (137, 137, 'Morgan', 'Williams', '2/15/06 10:05'),\n",
       " (138, 138, 'Lucille', 'Dee', '2/15/06 10:05'),\n",
       " (139, 139, 'Ewan', 'Gooding', '2/15/06 10:05'),\n",
       " (140, 140, 'Whoopi', 'Hurt', '2/15/06 10:05'),\n",
       " (141, 141, 'Cate', 'Harris', '2/15/06 10:05'),\n",
       " (142, 142, 'Jada', 'Ryder', '2/15/06 10:05'),\n",
       " (143, 144, 'Angela', 'Witherspoon', '2/15/06 10:05'),\n",
       " (144, 145, 'Kim', 'Allen', '2/15/06 10:05'),\n",
       " (145, 146, 'Albert', 'Johansson', '2/15/06 10:05'),\n",
       " (146, 147, 'Fay', 'Winslet', '2/15/06 10:05'),\n",
       " (147, 148, 'Emily', 'Dee', '2/15/06 10:05'),\n",
       " (148, 149, 'Russell', 'Temple', '2/15/06 10:05'),\n",
       " (149, 150, 'Jayne', 'Nolte', '2/15/06 10:05'),\n",
       " (150, 151, 'Geoffrey', 'Heston', '2/15/06 10:05'),\n",
       " (151, 152, 'Ben', 'Harris', '2/15/06 10:05'),\n",
       " (152, 153, 'Minnie', 'Kilmer', '2/15/06 10:05'),\n",
       " (153, 154, 'Meryl', 'Gibson', '2/15/06 10:05'),\n",
       " (154, 155, 'Ian', 'Tandy', '2/15/06 10:05'),\n",
       " (155, 156, 'Fay', 'Wood', '2/15/06 10:05'),\n",
       " (156, 157, 'Greta', 'Malden', '2/15/06 10:05'),\n",
       " (157, 158, 'Vivien', 'Basinger', '2/15/06 10:05'),\n",
       " (158, 159, 'Laura', 'Brody', '2/15/06 10:05'),\n",
       " (159, 160, 'Chris', 'Depp', '2/15/06 10:05'),\n",
       " (160, 161, 'Harvey', 'Hope', '2/15/06 10:05'),\n",
       " (161, 162, 'Oprah', 'Kilmer', '2/15/06 10:05'),\n",
       " (162, 163, 'Christopher', 'West', '2/15/06 10:05'),\n",
       " (163, 164, 'Humphrey', 'Willis', '2/15/06 10:05'),\n",
       " (164, 165, 'Al', 'Garland', '2/15/06 10:05'),\n",
       " (165, 166, 'Nick', 'Degeneres', '2/15/06 10:05'),\n",
       " (166, 167, 'Laurence', 'Bullock', '2/15/06 10:05'),\n",
       " (167, 168, 'Will', 'Wilson', '2/15/06 10:05'),\n",
       " (168, 169, 'Kenneth', 'Hoffman', '2/15/06 10:05'),\n",
       " (169, 170, 'Mena', 'Hopper', '2/15/06 10:05'),\n",
       " (170, 171, 'Olympia', 'Pfeiffer', '2/15/06 10:05'),\n",
       " (171, 172, 'Groucho', 'Williams', '2/15/06 10:05'),\n",
       " (172, 173, 'Alan', 'Dreyfuss', '2/15/06 10:05'),\n",
       " (173, 174, 'Michael', 'Bening', '2/15/06 10:05'),\n",
       " (174, 175, 'William', 'Hackman', '2/15/06 10:05'),\n",
       " (175, 176, 'Jon', 'Chase', '2/15/06 10:05'),\n",
       " (176, 177, 'Gene', 'Mckellen', '2/15/06 10:05'),\n",
       " (177, 178, 'Lisa', 'Monroe', '2/15/06 10:05'),\n",
       " (178, 179, 'Ed', 'Guiness', '2/15/06 10:05'),\n",
       " (179, 180, 'Jeff', 'Silverstone', '2/15/06 10:05'),\n",
       " (180, 181, 'Matthew', 'Carrey', '2/15/06 10:05'),\n",
       " (181, 182, 'Debbie', 'Akroyd', '2/15/06 10:05'),\n",
       " (182, 183, 'Russell', 'Close', '2/15/06 10:05'),\n",
       " (183, 184, 'Humphrey', 'Garland', '2/15/06 10:05'),\n",
       " (184, 185, 'Michael', 'Bolger', '2/15/06 10:05'),\n",
       " (185, 186, 'Julia', 'Zellweger', '2/15/06 10:05'),\n",
       " (186, 187, 'Renee', 'Ball', '2/15/06 10:05'),\n",
       " (187, 188, 'Rock', 'Dukakis', '2/15/06 10:05'),\n",
       " (188, 189, 'Cuba', 'Birch', '2/15/06 10:05'),\n",
       " (189, 190, 'Audrey', 'Bailey', '2/15/06 10:05'),\n",
       " (190, 191, 'Gregory', 'Gooding', '2/15/06 10:05'),\n",
       " (191, 192, 'John', 'Suvari', '2/15/06 10:05'),\n",
       " (192, 193, 'Burt', 'Temple', '2/15/06 10:05'),\n",
       " (193, 194, 'Meryl', 'Allen', '2/15/06 10:05'),\n",
       " (194, 195, 'Jayne', 'Silverstone', '2/15/06 10:05'),\n",
       " (195, 196, 'Bela', 'Walken', '2/15/06 10:05'),\n",
       " (196, 197, 'Reese', 'West', '2/15/06 10:05'),\n",
       " (197, 198, 'Mary', 'Keitel', '2/15/06 10:05'),\n",
       " (198, 199, 'Julia', 'Fawcett', '2/15/06 10:05'),\n",
       " (199, 200, 'Thora', 'Temple', '2/15/06 10:05')]"
      ]
     },
     "execution_count": 2,
     "metadata": {},
     "output_type": "execute_result"
    }
   ],
   "source": [
    "%%sql\n",
    "select * from actor"
   ]
  },
  {
   "cell_type": "code",
   "execution_count": 3,
   "metadata": {},
   "outputs": [
    {
     "name": "stdout",
     "output_type": "stream",
     "text": [
      " * sqlite://\n",
      "Done.\n"
     ]
    },
    {
     "data": {
      "text/html": [
       "<table>\n",
       "    <tr>\n",
       "        <th>count(*)</th>\n",
       "    </tr>\n",
       "    <tr>\n",
       "        <td>200</td>\n",
       "    </tr>\n",
       "</table>"
      ],
      "text/plain": [
       "[(200,)]"
      ]
     },
     "execution_count": 3,
     "metadata": {},
     "output_type": "execute_result"
    }
   ],
   "source": [
    "%%sql\n",
    "select count(*) from actor"
   ]
  },
  {
   "cell_type": "code",
   "execution_count": 7,
   "metadata": {},
   "outputs": [
    {
     "name": "stdout",
     "output_type": "stream",
     "text": [
      " * sqlite://\n",
      "Done.\n"
     ]
    },
    {
     "data": {
      "text/html": [
       "<table>\n",
       "    <tr>\n",
       "        <th>sum(1)</th>\n",
       "    </tr>\n",
       "    <tr>\n",
       "        <td>199</td>\n",
       "    </tr>\n",
       "</table>"
      ],
      "text/plain": [
       "[(199,)]"
      ]
     },
     "execution_count": 7,
     "metadata": {},
     "output_type": "execute_result"
    }
   ],
   "source": [
    "%%sql\n",
    "-- Would be good if we had more than one duplicate\n",
    "select sum(1) from (select distinct first_name, last_name from actor) unique_actors"
   ]
  },
  {
   "cell_type": "code",
   "execution_count": 6,
   "metadata": {},
   "outputs": [
    {
     "name": "stdout",
     "output_type": "stream",
     "text": [
      " * sqlite://\n",
      "Done.\n"
     ]
    },
    {
     "data": {
      "text/html": [
       "<table>\n",
       "    <tr>\n",
       "        <th>first_name</th>\n",
       "        <th>last_name</th>\n",
       "    </tr>\n",
       "    <tr>\n",
       "        <td>Susan</td>\n",
       "        <td>Davis</td>\n",
       "    </tr>\n",
       "</table>"
      ],
      "text/plain": [
       "[('Susan', 'Davis')]"
      ]
     },
     "execution_count": 6,
     "metadata": {},
     "output_type": "execute_result"
    }
   ],
   "source": [
    "%%sql\n",
    "select first_name, last_name from actor group by first_name, last_name having count(*) > 1"
   ]
  },
  {
   "cell_type": "code",
   "execution_count": 9,
   "metadata": {},
   "outputs": [
    {
     "name": "stdout",
     "output_type": "stream",
     "text": [
      " * sqlite://\n",
      "Done.\n"
     ]
    },
    {
     "data": {
      "text/html": [
       "<table>\n",
       "    <tr>\n",
       "        <th>index</th>\n",
       "        <th>actor_id</th>\n",
       "        <th>first_name</th>\n",
       "        <th>last_name</th>\n",
       "        <th>last_update</th>\n",
       "    </tr>\n",
       "    <tr>\n",
       "        <td>101</td>\n",
       "        <td>101</td>\n",
       "        <td>Susan</td>\n",
       "        <td>Davis</td>\n",
       "        <td>2/15/06 10:05</td>\n",
       "    </tr>\n",
       "    <tr>\n",
       "        <td>110</td>\n",
       "        <td>110</td>\n",
       "        <td>Susan</td>\n",
       "        <td>Davis</td>\n",
       "        <td>2/15/06 10:05</td>\n",
       "    </tr>\n",
       "</table>"
      ],
      "text/plain": [
       "[(101, 101, 'Susan', 'Davis', '2/15/06 10:05'),\n",
       " (110, 110, 'Susan', 'Davis', '2/15/06 10:05')]"
      ]
     },
     "execution_count": 9,
     "metadata": {},
     "output_type": "execute_result"
    }
   ],
   "source": [
    "%%sql\n",
    "-- Looks like the actor_ids are messed up!\n",
    "select * from actor where first_name = 'Susan' and last_name = 'Davis'"
   ]
  },
  {
   "cell_type": "code",
   "execution_count": null,
   "metadata": {},
   "outputs": [],
   "source": [
    "%%sql\n",
    "-- Querying rentals\n",
    "-- Case of converting a date to a string and then aggregating to the month level\n",
    "SELECT left(cast(rental_date as varchar), 7) as month, count(*)\n",
    "from rental \n",
    "GROUP BY left(cast(rental_date as varchar), 7)\n",
    "ORDER BY MONTH desc"
   ]
  },
  {
   "cell_type": "code",
   "execution_count": null,
   "metadata": {},
   "outputs": [],
   "source": [
    "%%sql\n",
    "select * from\n",
    "rental order by rental_id"
   ]
  },
  {
   "cell_type": "code",
   "execution_count": null,
   "metadata": {},
   "outputs": [],
   "source": [
    "%%sql\n",
    "SELECT COUNT(*) FROM rental"
   ]
  },
  {
   "cell_type": "code",
   "execution_count": null,
   "metadata": {},
   "outputs": [],
   "source": [
    "%%sql\n",
    "SELECT COUNT(DISTINCT rental_id) FROM rental"
   ]
  },
  {
   "cell_type": "code",
   "execution_count": null,
   "metadata": {},
   "outputs": [],
   "source": [
    "%%sql\n",
    "-- Investigating distinct values to determine what identifies a unique row \n",
    "SELECT \n",
    "    COUNT(DISTINCT rental_id) as rental_id_count,\n",
    "    COUNT(DISTINCT rental_date) as rental_date_count,\n",
    "    COUNT(DISTINCT inventory_id) as inventory_id_count, \n",
    "    COUNT(DISTINCT customer_id) as customer_id_count,\n",
    "    COUNT(DISTINCT staff_id) as staff_id_count, \n",
    "    COUNT(DISTINCT last_update) as last_update_count\n",
    "FROM rental"
   ]
  },
  {
   "cell_type": "code",
   "execution_count": null,
   "metadata": {},
   "outputs": [],
   "source": [
    "%%sql\n",
    "select \n",
    "    date_trunc('month', payment_date) as month,\n",
    "    sum(amount) as amount\n",
    "from payment\n",
    "group by date_trunc('month', payment_date)\n",
    "order by month "
   ]
  },
  {
   "cell_type": "code",
   "execution_count": null,
   "metadata": {},
   "outputs": [],
   "source": [
    "%%sql\n"
   ]
  },
  {
   "cell_type": "code",
   "execution_count": null,
   "metadata": {},
   "outputs": [],
   "source": [
    "%%sql\n",
    "select distinct payment_date from payment order by payment_date"
   ]
  },
  {
   "cell_type": "code",
   "execution_count": null,
   "metadata": {},
   "outputs": [],
   "source": [
    "%%sql\n",
    "select date_trunc('day', rental_date), count(*) as count \n",
    "from rental\n",
    "group by date_trunc('day', rental_date)\n",
    "order by count desc"
   ]
  },
  {
   "cell_type": "code",
   "execution_count": null,
   "metadata": {},
   "outputs": [],
   "source": [
    "%%sql\n",
    "select 'rental' as table, min(rental_id) as min_id, max(rental_id) as max_id from rental\n",
    "\n",
    "UNION\n",
    "\n",
    "select 'payment' as table, min(rental_id) as min_id, max(rental_id) as max_id from payment\n",
    "\n",
    "ORDER BY min_id"
   ]
  },
  {
   "cell_type": "code",
   "execution_count": null,
   "metadata": {},
   "outputs": [],
   "source": [
    "%%sql\n",
    "select * from payment where rental_id = 1400"
   ]
  },
  {
   "cell_type": "code",
   "execution_count": null,
   "metadata": {},
   "outputs": [],
   "source": [
    "%%sql\n",
    "select * from rental where rental_id = 1400"
   ]
  },
  {
   "cell_type": "code",
   "execution_count": null,
   "metadata": {},
   "outputs": [],
   "source": [
    "%%sql\n",
    "select count(*) from payment;"
   ]
  },
  {
   "cell_type": "code",
   "execution_count": null,
   "metadata": {},
   "outputs": [],
   "source": [
    "%%sql\n",
    "select count(distinct payment_id) from payment"
   ]
  },
  {
   "cell_type": "code",
   "execution_count": null,
   "metadata": {},
   "outputs": [],
   "source": [
    "%%sql\n",
    "select count(distinct rental_id) from payment"
   ]
  },
  {
   "cell_type": "code",
   "execution_count": null,
   "metadata": {},
   "outputs": [],
   "source": [
    "%%sql\n",
    "select p.rental_id, p.payment_id, p.customer_id, p.amount\n",
    "from payment p\n",
    "join \n",
    "(select rental_id, COUNT(*) as rental_count\n",
    " from payment group by rental_id \n",
    " having COUNT(*) > 1) pr ON p.rental_id = pr.rental_id"
   ]
  },
  {
   "cell_type": "code",
   "execution_count": null,
   "metadata": {},
   "outputs": [],
   "source": [
    "%%sql\n",
    "select rental_id, customer_id from rental where rental_id = 4591"
   ]
  },
  {
   "cell_type": "code",
   "execution_count": null,
   "metadata": {},
   "outputs": [],
   "source": [
    "%%sql\n",
    "select rental_id, customer_id from rental where customer_id = 16"
   ]
  },
  {
   "cell_type": "code",
   "execution_count": null,
   "metadata": {},
   "outputs": [],
   "source": [
    "%%sql\n",
    "select count(distinct customer_id) from rental"
   ]
  },
  {
   "cell_type": "code",
   "execution_count": null,
   "metadata": {},
   "outputs": [],
   "source": [
    "%%sql\n",
    "select customer_id, count(*) as count from rental group by customer_id order by count desc"
   ]
  },
  {
   "cell_type": "code",
   "execution_count": null,
   "metadata": {},
   "outputs": [],
   "source": [
    "%%sql\n",
    "select count(distinct customer_id) from customer"
   ]
  },
  {
   "cell_type": "code",
   "execution_count": null,
   "metadata": {},
   "outputs": [],
   "source": [
    "%%sql\n",
    "select customer_id, count(*) as count from customer group by customer_id order by count desc"
   ]
  },
  {
   "cell_type": "code",
   "execution_count": null,
   "metadata": {},
   "outputs": [],
   "source": [
    "%%sql\n",
    "select distinct activebool from customer"
   ]
  },
  {
   "cell_type": "code",
   "execution_count": null,
   "metadata": {},
   "outputs": [],
   "source": [
    "%%sql\n",
    "select active, count(*) from customer group by active"
   ]
  },
  {
   "cell_type": "code",
   "execution_count": null,
   "metadata": {},
   "outputs": [],
   "source": [
    "%%sql\n",
    "select activebool, count(*) from customer group by activebool"
   ]
  },
  {
   "cell_type": "code",
   "execution_count": null,
   "metadata": {},
   "outputs": [],
   "source": [
    " %%sql\n",
    "select email, count(customer_id) as count from customer group by email order by count desc"
   ]
  },
  {
   "cell_type": "code",
   "execution_count": null,
   "metadata": {},
   "outputs": [],
   "source": [
    "%%sql\n",
    "-- All of the create dates are the same! More likely the date that this was added to the \n",
    "select create_date, count(*) from customer group by create_date"
   ]
  },
  {
   "cell_type": "code",
   "execution_count": null,
   "metadata": {},
   "outputs": [],
   "source": [
    "%%sql\n",
    "select distinct create_date from customer"
   ]
  },
  {
   "cell_type": "code",
   "execution_count": null,
   "metadata": {},
   "outputs": [],
   "source": [
    "%%sql\n",
    "select avg(inv_count) \n",
    "from \n",
    "    (\n",
    "    select film_id, count(distinct inventory_id) as inv_count \n",
    "    from inventory \n",
    "    group by film_id \n",
    "    order by inv_count desc\n",
    "    ) a"
   ]
  },
  {
   "cell_type": "code",
   "execution_count": null,
   "metadata": {},
   "outputs": [],
   "source": [
    "%%sql\n",
    "select distinct first_name from customer order by first_name "
   ]
  },
  {
   "cell_type": "code",
   "execution_count": null,
   "metadata": {},
   "outputs": [],
   "source": [
    "%%sql\n",
    "select * from payment where payment_date IS NULL"
   ]
  },
  {
   "cell_type": "code",
   "execution_count": null,
   "metadata": {},
   "outputs": [],
   "source": [
    "%%sql\n",
    "select date_trunc('month', payment_date) as month, count(*)\n",
    "from payment \n",
    "group by date_trunc('month', payment_date)"
   ]
  },
  {
   "cell_type": "code",
   "execution_count": null,
   "metadata": {},
   "outputs": [],
   "source": [
    "%%sql\n",
    "select customer_id from customer order by customer_id"
   ]
  },
  {
   "cell_type": "code",
   "execution_count": null,
   "metadata": {},
   "outputs": [],
   "source": [
    "%%sql\n",
    "select COUNT(CASE WHEN upper(description) LIKE '%MOOSE%' THEN 1 END) as moose_count, COUNT(*) from film"
   ]
  },
  {
   "cell_type": "code",
   "execution_count": null,
   "metadata": {},
   "outputs": [],
   "source": [
    "%%sql\n",
    "select count(distinct film_id) from film"
   ]
  },
  {
   "cell_type": "code",
   "execution_count": null,
   "metadata": {},
   "outputs": [],
   "source": [
    "%%sql\n",
    "select special_features from film"
   ]
  },
  {
   "cell_type": "code",
   "execution_count": null,
   "metadata": {},
   "outputs": [],
   "source": [
    "%%sql\n",
    "select distinct special_features from film"
   ]
  },
  {
   "cell_type": "code",
   "execution_count": null,
   "metadata": {},
   "outputs": [],
   "source": [
    "%%sql\n",
    "select * from film"
   ]
  },
  {
   "cell_type": "code",
   "execution_count": null,
   "metadata": {},
   "outputs": [],
   "source": [
    "%%sql\n",
    "select special_features, count(distinct film_id) as count \n",
    "from \n",
    "    (\n",
    "    select film_id, unnest(special_features) as special_features from film\n",
    "    ) a\n",
    "group by special_features\n",
    "order by count desc"
   ]
  },
  {
   "cell_type": "code",
   "execution_count": null,
   "metadata": {},
   "outputs": [],
   "source": [
    "%%sql\n",
    "select rating, count(distinct film_id) from film group by rating"
   ]
  },
  {
   "cell_type": "code",
   "execution_count": null,
   "metadata": {},
   "outputs": [],
   "source": [
    "%%sql\n",
    "select rental_rate, count(distinct film_id) from film group by rental_rate"
   ]
  },
  {
   "cell_type": "code",
   "execution_count": null,
   "metadata": {},
   "outputs": [],
   "source": [
    "%%sql\n",
    "select fulltext:'airport'] from film"
   ]
  },
  {
   "cell_type": "code",
   "execution_count": null,
   "metadata": {},
   "outputs": [],
   "source": [
    "%%sql\n",
    "ALTER TABLE film\n",
    "DROP COLUMN fulltext"
   ]
  },
  {
   "cell_type": "code",
   "execution_count": null,
   "metadata": {},
   "outputs": [],
   "source": [
    "%%sql\n",
    "select * from film"
   ]
  },
  {
   "cell_type": "code",
   "execution_count": null,
   "metadata": {},
   "outputs": [],
   "source": [
    "%%sql\n",
    "select * from film"
   ]
  },
  {
   "cell_type": "code",
   "execution_count": null,
   "metadata": {},
   "outputs": [],
   "source": [
    "%%sql\n",
    "select f.film_id, title, MAX(inventory_id)-MIN(inventory_id)+1 as total_inventory\n",
    "from film f\n",
    "join inventory i on f.film_id = i.film_id\n",
    "group by f.film_id, title\n",
    "order by total_inventory desc"
   ]
  },
  {
   "cell_type": "code",
   "execution_count": null,
   "metadata": {},
   "outputs": [],
   "source": [
    "%%sql\n",
    "select f.film_id, title, inventory_id\n",
    "from film f\n",
    "left join inventory i on f.film_id = i.film_id\n",
    "where inventory_id IS NULL"
   ]
  },
  {
   "cell_type": "code",
   "execution_count": null,
   "metadata": {},
   "outputs": [],
   "source": [
    "%%sql\n",
    "select count(distinct film_id) from inventory"
   ]
  },
  {
   "cell_type": "code",
   "execution_count": null,
   "metadata": {},
   "outputs": [],
   "source": [
    "%%sql\n",
    "select f.film_id, title, inventory_id\n",
    "from film f\n",
    "join inventory i on f.film_id = i.film_id"
   ]
  },
  {
   "cell_type": "code",
   "execution_count": null,
   "metadata": {},
   "outputs": [],
   "source": [
    "%%sql\n",
    "select count(distinct case when inventory_id is null then f.film_id end)\n",
    "from film f\n",
    "left join inventory i on f.film_id = i.film_id"
   ]
  },
  {
   "cell_type": "code",
   "execution_count": null,
   "metadata": {},
   "outputs": [],
   "source": [
    "%%sql\n",
    "select count(distinct f.film_id)\n",
    "from film f\n",
    "left join inventory i on f.film_id = i.film_id"
   ]
  },
  {
   "cell_type": "code",
   "execution_count": null,
   "metadata": {},
   "outputs": [],
   "source": [
    "# NULLS ARE PRESENT IN THE INVENTORY TABLE\n",
    "# THERE ARE FILMS IN THE FILM TABLE THAT ARE NOT IN THE INVENTORY TABLE"
   ]
  },
  {
   "cell_type": "code",
   "execution_count": null,
   "metadata": {},
   "outputs": [],
   "source": [
    "%%sql\n",
    "select * from film"
   ]
  },
  {
   "cell_type": "code",
   "execution_count": null,
   "metadata": {},
   "outputs": [],
   "source": [
    "%%sql\n",
    "select * from rental"
   ]
  },
  {
   "cell_type": "code",
   "execution_count": null,
   "metadata": {},
   "outputs": [],
   "source": [
    "%%sql\n",
    "select * from inventory"
   ]
  },
  {
   "cell_type": "code",
   "execution_count": null,
   "metadata": {},
   "outputs": [],
   "source": [
    "%%sql\n",
    "-- Number of rentals per customer\n",
    "select customer_id, count(*) as count\n",
    "from rental\n",
    "group by customer_id \n",
    "order by count desc"
   ]
  },
  {
   "cell_type": "code",
   "execution_count": null,
   "metadata": {},
   "outputs": [],
   "source": [
    "%%sql\n",
    "select inventory_id, film_id from inventory i\n",
    "join film f on i.film_id = f.film_id"
   ]
  },
  {
   "cell_type": "code",
   "execution_count": null,
   "metadata": {},
   "outputs": [],
   "source": []
  }
 ],
 "metadata": {
  "kernelspec": {
   "display_name": "Python 3",
   "language": "python",
   "name": "python3"
  },
  "language_info": {
   "codemirror_mode": {
    "name": "ipython",
    "version": 3
   },
   "file_extension": ".py",
   "mimetype": "text/x-python",
   "name": "python",
   "nbconvert_exporter": "python",
   "pygments_lexer": "ipython3",
   "version": "3.6.5"
  }
 },
 "nbformat": 4,
 "nbformat_minor": 2
}

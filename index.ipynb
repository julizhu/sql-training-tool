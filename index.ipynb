{
 "cells": [
  {
   "cell_type": "markdown",
   "metadata": {},
   "source": [
    "# Binder with Postgres server\n",
    "\n",
    "This binder is running a postgres server in the background. Currently, it has only the database that is there by default."
   ]
  },
  {
   "cell_type": "markdown",
   "metadata": {},
   "source": [
    "## psql\n",
    "\n",
    "We can connect to the db using psql:"
   ]
  },
  {
   "cell_type": "code",
   "execution_count": 1,
   "metadata": {},
   "outputs": [
    {
     "name": "stdout",
     "output_type": "stream",
     "text": [
      "psql is the PostgreSQL interactive terminal.\r\n",
      "\r\n",
      "Usage:\r\n",
      "  psql [OPTION]... [DBNAME [USERNAME]]\r\n",
      "\r\n",
      "General options:\r\n",
      "  -c, --command=COMMAND    run only single command (SQL or internal) and exit\r\n",
      "  -d, --dbname=DBNAME      database name to connect to (default: \"tombaldwin\")\r\n",
      "  -f, --file=FILENAME      execute commands from file, then exit\r\n",
      "  -l, --list               list available databases, then exit\r\n",
      "  -v, --set=, --variable=NAME=VALUE\r\n",
      "                           set psql variable NAME to VALUE\r\n",
      "                           (e.g., -v ON_ERROR_STOP=1)\r\n",
      "  -V, --version            output version information, then exit\r\n",
      "  -X, --no-psqlrc          do not read startup file (~/.psqlrc)\r\n",
      "  -1 (\"one\"), --single-transaction\r\n",
      "                           execute as a single transaction (if non-interactive)\r\n",
      "  -?, --help[=options]     show this help, then exit\r\n",
      "      --help=commands      list backslash commands, then exit\r\n",
      "      --help=variables     list special variables, then exit\r\n",
      "\r\n",
      "Input and output options:\r\n",
      "  -a, --echo-all           echo all input from script\r\n",
      "  -b, --echo-errors        echo failed commands\r\n",
      "  -e, --echo-queries       echo commands sent to server\r\n",
      "  -E, --echo-hidden        display queries that internal commands generate\r\n",
      "  -L, --log-file=FILENAME  send session log to file\r\n",
      "  -n, --no-readline        disable enhanced command line editing (readline)\r\n",
      "  -o, --output=FILENAME    send query results to file (or |pipe)\r\n",
      "  -q, --quiet              run quietly (no messages, only query output)\r\n",
      "  -s, --single-step        single-step mode (confirm each query)\r\n",
      "  -S, --single-line        single-line mode (end of line terminates SQL command)\r\n",
      "\r\n",
      "Output format options:\r\n",
      "  -A, --no-align           unaligned table output mode\r\n",
      "  -F, --field-separator=STRING\r\n",
      "                           field separator for unaligned output (default: \"|\")\r\n",
      "  -H, --html               HTML table output mode\r\n",
      "  -P, --pset=VAR[=ARG]     set printing option VAR to ARG (see \\pset command)\r\n",
      "  -R, --record-separator=STRING\r\n",
      "                           record separator for unaligned output (default: newline)\r\n",
      "  -t, --tuples-only        print rows only\r\n",
      "  -T, --table-attr=TEXT    set HTML table tag attributes (e.g., width, border)\r\n",
      "  -x, --expanded           turn on expanded table output\r\n",
      "  -z, --field-separator-zero\r\n",
      "                           set field separator for unaligned output to zero byte\r\n",
      "  -0, --record-separator-zero\r\n",
      "                           set record separator for unaligned output to zero byte\r\n",
      "\r\n",
      "Connection options:\r\n",
      "  -h, --host=HOSTNAME      database server host or socket directory (default: \"local socket\")\r\n",
      "  -p, --port=PORT          database server port (default: \"5432\")\r\n",
      "  -U, --username=USERNAME  database user name (default: \"tombaldwin\")\r\n",
      "  -w, --no-password        never prompt for password\r\n",
      "  -W, --password           force password prompt (should happen automatically)\r\n",
      "\r\n",
      "For more information, type \"\\?\" (for internal commands) or \"\\help\" (for SQL\r\n",
      "commands) from within psql, or consult the psql section in the PostgreSQL\r\n",
      "documentation.\r\n",
      "\r\n",
      "Report bugs to <pgsql-bugs@postgresql.org>.\r\n"
     ]
    }
   ],
   "source": [
    "!psql --help"
   ]
  },
  {
   "cell_type": "code",
   "execution_count": 2,
   "metadata": {},
   "outputs": [
    {
     "name": "stdout",
     "output_type": "stream",
     "text": [
      "                                     List of databases\r\n",
      "   Name    |   Owner    | Encoding |   Collate   |    Ctype    |     Access privileges     \r\n",
      "-----------+------------+----------+-------------+-------------+---------------------------\r\n",
      " postgres  | tombaldwin | UTF8     | en_US.UTF-8 | en_US.UTF-8 | \r\n",
      " template0 | tombaldwin | UTF8     | en_US.UTF-8 | en_US.UTF-8 | =c/tombaldwin            +\r\n",
      "           |            |          |             |             | tombaldwin=CTc/tombaldwin\r\n",
      " template1 | tombaldwin | UTF8     | en_US.UTF-8 | en_US.UTF-8 | =c/tombaldwin            +\r\n",
      "           |            |          |             |             | tombaldwin=CTc/tombaldwin\r\n",
      "(3 rows)\r\n",
      "\r\n"
     ]
    }
   ],
   "source": [
    "!psql -d postgres -c '\\l'"
   ]
  },
  {
   "cell_type": "markdown",
   "metadata": {},
   "source": [
    "## sql magic command\n",
    "\n",
    "It is somewhat nicer to use the sql magic commands:"
   ]
  },
  {
   "cell_type": "code",
   "execution_count": 3,
   "metadata": {},
   "outputs": [],
   "source": [
    "%load_ext sql"
   ]
  },
  {
   "cell_type": "code",
   "execution_count": 4,
   "metadata": {},
   "outputs": [],
   "source": [
    "%sql?"
   ]
  },
  {
   "cell_type": "code",
   "execution_count": 5,
   "metadata": {},
   "outputs": [
    {
     "data": {
      "text/plain": [
       "'Connected: @postgres'"
      ]
     },
     "execution_count": 5,
     "metadata": {},
     "output_type": "execute_result"
    }
   ],
   "source": [
    "%sql postgresql://localhost/postgres"
   ]
  },
  {
   "cell_type": "code",
   "execution_count": null,
   "metadata": {},
   "outputs": [],
   "source": [
    "%%sql\n",
    "\\l"
   ]
  },
  {
   "cell_type": "markdown",
   "metadata": {},
   "source": [
    "## TODO: example code"
   ]
  },
  {
   "cell_type": "code",
   "execution_count": null,
   "metadata": {},
   "outputs": [],
   "source": [
    "%matplotlib inline"
   ]
  },
  {
   "cell_type": "code",
   "execution_count": null,
   "metadata": {},
   "outputs": [],
   "source": []
  }
 ],
 "metadata": {
  "kernelspec": {
   "display_name": "Python 3",
   "language": "python",
   "name": "python3"
  },
  "language_info": {
   "codemirror_mode": {
    "name": "ipython",
    "version": 3
   },
   "file_extension": ".py",
   "mimetype": "text/x-python",
   "name": "python",
   "nbconvert_exporter": "python",
   "pygments_lexer": "ipython3",
   "version": "3.7.3"
  }
 },
 "nbformat": 4,
 "nbformat_minor": 2
}

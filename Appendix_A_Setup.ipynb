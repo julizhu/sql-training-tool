{
 "cells": [
  {
   "cell_type": "code",
   "execution_count": 3,
   "metadata": {},
   "outputs": [],
   "source": [
    "import pandas as pd"
   ]
  },
  {
   "cell_type": "code",
   "execution_count": 4,
   "metadata": {},
   "outputs": [],
   "source": [
    "actor = pd.read_csv(\"data/actor.csv\")\n",
    "film_actor = pd.read_csv(\"data/film_actor.csv\")\n",
    "customer = pd.read_csv(\"data/customer.csv\")\n",
    "film_category = pd.read_csv(\"data/film_category.csv\")\n",
    "films = pd.read_csv(\"data/films.csv\")\n",
    "language = pd.read_csv(\"data/language.csv\")\n",
    "rental = pd.read_csv(\"data/rental.csv\")"
   ]
  },
  {
   "cell_type": "code",
   "execution_count": 5,
   "metadata": {},
   "outputs": [
    {
     "name": "stdout",
     "output_type": "stream",
     "text": [
      "Stored 'actor' (DataFrame)\n",
      "Stored 'film_actor' (DataFrame)\n",
      "Stored 'customer' (DataFrame)\n",
      "Stored 'film_category' (DataFrame)\n",
      "Stored 'films' (DataFrame)\n",
      "Stored 'language' (DataFrame)\n",
      "Stored 'rental' (DataFrame)\n"
     ]
    }
   ],
   "source": [
    "%store actor\n",
    "%store film_actor\n",
    "%store customer\n",
    "%store film_category\n",
    "%store films\n",
    "%store language\n",
    "%store rental"
   ]
  }
 ],
 "metadata": {
  "kernelspec": {
   "display_name": "Python 3",
   "language": "python",
   "name": "python3"
  },
  "language_info": {
   "codemirror_mode": {
    "name": "ipython",
    "version": 3
   },
   "file_extension": ".py",
   "mimetype": "text/x-python",
   "name": "python",
   "nbconvert_exporter": "python",
   "pygments_lexer": "ipython3",
   "version": "3.6.5"
  }
 },
 "nbformat": 4,
 "nbformat_minor": 2
}
